{
 "cells": [
  {
   "cell_type": "markdown",
   "metadata": {},
   "source": [
    "In this notebook we prepare the data (data cleaning and feature engineering) for modelling."
   ]
  },
  {
   "cell_type": "markdown",
   "metadata": {},
   "source": [
    "# Load modules and data"
   ]
  },
  {
   "cell_type": "code",
   "execution_count": 1,
   "metadata": {
    "_cell_guid": "79c7e3d0-c299-4dcb-8224-4455121ee9b0",
    "_uuid": "d629ff2d2480ee46fbb7e2d37f6b5fab8052498a"
   },
   "outputs": [],
   "source": [
    "import gc\n",
    "import matplotlib.pyplot as plt\n",
    "import numpy as np \n",
    "import os\n",
    "import pandas as pd\n",
    "import pickle\n",
    "import re\n",
    "import seaborn as sns\n",
    "import time\n",
    "from itertools import product\n",
    "from sklearn.cluster import KMeans\n",
    "from sklearn.preprocessing import OrdinalEncoder\n",
    "\n",
    "pd.options.display.max_rows = None"
   ]
  },
  {
   "cell_type": "markdown",
   "metadata": {},
   "source": [
    "Read all the data files"
   ]
  },
  {
   "cell_type": "code",
   "execution_count": 2,
   "metadata": {},
   "outputs": [],
   "source": [
    "#items = pd.read_csv('kaggle/input/competitive-data-science-predict-future-sales/items.csv')\n",
    "items = pd.read_csv('kaggle/input/competitive-data-science-predict-future-sales-eng-translation/items.csv')\n",
    "#shops = pd.read_csv('kaggle/input/competitive-data-science-predict-future-sales/shops.csv')\n",
    "shops = pd.read_csv('kaggle/input/competitive-data-science-predict-future-sales-eng-translation/shops.csv')\n",
    "train = pd.read_csv('kaggle/input/competitive-data-science-predict-future-sales/sales_train.csv')\n",
    "test = pd.read_csv('kaggle/input/competitive-data-science-predict-future-sales/test.csv')\n",
    "sample_submission = pd.read_csv('kaggle/input/competitive-data-science-predict-future-sales/sample_submission.csv')\n",
    "item_categories = pd.read_csv('kaggle/input/competitive-data-science-predict-future-sales/item_categories.csv')"
   ]
  },
  {
   "cell_type": "markdown",
   "metadata": {},
   "source": [
    "Set the right time format."
   ]
  },
  {
   "cell_type": "code",
   "execution_count": 3,
   "metadata": {},
   "outputs": [],
   "source": [
    "train['date'] = pd.to_datetime(train['date'], format = '%d.%m.%Y')"
   ]
  },
  {
   "cell_type": "markdown",
   "metadata": {},
   "source": [
    "# Outliers"
   ]
  },
  {
   "cell_type": "code",
   "execution_count": 4,
   "metadata": {},
   "outputs": [
    {
     "data": {
      "text/plain": [
       "<AxesSubplot:xlabel='item_price'>"
      ]
     },
     "execution_count": 4,
     "metadata": {},
     "output_type": "execute_result"
    },
    {
     "data": {
      "image/png": "[encoded data removed]",
      "text/plain": [
       "<Figure size 1800x288 with 1 Axes>"
      ]
     },
     "metadata": {
      "needs_background": "light"
     },
     "output_type": "display_data"
    },
    {
     "data": {
      "image/png": "[encoded data removed]",
      "text/plain": [
       "<Figure size 1800x288 with 1 Axes>"
      ]
     },
     "metadata": {
      "needs_background": "light"
     },
     "output_type": "display_data"
    }
   ],
   "source": [
    "plt.figure(figsize = (25, 4))\n",
    "plt.xlim(-100, 3000)\n",
    "sns.boxplot(x = train.item_cnt_day)\n",
    "\n",
    "plt.figure(figsize = (25, 4))\n",
    "sns.boxplot(x = train.item_price)"
   ]
  },
  {
   "cell_type": "markdown",
   "metadata": {},
   "source": [
    "We remove item counts and prices that are clearly outliers."
   ]
  },
  {
   "cell_type": "code",
   "execution_count": 5,
   "metadata": {},
   "outputs": [],
   "source": [
    "train = train[train.item_cnt_day < 1001]\n",
    "train = train[train.item_price < 50000]"
   ]
  },
  {
   "cell_type": "markdown",
   "metadata": {},
   "source": [
    "We also remove an item where item_price < 0."
   ]
  },
  {
   "cell_type": "code",
   "execution_count": 6,
   "metadata": {},
   "outputs": [],
   "source": [
    "train = train[train.item_price > 0]"
   ]
  },
  {
   "cell_type": "markdown",
   "metadata": {},
   "source": [
    "There are duplicates of the shops' names, which we adjust for."
   ]
  },
  {
   "cell_type": "code",
   "execution_count": 7,
   "metadata": {},
   "outputs": [],
   "source": [
    "# Якутск Орджоникидзе, 56\n",
    "train.loc[train.shop_id == 0, 'shop_id'] = 57\n",
    "test.loc[test.shop_id == 0, 'shop_id'] = 57\n",
    "# Якутск ТЦ \"Центральный\"\n",
    "train.loc[train.shop_id == 1, 'shop_id'] = 58\n",
    "test.loc[test.shop_id == 1, 'shop_id'] = 58\n",
    "# Жуковский ул. Чкалова 39м²\n",
    "train.loc[train.shop_id == 10, 'shop_id'] = 11\n",
    "test.loc[test.shop_id == 10, 'shop_id'] = 11"
   ]
  },
  {
   "cell_type": "markdown",
   "metadata": {},
   "source": [
    "We remove shops that do not appear in the test set."
   ]
  },
  {
   "cell_type": "code",
   "execution_count": 8,
   "metadata": {},
   "outputs": [
    {
     "data": {
      "text/plain": [
       "0.8274540472858912"
      ]
     },
     "execution_count": 8,
     "metadata": {},
     "output_type": "execute_result"
    }
   ],
   "source": [
    "len(train[train['shop_id'].isin(test.shop_id.unique())]) / len(train)"
   ]
  },
  {
   "cell_type": "code",
   "execution_count": 9,
   "metadata": {},
   "outputs": [],
   "source": [
    "#train = train[train['shop_id'].isin(test.shop_id.unique())]"
   ]
  },
  {
   "cell_type": "markdown",
   "metadata": {},
   "source": [
    "Add the first day the item was sold."
   ]
  },
  {
   "cell_type": "code",
   "execution_count": 10,
   "metadata": {},
   "outputs": [],
   "source": [
    "train['first_sale_day'] = train.date.dt.dayofyear \n",
    "train['first_sale_day'] += 365 * (train.date.dt.year-2013)\n",
    "train['first_sale_day'] = train.groupby('item_id')['first_sale_day'].transform('min').astype('int16')"
   ]
  },
  {
   "cell_type": "markdown",
   "metadata": {},
   "source": [
    "Calculate the proportion of weekly sales that occurred on each weekday at each shop."
   ]
  },
  {
   "cell_type": "code",
   "execution_count": 11,
   "metadata": {},
   "outputs": [],
   "source": [
    "train['weekday'] = train.date.dt.dayofweek\n",
    "\n",
    "temp = train.groupby(['shop_id','weekday']).agg({'item_cnt_day':'sum'}).reset_index()\n",
    "temp = pd.merge(temp, train.groupby(['shop_id']).agg({'item_cnt_day':'sum'}).reset_index(), on = 'shop_id', \\\n",
    "                how = 'left')\n",
    "temp.columns = ['shop_id','weekday', 'shop_day_sales', 'shop_total_sales']\n",
    "temp['day_quality'] = temp['shop_day_sales'] / temp['shop_total_sales']\n",
    "temp = temp[['shop_id','weekday','day_quality']]\n",
    "\n",
    "dates = pd.DataFrame(data={'date':pd.date_range(start='2013-01-01',end='2015-11-30')})\n",
    "dates['weekday'] = dates.date.dt.dayofweek\n",
    "dates['month'] = dates.date.dt.month\n",
    "dates['year'] = dates.date.dt.year - 2013\n",
    "dates['date_block_num'] = dates['year']*12 + dates['month'] - 1\n",
    "dates['first_day_of_month'] = dates.date.dt.dayofyear\n",
    "dates['first_day_of_month'] += 365 * dates['year']\n",
    "dates = dates.join(temp.set_index('weekday'), on='weekday')\n",
    "dates = dates.groupby(['date_block_num','shop_id','month','year']).agg({'day_quality':'sum',\\\n",
    "                                                                        'first_day_of_month':'min'}).reset_index()"
   ]
  },
  {
   "cell_type": "markdown",
   "metadata": {},
   "source": [
    "# Preprocessing of shops, categories and items"
   ]
  },
  {
   "cell_type": "markdown",
   "metadata": {},
   "source": [
    "## Shops"
   ]
  },
  {
   "cell_type": "code",
   "execution_count": 12,
   "metadata": {},
   "outputs": [
    {
     "data": {
      "text/html": [
       "<div>\n",
       "<style scoped>\n",
       "    .dataframe tbody tr th:only-of-type {\n",
       "        vertical-align: middle;\n",
       "    }\n",
       "\n",
       "    .dataframe tbody tr th {\n",
       "        vertical-align: top;\n",
       "    }\n",
       "\n",
       "    .dataframe thead th {\n",
       "        text-align: right;\n",
       "    }\n",
       "</style>\n",
       "<table border=\"1\" class=\"dataframe\">\n",
       "  <thead>\n",
       "    <tr style=\"text-align: right;\">\n",
       "      <th></th>\n",
       "      <th>shop_name</th>\n",
       "      <th>shop_id</th>\n",
       "    </tr>\n",
       "  </thead>\n",
       "  <tbody>\n",
       "    <tr>\n",
       "      <th>0</th>\n",
       "      <td>! Yakutsk Ordzhonikidze, 56 francs</td>\n",
       "      <td>0</td>\n",
       "    </tr>\n",
       "    <tr>\n",
       "      <th>1</th>\n",
       "      <td>! Yakutsk TC \"Central\" fran</td>\n",
       "      <td>1</td>\n",
       "    </tr>\n",
       "    <tr>\n",
       "      <th>2</th>\n",
       "      <td>Adygea TC \"Mega\"</td>\n",
       "      <td>2</td>\n",
       "    </tr>\n",
       "    <tr>\n",
       "      <th>3</th>\n",
       "      <td>Balashikha TC \"Oktyabr-Kinomir\"</td>\n",
       "      <td>3</td>\n",
       "    </tr>\n",
       "    <tr>\n",
       "      <th>4</th>\n",
       "      <td>Volga TC \"Volga Mall\"</td>\n",
       "      <td>4</td>\n",
       "    </tr>\n",
       "  </tbody>\n",
       "</table>\n",
       "</div>"
      ],
      "text/plain": [
       "                            shop_name  shop_id\n",
       "0  ! Yakutsk Ordzhonikidze, 56 francs        0\n",
       "1         ! Yakutsk TC \"Central\" fran        1\n",
       "2                    Adygea TC \"Mega\"        2\n",
       "3     Balashikha TC \"Oktyabr-Kinomir\"        3\n",
       "4               Volga TC \"Volga Mall\"        4"
      ]
     },
     "execution_count": 12,
     "metadata": {},
     "output_type": "execute_result"
    }
   ],
   "source": [
    "shops.head()"
   ]
  },
  {
   "cell_type": "markdown",
   "metadata": {},
   "source": [
    "We start by cleaning up shop_names.\n",
    "\n",
    "Each shop_name starts with the name of the city the shop is located in (with some exceptions). \n",
    "This information might be important.\n",
    "\n",
    "We can also extract the shop_type from shop_name"
   ]
  },
  {
   "cell_type": "code",
   "execution_count": 13,
   "metadata": {},
   "outputs": [
    {
     "data": {
      "text/html": [
       "<div>\n",
       "<style scoped>\n",
       "    .dataframe tbody tr th:only-of-type {\n",
       "        vertical-align: middle;\n",
       "    }\n",
       "\n",
       "    .dataframe tbody tr th {\n",
       "        vertical-align: top;\n",
       "    }\n",
       "\n",
       "    .dataframe thead th {\n",
       "        text-align: right;\n",
       "    }\n",
       "</style>\n",
       "<table border=\"1\" class=\"dataframe\">\n",
       "  <thead>\n",
       "    <tr style=\"text-align: right;\">\n",
       "      <th></th>\n",
       "      <th>shop_name</th>\n",
       "      <th>shop_id</th>\n",
       "      <th>city</th>\n",
       "      <th>category</th>\n",
       "    </tr>\n",
       "  </thead>\n",
       "  <tbody>\n",
       "    <tr>\n",
       "      <th>0</th>\n",
       "      <td>yakutsk ordzhonikidze 56 francs</td>\n",
       "      <td>0</td>\n",
       "      <td>yakutsk</td>\n",
       "      <td>regular</td>\n",
       "    </tr>\n",
       "    <tr>\n",
       "      <th>1</th>\n",
       "      <td>yakutsk tc central fran</td>\n",
       "      <td>1</td>\n",
       "      <td>yakutsk</td>\n",
       "      <td>tc</td>\n",
       "    </tr>\n",
       "    <tr>\n",
       "      <th>2</th>\n",
       "      <td>adygea tc mega</td>\n",
       "      <td>2</td>\n",
       "      <td>adygea</td>\n",
       "      <td>mall</td>\n",
       "    </tr>\n",
       "    <tr>\n",
       "      <th>3</th>\n",
       "      <td>balashikha tc oktyabrkinomir</td>\n",
       "      <td>3</td>\n",
       "      <td>balashikha</td>\n",
       "      <td>tc</td>\n",
       "    </tr>\n",
       "    <tr>\n",
       "      <th>4</th>\n",
       "      <td>volga tc volga mall</td>\n",
       "      <td>4</td>\n",
       "      <td>volga</td>\n",
       "      <td>mall</td>\n",
       "    </tr>\n",
       "  </tbody>\n",
       "</table>\n",
       "</div>"
      ],
      "text/plain": [
       "                         shop_name  shop_id        city category\n",
       "0  yakutsk ordzhonikidze 56 francs        0     yakutsk  regular\n",
       "1          yakutsk tc central fran        1     yakutsk       tc\n",
       "2                   adygea tc mega        2      adygea     mall\n",
       "3     balashikha tc oktyabrkinomir        3  balashikha       tc\n",
       "4              volga tc volga mall        4       volga     mall"
      ]
     },
     "execution_count": 13,
     "metadata": {},
     "output_type": "execute_result"
    }
   ],
   "source": [
    "shops['shop_name'] = shops['shop_name'].str.lower()\n",
    "shops['shop_name'] = shops['shop_name'].str.replace(r'[^\\w\\d\\s]', '', regex = True)\n",
    "shops['shop_name'] = shops['shop_name'].str.replace('sergiev posad', 'sergievposad')\n",
    "shops['shop_name'] = shops['shop_name'].str.replace('st petersburg', 'stpetersburg')\n",
    "shops['shop_name'] = shops['shop_name'].str.replace('rostovnadonu', 'rostovnadon')\n",
    "shops['shop_name'] = shops['shop_name'].str.strip()\n",
    "\n",
    "shops['city'] = shops['shop_name'].str.split(' ').map(lambda x: x[0])\n",
    "shops['category'] = 'regular'\n",
    "\n",
    "shops.loc[shops['shop_name'].str.contains(r'tc'), 'category'] = 'tc'\n",
    "shops.loc[shops['shop_name'].str.contains(r'mall|center|mega'), 'category'] = 'mall'\n",
    "shops.loc[shops['shop_id'].isin([9,20]), 'category'] = 'special'\n",
    "shops.loc[shops['shop_id'].isin([12,55]), 'category'] = 'online'\n",
    "\n",
    "shops.loc[shops['shop_id'].isin([12,55]), 'city'] = 'online'\n",
    "\n",
    "shops.head()"
   ]
  },
  {
   "cell_type": "code",
   "execution_count": 14,
   "metadata": {},
   "outputs": [],
   "source": [
    "#plt.figure(figsize = (30, 10))\n",
    "#sns.countplot(x = 'category', data = shops)"
   ]
  },
  {
   "cell_type": "markdown",
   "metadata": {},
   "source": [
    "We only keep a category if there are 5 or more shops of that category, otherwise we set 'Other'."
   ]
  },
  {
   "cell_type": "code",
   "execution_count": 15,
   "metadata": {},
   "outputs": [],
   "source": [
    "#categories = []\n",
    "#for cat in shops.category.unique():\n",
    "#    if len(shops[shops.category == cat]) >= 5:\n",
    "#        categories.append(cat)\n",
    "#shops.category = shops.category.apply(lambda x: x if (x in categories) else 'Other')"
   ]
  },
  {
   "cell_type": "code",
   "execution_count": 16,
   "metadata": {},
   "outputs": [],
   "source": [
    "#plt.figure(figsize = (30, 10))\n",
    "#g = sns.countplot(x = 'city', data = shops)\n",
    "#g.set_xticklabels(g.get_xticklabels(), rotation = 45)\n",
    "#None"
   ]
  },
  {
   "cell_type": "markdown",
   "metadata": {},
   "source": [
    "One city (Moscow) is found much more frequently than the others.\n",
    "\n",
    "We only keep a city if there are 2 or more of them. \n",
    "\n",
    "**Note:** In the early xgb models we've trained, city_code was not used as a feature at all, so it's worth trying."
   ]
  },
  {
   "cell_type": "code",
   "execution_count": 17,
   "metadata": {},
   "outputs": [],
   "source": [
    "#shops[['city_code', 'category_code']] = OrdinalEncoder().fit_transform(shops[['city', 'category']])"
   ]
  },
  {
   "cell_type": "code",
   "execution_count": 18,
   "metadata": {},
   "outputs": [],
   "source": [
    "#shops"
   ]
  },
  {
   "cell_type": "code",
   "execution_count": 19,
   "metadata": {},
   "outputs": [
    {
     "data": {
      "text/html": [
       "<div>\n",
       "<style scoped>\n",
       "    .dataframe tbody tr th:only-of-type {\n",
       "        vertical-align: middle;\n",
       "    }\n",
       "\n",
       "    .dataframe tbody tr th {\n",
       "        vertical-align: top;\n",
       "    }\n",
       "\n",
       "    .dataframe thead th {\n",
       "        text-align: right;\n",
       "    }\n",
       "</style>\n",
       "<table border=\"1\" class=\"dataframe\">\n",
       "  <thead>\n",
       "    <tr style=\"text-align: right;\">\n",
       "      <th></th>\n",
       "      <th>shop_id</th>\n",
       "      <th>category_code</th>\n",
       "      <th>city_code</th>\n",
       "    </tr>\n",
       "  </thead>\n",
       "  <tbody>\n",
       "    <tr>\n",
       "      <th>0</th>\n",
       "      <td>0</td>\n",
       "      <td>2.0</td>\n",
       "      <td>27.0</td>\n",
       "    </tr>\n",
       "    <tr>\n",
       "      <th>1</th>\n",
       "      <td>1</td>\n",
       "      <td>4.0</td>\n",
       "      <td>27.0</td>\n",
       "    </tr>\n",
       "    <tr>\n",
       "      <th>2</th>\n",
       "      <td>2</td>\n",
       "      <td>0.0</td>\n",
       "      <td>0.0</td>\n",
       "    </tr>\n",
       "    <tr>\n",
       "      <th>3</th>\n",
       "      <td>3</td>\n",
       "      <td>4.0</td>\n",
       "      <td>1.0</td>\n",
       "    </tr>\n",
       "    <tr>\n",
       "      <th>4</th>\n",
       "      <td>4</td>\n",
       "      <td>0.0</td>\n",
       "      <td>24.0</td>\n",
       "    </tr>\n",
       "  </tbody>\n",
       "</table>\n",
       "</div>"
      ],
      "text/plain": [
       "   shop_id  category_code  city_code\n",
       "0        0            2.0       27.0\n",
       "1        1            4.0       27.0\n",
       "2        2            0.0        0.0\n",
       "3        3            4.0        1.0\n",
       "4        4            0.0       24.0"
      ]
     },
     "execution_count": 19,
     "metadata": {},
     "output_type": "execute_result"
    }
   ],
   "source": [
    "#cities = []\n",
    "#for city in shops.city.unique():\n",
    "#    if len(shops[shops.city == city]) >= 2:\n",
    "#        cities.append(city)\n",
    "#shops.city = shops.city.apply(lambda x: x if (x in cities) else 'Other')\n",
    "\n",
    "#shops[\"category_code\"] = OrdinalEncoder().fit_transform(shops.category.values.reshape(1, -1))[0]\n",
    "#shops[\"city_code\"] = OrdinalEncoder().fit_transform(shops.city.values.reshape(1, -1))[0]\n",
    "\n",
    "shops[['city_code', 'category_code']] = OrdinalEncoder().fit_transform(shops[['city', 'category']])\n",
    "\n",
    "shops = shops[[\"shop_id\", \"category_code\", \"city_code\"]]\n",
    "\n",
    "shops.head()"
   ]
  },
  {
   "cell_type": "markdown",
   "metadata": {},
   "source": [
    "## Categories"
   ]
  },
  {
   "cell_type": "code",
   "execution_count": 20,
   "metadata": {},
   "outputs": [
    {
     "data": {
      "text/html": [
       "<div>\n",
       "<style scoped>\n",
       "    .dataframe tbody tr th:only-of-type {\n",
       "        vertical-align: middle;\n",
       "    }\n",
       "\n",
       "    .dataframe tbody tr th {\n",
       "        vertical-align: top;\n",
       "    }\n",
       "\n",
       "    .dataframe thead th {\n",
       "        text-align: right;\n",
       "    }\n",
       "</style>\n",
       "<table border=\"1\" class=\"dataframe\">\n",
       "  <thead>\n",
       "    <tr style=\"text-align: right;\">\n",
       "      <th></th>\n",
       "      <th>item_category_name</th>\n",
       "      <th>item_category_id</th>\n",
       "    </tr>\n",
       "  </thead>\n",
       "  <tbody>\n",
       "    <tr>\n",
       "      <th>0</th>\n",
       "      <td>PC - Гарнитуры/Наушники</td>\n",
       "      <td>0</td>\n",
       "    </tr>\n",
       "    <tr>\n",
       "      <th>1</th>\n",
       "      <td>Аксессуары - PS2</td>\n",
       "      <td>1</td>\n",
       "    </tr>\n",
       "    <tr>\n",
       "      <th>2</th>\n",
       "      <td>Аксессуары - PS3</td>\n",
       "      <td>2</td>\n",
       "    </tr>\n",
       "    <tr>\n",
       "      <th>3</th>\n",
       "      <td>Аксессуары - PS4</td>\n",
       "      <td>3</td>\n",
       "    </tr>\n",
       "    <tr>\n",
       "      <th>4</th>\n",
       "      <td>Аксессуары - PSP</td>\n",
       "      <td>4</td>\n",
       "    </tr>\n",
       "  </tbody>\n",
       "</table>\n",
       "</div>"
      ],
      "text/plain": [
       "        item_category_name  item_category_id\n",
       "0  PC - Гарнитуры/Наушники                 0\n",
       "1         Аксессуары - PS2                 1\n",
       "2         Аксессуары - PS3                 2\n",
       "3         Аксессуары - PS4                 3\n",
       "4         Аксессуары - PSP                 4"
      ]
     },
     "execution_count": 20,
     "metadata": {},
     "output_type": "execute_result"
    }
   ],
   "source": [
    "item_categories.head()"
   ]
  },
  {
   "cell_type": "markdown",
   "metadata": {},
   "source": [
    "Each category contains a type and subtype (with some exceptions). We also perform some cleaning"
   ]
  },
  {
   "cell_type": "code",
   "execution_count": 21,
   "metadata": {},
   "outputs": [],
   "source": [
    "item_categories['split'] = item_categories['item_category_name'].str.split('-')\n",
    "item_categories['type'] = item_categories['split'].map(lambda x: x[0].strip()) # All leading and trailing\n",
    "# whitespaces are removed from the string\n",
    "item_categories['subtype'] = item_categories['split'].map(lambda x: x[1].strip() if len(x) > 1 else x[0].strip())\n",
    "# If subtype is not available we set type as subtype."
   ]
  },
  {
   "cell_type": "code",
   "execution_count": 22,
   "metadata": {},
   "outputs": [
    {
     "data": {
      "image/png": "[encoded data removed]",
      "text/plain": [
       "<Figure size 1800x288 with 1 Axes>"
      ]
     },
     "metadata": {
      "needs_background": "light"
     },
     "output_type": "display_data"
    }
   ],
   "source": [
    "plt.figure(figsize = (25, 4))\n",
    "g = sns.countplot(x = 'type', data = item_categories)\n",
    "g.set_xticklabels(g.get_xticklabels(), rotation = 45)\n",
    "None"
   ]
  },
  {
   "cell_type": "markdown",
   "metadata": {},
   "source": [
    "We only keep a type if there are 5 or more of them. From the feature importances of the models we've already trained we know that this is not a very important feature, so binning might improve it."
   ]
  },
  {
   "cell_type": "code",
   "execution_count": 23,
   "metadata": {},
   "outputs": [],
   "source": [
    "types = []\n",
    "for my_type in item_categories.type.unique():\n",
    "    if len(item_categories[item_categories.type == my_type]) >= 5: \n",
    "        types.append(my_type)\n",
    "item_categories.type = item_categories.type.apply(lambda x: x if (x in types) else \"Other\")"
   ]
  },
  {
   "cell_type": "code",
   "execution_count": 24,
   "metadata": {},
   "outputs": [
    {
     "data": {
      "image/png": "[encoded data removed]",
      "text/plain": [
       "<Figure size 1800x288 with 1 Axes>"
      ]
     },
     "metadata": {
      "needs_background": "light"
     },
     "output_type": "display_data"
    }
   ],
   "source": [
    "plt.figure(figsize = (25, 4))\n",
    "g = sns.countplot(x = 'subtype', data = item_categories)\n",
    "g.set_xticklabels(g.get_xticklabels(), rotation = 90)\n",
    "None"
   ]
  },
  {
   "cell_type": "markdown",
   "metadata": {},
   "source": [
    "From the models we have trained previously we can see that subtype is already quite important as a feature, so we leave it as it is."
   ]
  },
  {
   "cell_type": "code",
   "execution_count": 25,
   "metadata": {},
   "outputs": [
    {
     "data": {
      "text/html": [
       "<div>\n",
       "<style scoped>\n",
       "    .dataframe tbody tr th:only-of-type {\n",
       "        vertical-align: middle;\n",
       "    }\n",
       "\n",
       "    .dataframe tbody tr th {\n",
       "        vertical-align: top;\n",
       "    }\n",
       "\n",
       "    .dataframe thead th {\n",
       "        text-align: right;\n",
       "    }\n",
       "</style>\n",
       "<table border=\"1\" class=\"dataframe\">\n",
       "  <thead>\n",
       "    <tr style=\"text-align: right;\">\n",
       "      <th></th>\n",
       "      <th>item_category_id</th>\n",
       "      <th>type_code</th>\n",
       "      <th>subtype_code</th>\n",
       "    </tr>\n",
       "  </thead>\n",
       "  <tbody>\n",
       "    <tr>\n",
       "      <th>0</th>\n",
       "      <td>0</td>\n",
       "      <td>0.0</td>\n",
       "      <td>29.0</td>\n",
       "    </tr>\n",
       "    <tr>\n",
       "      <th>1</th>\n",
       "      <td>1</td>\n",
       "      <td>1.0</td>\n",
       "      <td>9.0</td>\n",
       "    </tr>\n",
       "    <tr>\n",
       "      <th>2</th>\n",
       "      <td>2</td>\n",
       "      <td>1.0</td>\n",
       "      <td>10.0</td>\n",
       "    </tr>\n",
       "    <tr>\n",
       "      <th>3</th>\n",
       "      <td>3</td>\n",
       "      <td>1.0</td>\n",
       "      <td>11.0</td>\n",
       "    </tr>\n",
       "    <tr>\n",
       "      <th>4</th>\n",
       "      <td>4</td>\n",
       "      <td>1.0</td>\n",
       "      <td>13.0</td>\n",
       "    </tr>\n",
       "  </tbody>\n",
       "</table>\n",
       "</div>"
      ],
      "text/plain": [
       "   item_category_id  type_code  subtype_code\n",
       "0                 0        0.0          29.0\n",
       "1                 1        1.0           9.0\n",
       "2                 2        1.0          10.0\n",
       "3                 3        1.0          11.0\n",
       "4                 4        1.0          13.0"
      ]
     },
     "execution_count": 25,
     "metadata": {},
     "output_type": "execute_result"
    }
   ],
   "source": [
    "#item_categories['type_code'] = OrdinalEncoder().fit_transform(item_categories.type.values.reshape(1, -1))[0]\n",
    "#item_categories['subtype_code'] = OrdinalEncoder().fit_transform(item_categories.subtype.values.reshape(1, -1))[0]\n",
    "\n",
    "item_categories[['type_code', 'subtype_code']] = OrdinalEncoder().fit_transform(item_categories[['type', \\\n",
    "                                                                                                 'subtype']])\n",
    "\n",
    "item_categories = item_categories[['item_category_id','type_code', 'subtype_code']]\n",
    "\n",
    "item_categories.head()"
   ]
  },
  {
   "cell_type": "markdown",
   "metadata": {},
   "source": [
    "## Items"
   ]
  },
  {
   "cell_type": "code",
   "execution_count": 26,
   "metadata": {},
   "outputs": [
    {
     "data": {
      "text/html": [
       "<div>\n",
       "<style scoped>\n",
       "    .dataframe tbody tr th:only-of-type {\n",
       "        vertical-align: middle;\n",
       "    }\n",
       "\n",
       "    .dataframe tbody tr th {\n",
       "        vertical-align: top;\n",
       "    }\n",
       "\n",
       "    .dataframe thead th {\n",
       "        text-align: right;\n",
       "    }\n",
       "</style>\n",
       "<table border=\"1\" class=\"dataframe\">\n",
       "  <thead>\n",
       "    <tr style=\"text-align: right;\">\n",
       "      <th></th>\n",
       "      <th>item_id</th>\n",
       "      <th>category_id</th>\n",
       "      <th>item_name</th>\n",
       "    </tr>\n",
       "  </thead>\n",
       "  <tbody>\n",
       "    <tr>\n",
       "      <th>0</th>\n",
       "      <td>0</td>\n",
       "      <td>40</td>\n",
       "      <td>!! IN THE POWER OF HAPPINESS (PLAST) D</td>\n",
       "    </tr>\n",
       "    <tr>\n",
       "      <th>1</th>\n",
       "      <td>1</td>\n",
       "      <td>76</td>\n",
       "      <td>! ABBYY FineReader 12 Professional Edition Ful...</td>\n",
       "    </tr>\n",
       "    <tr>\n",
       "      <th>2</th>\n",
       "      <td>2</td>\n",
       "      <td>40</td>\n",
       "      <td>*** IN THE GLORY OF THE GLORY (UNV) D</td>\n",
       "    </tr>\n",
       "    <tr>\n",
       "      <th>3</th>\n",
       "      <td>3</td>\n",
       "      <td>40</td>\n",
       "      <td>*** BLUE WAVE (Univ) D</td>\n",
       "    </tr>\n",
       "    <tr>\n",
       "      <th>4</th>\n",
       "      <td>4</td>\n",
       "      <td>40</td>\n",
       "      <td>*** BOX (GLASS) D</td>\n",
       "    </tr>\n",
       "  </tbody>\n",
       "</table>\n",
       "</div>"
      ],
      "text/plain": [
       "   item_id  category_id                                          item_name\n",
       "0        0           40             !! IN THE POWER OF HAPPINESS (PLAST) D\n",
       "1        1           76  ! ABBYY FineReader 12 Professional Edition Ful...\n",
       "2        2           40              *** IN THE GLORY OF THE GLORY (UNV) D\n",
       "3        3           40                             *** BLUE WAVE (Univ) D\n",
       "4        4           40                                  *** BOX (GLASS) D"
      ]
     },
     "execution_count": 26,
     "metadata": {},
     "output_type": "execute_result"
    }
   ],
   "source": [
    "items.head()"
   ]
  },
  {
   "cell_type": "markdown",
   "metadata": {},
   "source": [
    "We will do some corrections of item_name."
   ]
  },
  {
   "cell_type": "code",
   "execution_count": 27,
   "metadata": {},
   "outputs": [],
   "source": [
    "def name_correction(x):\n",
    "    x = x.lower() # Make all letters lower case.\n",
    "    x = x.partition('[')[0] # Partition by square brackets.\n",
    "    x = x.partition('(')[0] # Partition by curly brackets.\n",
    "    x = re.sub('[^A-Za-z0-9А-Яа-я]+', ' ', x) # Remove special characters.\n",
    "    x = x.replace('  ', ' ') # Replace double spaces with single spaces.\n",
    "    x = x.strip() # Remove leading and trailing white space.\n",
    "    x = x.replace('.', '')\n",
    "    return x"
   ]
  },
  {
   "cell_type": "markdown",
   "metadata": {},
   "source": [
    "Split item_name into two parts (depending on which type of bracket is found)."
   ]
  },
  {
   "cell_type": "code",
   "execution_count": 28,
   "metadata": {},
   "outputs": [],
   "source": [
    "items[[\"item_name1\", \"item_name2\"]] = items.item_name.str.split(\"[\", 1, expand = True)\n",
    "items[[\"item_name1\", \"item_name3\"]] = items.item_name.str.split(\"(\", 1, expand = True)\n",
    "\n",
    "items[\"item_name2\"] = items.item_name2.str.replace('[^A-Za-z0-9А-Яа-я]+', \" \", regex = True).str.lower()\n",
    "items[\"item_name3\"] = items.item_name3.str.replace('[^A-Za-z0-9А-Яа-я]+', \" \", regex = True).str.lower()\n",
    "\n",
    "items = items.fillna('0')"
   ]
  },
  {
   "cell_type": "markdown",
   "metadata": {},
   "source": [
    "Clean and simplify item_name, and create a new feature consisting of the first eleven characters of the string."
   ]
  },
  {
   "cell_type": "code",
   "execution_count": 29,
   "metadata": {},
   "outputs": [
    {
     "data": {
      "text/html": [
       "<div>\n",
       "<style scoped>\n",
       "    .dataframe tbody tr th:only-of-type {\n",
       "        vertical-align: middle;\n",
       "    }\n",
       "\n",
       "    .dataframe tbody tr th {\n",
       "        vertical-align: top;\n",
       "    }\n",
       "\n",
       "    .dataframe thead th {\n",
       "        text-align: right;\n",
       "    }\n",
       "</style>\n",
       "<table border=\"1\" class=\"dataframe\">\n",
       "  <thead>\n",
       "    <tr style=\"text-align: right;\">\n",
       "      <th></th>\n",
       "      <th>item_id</th>\n",
       "      <th>category_id</th>\n",
       "      <th>item_name</th>\n",
       "      <th>item_name1</th>\n",
       "      <th>item_name2</th>\n",
       "      <th>item_name3</th>\n",
       "      <th>item_name_first11</th>\n",
       "    </tr>\n",
       "  </thead>\n",
       "  <tbody>\n",
       "    <tr>\n",
       "      <th>0</th>\n",
       "      <td>0</td>\n",
       "      <td>40</td>\n",
       "      <td>power   happiness</td>\n",
       "      <td>!! IN THE POWER OF HAPPINESS</td>\n",
       "      <td>0</td>\n",
       "      <td>plast d</td>\n",
       "      <td>powerhappin</td>\n",
       "    </tr>\n",
       "    <tr>\n",
       "      <th>1</th>\n",
       "      <td>1</td>\n",
       "      <td>76</td>\n",
       "      <td>abbyy finereader 12 professional edition full</td>\n",
       "      <td>! ABBYY FineReader 12 Professional Edition Ful...</td>\n",
       "      <td>pc digital version</td>\n",
       "      <td>0</td>\n",
       "      <td>abbyyfinere</td>\n",
       "    </tr>\n",
       "    <tr>\n",
       "      <th>2</th>\n",
       "      <td>2</td>\n",
       "      <td>40</td>\n",
       "      <td>glory     glory</td>\n",
       "      <td>*** IN THE GLORY OF THE GLORY</td>\n",
       "      <td>0</td>\n",
       "      <td>unv d</td>\n",
       "      <td>gloryglory</td>\n",
       "    </tr>\n",
       "    <tr>\n",
       "      <th>3</th>\n",
       "      <td>3</td>\n",
       "      <td>40</td>\n",
       "      <td>blue wave</td>\n",
       "      <td>*** BLUE WAVE</td>\n",
       "      <td>0</td>\n",
       "      <td>univ d</td>\n",
       "      <td>bluewave</td>\n",
       "    </tr>\n",
       "    <tr>\n",
       "      <th>4</th>\n",
       "      <td>4</td>\n",
       "      <td>40</td>\n",
       "      <td>box</td>\n",
       "      <td>*** BOX</td>\n",
       "      <td>0</td>\n",
       "      <td>glass d</td>\n",
       "      <td>box</td>\n",
       "    </tr>\n",
       "  </tbody>\n",
       "</table>\n",
       "</div>"
      ],
      "text/plain": [
       "   item_id  category_id                                      item_name  \\\n",
       "0        0           40                              power   happiness   \n",
       "1        1           76  abbyy finereader 12 professional edition full   \n",
       "2        2           40                                glory     glory   \n",
       "3        3           40                                      blue wave   \n",
       "4        4           40                                            box   \n",
       "\n",
       "                                          item_name1           item_name2  \\\n",
       "0                      !! IN THE POWER OF HAPPINESS                     0   \n",
       "1  ! ABBYY FineReader 12 Professional Edition Ful...  pc digital version    \n",
       "2                     *** IN THE GLORY OF THE GLORY                     0   \n",
       "3                                     *** BLUE WAVE                     0   \n",
       "4                                           *** BOX                     0   \n",
       "\n",
       "  item_name3 item_name_first11  \n",
       "0    plast d       powerhappin  \n",
       "1          0       abbyyfinere  \n",
       "2      unv d        gloryglory  \n",
       "3     univ d          bluewave  \n",
       "4    glass d               box  "
      ]
     },
     "execution_count": 29,
     "metadata": {},
     "output_type": "execute_result"
    }
   ],
   "source": [
    "items[\"item_name\"] = items[\"item_name\"].apply(lambda x: name_correction(x))\n",
    "\n",
    "for i in [r'[^\\w\\d\\s\\.]', r'\\bthe\\b', r'\\bin\\b', r'\\bis\\b', r'\\bfor\\b', r'\\bof\\b', r'\\bon\\b', r'\\band\\b',r'\\bto\\b',\n",
    "          r'\\bwith\\b' , r'\\byo\\b']:\n",
    "    items['item_name'] = items['item_name'].str.replace(i, ' ', regex = True)\n",
    "    \n",
    "items['item_name'] = items['item_name'].str.replace(r'\\b.\\b', ' ', regex = True)\n",
    "\n",
    "items['item_name_no_space'] = items['item_name'].str.replace(' ', '')\n",
    "\n",
    "items['item_name_first11'] = [x[:11] for x in items['item_name_no_space']]\n",
    "\n",
    "#items['item_name_first11'] = OrdinalEncoder().fit_transform(items['item_name_first11'].values.reshape(-1, 1))\n",
    "\n",
    "del items['item_name_no_space']\n",
    "\n",
    "items.head()"
   ]
  },
  {
   "cell_type": "markdown",
   "metadata": {},
   "source": [
    "Set type column and clean it."
   ]
  },
  {
   "cell_type": "code",
   "execution_count": 30,
   "metadata": {},
   "outputs": [],
   "source": [
    "items[\"type\"] = items.item_name2.apply(lambda x: x[0:8] if x.split(\" \")[0] == \"xbox\" else x.split(\" \")[0] )\n",
    "items.loc[(items.type == \"x360\") | (items.type == \"xbox360\") | (items.type == \"xbox 360\") , \"type\"] = \"xbox 360\"\n",
    "items.loc[items.type == \"\", \"type\"] = \"mac\"\n",
    "items.type = items.type.apply(lambda x: x.replace(\" \", \"\"))\n",
    "items.loc[(items.type == 'pc' ) | (items.type == 'pс') | (items.type == \"pc\"), \"type\"] = \"pc\"\n",
    "items.loc[items.type == 'рs3', \"type\"] = \"ps3\""
   ]
  },
  {
   "cell_type": "markdown",
   "metadata": {},
   "source": [
    "'0' and 'pc' occur much more frequently than the other categories, so we don't plot them."
   ]
  },
  {
   "cell_type": "code",
   "execution_count": 31,
   "metadata": {
    "scrolled": true
   },
   "outputs": [
    {
     "data": {
      "image/png": "[encoded data removed]",
      "text/plain": [
       "<Figure size 1800x288 with 1 Axes>"
      ]
     },
     "metadata": {
      "needs_background": "light"
     },
     "output_type": "display_data"
    }
   ],
   "source": [
    "plt.figure(figsize = (25, 4))\n",
    "g = sns.countplot(x = \"type\", data = items[~items.type.isin([\"0\", \"pc\"])], \\\n",
    "                  order = items[~items.type.isin([\"0\", \"pc\"])]['type'].value_counts().index)\n",
    "g.set_xticklabels(g.get_xticklabels(), rotation = 90)\n",
    "None"
   ]
  },
  {
   "cell_type": "markdown",
   "metadata": {},
   "source": [
    "We only consider types that occur more than 40 times."
   ]
  },
  {
   "cell_type": "code",
   "execution_count": 32,
   "metadata": {},
   "outputs": [
    {
     "data": {
      "text/html": [
       "<div>\n",
       "<style scoped>\n",
       "    .dataframe tbody tr th:only-of-type {\n",
       "        vertical-align: middle;\n",
       "    }\n",
       "\n",
       "    .dataframe tbody tr th {\n",
       "        vertical-align: top;\n",
       "    }\n",
       "\n",
       "    .dataframe thead th {\n",
       "        text-align: right;\n",
       "    }\n",
       "</style>\n",
       "<table border=\"1\" class=\"dataframe\">\n",
       "  <thead>\n",
       "    <tr style=\"text-align: right;\">\n",
       "      <th></th>\n",
       "      <th>item_id</th>\n",
       "      <th>category_id</th>\n",
       "      <th>item_name2</th>\n",
       "      <th>item_name3</th>\n",
       "      <th>item_name_first11</th>\n",
       "    </tr>\n",
       "  </thead>\n",
       "  <tbody>\n",
       "    <tr>\n",
       "      <th>0</th>\n",
       "      <td>0</td>\n",
       "      <td>40</td>\n",
       "      <td>2.0</td>\n",
       "      <td>1315.0</td>\n",
       "      <td>7822.0</td>\n",
       "    </tr>\n",
       "    <tr>\n",
       "      <th>1</th>\n",
       "      <td>1</td>\n",
       "      <td>76</td>\n",
       "      <td>46.0</td>\n",
       "      <td>37.0</td>\n",
       "      <td>230.0</td>\n",
       "    </tr>\n",
       "    <tr>\n",
       "      <th>2</th>\n",
       "      <td>2</td>\n",
       "      <td>40</td>\n",
       "      <td>2.0</td>\n",
       "      <td>1641.0</td>\n",
       "      <td>4236.0</td>\n",
       "    </tr>\n",
       "    <tr>\n",
       "      <th>3</th>\n",
       "      <td>3</td>\n",
       "      <td>40</td>\n",
       "      <td>2.0</td>\n",
       "      <td>1640.0</td>\n",
       "      <td>1445.0</td>\n",
       "    </tr>\n",
       "    <tr>\n",
       "      <th>4</th>\n",
       "      <td>4</td>\n",
       "      <td>40</td>\n",
       "      <td>2.0</td>\n",
       "      <td>960.0</td>\n",
       "      <td>1619.0</td>\n",
       "    </tr>\n",
       "  </tbody>\n",
       "</table>\n",
       "</div>"
      ],
      "text/plain": [
       "   item_id  category_id  item_name2  item_name3  item_name_first11\n",
       "0        0           40         2.0      1315.0             7822.0\n",
       "1        1           76        46.0        37.0              230.0\n",
       "2        2           40         2.0      1641.0             4236.0\n",
       "3        3           40         2.0      1640.0             1445.0\n",
       "4        4           40         2.0       960.0             1619.0"
      ]
     },
     "execution_count": 32,
     "metadata": {},
     "output_type": "execute_result"
    }
   ],
   "source": [
    "group_sum = items.groupby([\"type\"]).agg({\"item_id\": \"count\"})\n",
    "group_sum = group_sum.reset_index()\n",
    "drop_cats = []\n",
    "for cat in group_sum.type.unique():\n",
    "    if group_sum.loc[(group_sum.type == cat), \"item_id\"].values[0] <= 40:\n",
    "        drop_cats.append(cat)\n",
    "items.item_name2 = items.item_name2.apply(lambda x: \"Other\" if (x in drop_cats) else x )\n",
    "items = items.drop([\"type\"], axis = 1)\n",
    "\n",
    "#items.item_name2 = OrdinalEncoder().fit_transform(items.item_name2.values.reshape(1, -1))[0]\n",
    "#items.item_name3 = OrdinalEncoder().fit_transform(items.item_name3.values.reshape(1, -1))[0]\n",
    "\n",
    "items[['item_name2', 'item_name3', 'item_name_first11']] = OrdinalEncoder().\\\n",
    "fit_transform(items[['item_name2', 'item_name3', 'item_name_first11']])\n",
    "\n",
    "items = items.drop([\"item_name\", \"item_name1\"], axis = 1)\n",
    "\n",
    "items.head()"
   ]
  },
  {
   "cell_type": "markdown",
   "metadata": {},
   "source": [
    "# Monthly aggregation of data and feature engineering"
   ]
  },
  {
   "cell_type": "markdown",
   "metadata": {},
   "source": [
    "Add revenue as a feature."
   ]
  },
  {
   "cell_type": "code",
   "execution_count": 33,
   "metadata": {},
   "outputs": [],
   "source": [
    "train['revenue'] = train['item_cnt_day'] * train['item_price']"
   ]
  },
  {
   "cell_type": "markdown",
   "metadata": {},
   "source": [
    "Consider all possible pairs of item/shop in each date_block_num."
   ]
  },
  {
   "cell_type": "code",
   "execution_count": 34,
   "metadata": {},
   "outputs": [
    {
     "data": {
      "text/plain": [
       "9.144834756851196"
      ]
     },
     "execution_count": 34,
     "metadata": {},
     "output_type": "execute_result"
    }
   ],
   "source": [
    "index_cols = ['date_block_num', 'shop_id', 'item_id']\n",
    "\n",
    "# For every month we create a grid for all shop/item combinations from that month.\n",
    "grid = [] \n",
    "ts = time.time()\n",
    "for block_num in train['date_block_num'].unique():\n",
    "    cur_shops = train[train['date_block_num'] == block_num]['shop_id'].unique()\n",
    "    cur_items = train[train['date_block_num'] == block_num]['item_id'].unique()\n",
    "    grid.append(np.array(list(product([block_num], cur_shops, cur_items)), dtype = 'int16'))\n",
    "\n",
    "# Turn the grid into a pandas dataframe.\n",
    "grid = pd.DataFrame(np.vstack(grid), columns = index_cols, dtype = np.int32)\n",
    "\n",
    "grid.sort_values(index_cols, inplace = True)\n",
    "time.time() - ts"
   ]
  },
  {
   "cell_type": "markdown",
   "metadata": {},
   "source": [
    "Adjust the test set - add date_block_num = 34 (November 2015)."
   ]
  },
  {
   "cell_type": "code",
   "execution_count": 35,
   "metadata": {},
   "outputs": [],
   "source": [
    "test[\"date_block_num\"] = 34"
   ]
  },
  {
   "cell_type": "markdown",
   "metadata": {},
   "source": [
    "Concatenate train and test sets to make it easier to add features."
   ]
  },
  {
   "cell_type": "code",
   "execution_count": 36,
   "metadata": {},
   "outputs": [],
   "source": [
    "grid = pd.concat([grid, test.drop(\"ID\", axis = 1)], ignore_index = True, sort = False, keys = index_cols)"
   ]
  },
  {
   "cell_type": "markdown",
   "metadata": {},
   "source": [
    "## Add shops, items and item_categories features."
   ]
  },
  {
   "cell_type": "markdown",
   "metadata": {},
   "source": [
    "Add features related to the id of shops, items and categories."
   ]
  },
  {
   "cell_type": "code",
   "execution_count": 37,
   "metadata": {},
   "outputs": [
    {
     "data": {
      "text/plain": [
       "2.582657814025879"
      ]
     },
     "execution_count": 37,
     "metadata": {},
     "output_type": "execute_result"
    }
   ],
   "source": [
    "ts = time.time()\n",
    "grid = pd.merge(grid, shops, on = ['shop_id'], how = 'left')\n",
    "grid = pd.merge(grid, items, on = ['item_id'], how = 'left')\n",
    "#grid = pd.merge(grid, item_categories, on = ['item_category_id'], how = 'left')\n",
    "grid = pd.merge(grid, item_categories, left_on = 'category_id', right_on = 'item_category_id', how = 'left')\n",
    "time.time() - ts"
   ]
  },
  {
   "cell_type": "markdown",
   "metadata": {},
   "source": [
    "We also add features from the dataframe dates."
   ]
  },
  {
   "cell_type": "code",
   "execution_count": 38,
   "metadata": {},
   "outputs": [],
   "source": [
    "grid = pd.merge(grid, dates.drop('month', axis = 1), on = ['date_block_num','shop_id'], how = 'left')"
   ]
  },
  {
   "cell_type": "markdown",
   "metadata": {},
   "source": [
    "## Add first_sale_day and prev_days_on_sale"
   ]
  },
  {
   "cell_type": "code",
   "execution_count": 39,
   "metadata": {},
   "outputs": [
    {
     "data": {
      "text/plain": [
       "5.423037528991699"
      ]
     },
     "execution_count": 39,
     "metadata": {},
     "output_type": "execute_result"
    }
   ],
   "source": [
    "ts = time.time()\n",
    "train_monthly = train.groupby(index_cols).agg({'first_sale_day':['first']})\n",
    "train_monthly.columns = ['first_sale_day']\n",
    "train_monthly = train_monthly.reset_index()\n",
    "grid = pd.merge(grid, train_monthly, on = index_cols, how = \"left\").fillna(0)\n",
    "time.time() - ts"
   ]
  },
  {
   "cell_type": "code",
   "execution_count": 40,
   "metadata": {},
   "outputs": [
    {
     "data": {
      "text/plain": [
       "4.649478912353516"
      ]
     },
     "execution_count": 40,
     "metadata": {},
     "output_type": "execute_result"
    }
   ],
   "source": [
    "ts = time.time()\n",
    "grid['first_sale_day'] = grid.groupby('item_id')['first_sale_day'].transform('max').astype('int16')\n",
    "grid.loc[grid['first_sale_day'] == 0, 'first_sale_day'] = 1035 # first_day_of_month for date_block_num = 34\n",
    "grid['prev_days_on_sale'] = [max(idx) for idx in zip(grid['first_day_of_month'] - grid['first_sale_day'], \\\n",
    "                                                     [0] * len(grid))]\n",
    "del grid['first_day_of_month']\n",
    "time.time() - ts"
   ]
  },
  {
   "cell_type": "markdown",
   "metadata": {},
   "source": [
    "## Target variable and target lags"
   ]
  },
  {
   "cell_type": "markdown",
   "metadata": {},
   "source": [
    "Obtain the target."
   ]
  },
  {
   "cell_type": "code",
   "execution_count": 41,
   "metadata": {},
   "outputs": [
    {
     "data": {
      "text/plain": [
       "4.64244532585144"
      ]
     },
     "execution_count": 41,
     "metadata": {},
     "output_type": "execute_result"
    }
   ],
   "source": [
    "ts = time.time()\n",
    "train_monthly = train.groupby(index_cols).agg({'item_cnt_day':['sum']})\n",
    "train_monthly.columns = ['item_cnt_month_shop_item']\n",
    "train_monthly = train_monthly.reset_index()\n",
    "grid = pd.merge(grid, train_monthly, on = index_cols, how = \"left\" )\n",
    "time.time() - ts"
   ]
  },
  {
   "cell_type": "markdown",
   "metadata": {},
   "source": [
    "Fill NaNs with 0 in the target and clip to the range [0, 20] (the range that will be considered on evaluation)."
   ]
  },
  {
   "cell_type": "code",
   "execution_count": 42,
   "metadata": {},
   "outputs": [],
   "source": [
    "grid['item_cnt_month_shop_item'] = grid['item_cnt_month_shop_item'].fillna(0).clip(0,20)"
   ]
  },
  {
   "cell_type": "markdown",
   "metadata": {},
   "source": [
    "Define the function we use to get lagged values of relevant aggregated quantities and the lags we will use (in general)."
   ]
  },
  {
   "cell_type": "code",
   "execution_count": 43,
   "metadata": {},
   "outputs": [],
   "source": [
    "def lag_feature(df, lags, cols):\n",
    "    for col in cols:\n",
    "        print('Adding lagged feature(s) for:', col)\n",
    "        tmp = df[index_cols + [col]]\n",
    "        for i in lags:\n",
    "            shifted = tmp.copy()            \n",
    "            shifted.columns = index_cols + [col + \"_lag_\" + str(i)]\n",
    "            shifted.date_block_num = shifted.date_block_num + i\n",
    "            df = pd.merge(df, shifted, on = index_cols, how = 'left')\n",
    "    return df\n",
    "\n",
    "lags = [1, 2, 3]"
   ]
  },
  {
   "cell_type": "markdown",
   "metadata": {},
   "source": [
    "Add lags of the target."
   ]
  },
  {
   "cell_type": "code",
   "execution_count": 44,
   "metadata": {},
   "outputs": [
    {
     "name": "stdout",
     "output_type": "stream",
     "text": [
      "Adding lagged feature(s) for: item_cnt_month_shop_item\n"
     ]
    },
    {
     "data": {
      "text/plain": [
       "16.313982009887695"
      ]
     },
     "execution_count": 44,
     "metadata": {},
     "output_type": "execute_result"
    }
   ],
   "source": [
    "ts = time.time()\n",
    "grid = lag_feature(grid, lags, ['item_cnt_month_shop_item'])\n",
    "time.time() - ts"
   ]
  },
  {
   "cell_type": "markdown",
   "metadata": {},
   "source": [
    "Downcast to save memory."
   ]
  },
  {
   "cell_type": "code",
   "execution_count": 45,
   "metadata": {},
   "outputs": [],
   "source": [
    "def downcast(df):\n",
    "    for col in grid.columns:\n",
    "        if df[col].dtype == 'int64':\n",
    "            df[col] = df[col].astype(np.int16)\n",
    "        if df[col].dtype == 'float64':\n",
    "            df[col] = df[col].astype(np.float16)\n",
    "    return(df)\n",
    "\n",
    "grid = downcast(grid)"
   ]
  },
  {
   "cell_type": "markdown",
   "metadata": {},
   "source": [
    "## Add cluster of shops and shop_type\n",
    "\n",
    "Cluster the shops based on the proportion of the sales they make in each category."
   ]
  },
  {
   "cell_type": "code",
   "execution_count": 46,
   "metadata": {},
   "outputs": [],
   "source": [
    "shops_cats = pd.DataFrame(\n",
    "    np.array(list(product(*[grid['shop_id'].unique(), grid['category_id'].unique()]))),\n",
    "    columns = ['shop_id', 'category_id']\n",
    ")\n",
    "temp = grid.groupby(['category_id', 'shop_id']).agg({'item_cnt_month_shop_item':'sum'}).reset_index()\n",
    "temp2 = temp.groupby('shop_id').agg({'item_cnt_month_shop_item':'sum'}).rename(columns = {'item_cnt_month_shop_item':'shop_total'})\n",
    "temp = temp.join(temp2, on = 'shop_id')\n",
    "temp['category_proportion'] = temp['item_cnt_month_shop_item'] / temp['shop_total']\n",
    "temp = temp[['shop_id', 'category_id', 'category_proportion']]\n",
    "shops_cats = pd.merge(shops_cats, temp, on = ['shop_id', 'category_id'], how = 'left')\n",
    "shops_cats = shops_cats.fillna(0)\n",
    "\n",
    "shops_cats = shops_cats.pivot(index = 'shop_id', columns = ['category_id'])\n",
    "kmeans = KMeans(n_clusters = 7, random_state = 0).fit(shops_cats)\n",
    "shops_cats['shop_cluster'] = kmeans.labels_.astype('int8')\n",
    "\n",
    "shops = shops.join(shops_cats['shop_cluster'], on = 'shop_id')"
   ]
  },
  {
   "cell_type": "markdown",
   "metadata": {},
   "source": [
    "## Mean encoded features"
   ]
  },
  {
   "cell_type": "markdown",
   "metadata": {},
   "source": [
    "Add aggregated values for date_block_num, shop_id and item_id (index_cols)."
   ]
  },
  {
   "cell_type": "code",
   "execution_count": 47,
   "metadata": {},
   "outputs": [
    {
     "name": "stdout",
     "output_type": "stream",
     "text": [
      "Adding lagged feature(s) for: item_cnt_month_shop_item_mean\n",
      "Adding lagged feature(s) for: item_price_month_shop_item_mean\n",
      "Adding lagged feature(s) for: revenue_month_shop_item\n"
     ]
    },
    {
     "data": {
      "text/plain": [
       "50.38040328025818"
      ]
     },
     "execution_count": 47,
     "metadata": {},
     "output_type": "execute_result"
    }
   ],
   "source": [
    "ts = time.time()\n",
    "train_monthly = train.groupby(index_cols).agg({'item_cnt_day':['mean'], 'item_price':['mean'], 'revenue':['sum'], })\n",
    "train_monthly.columns = ['item_cnt_month_shop_item_mean', 'item_price_month_shop_item_mean', 'revenue_month_shop_item']\n",
    "train_monthly = train_monthly.reset_index()\n",
    "\n",
    "grid = pd.merge(grid, train_monthly, on = index_cols, how = \"left\" )\n",
    "\n",
    "grid = lag_feature(grid, lags, ['item_cnt_month_shop_item_mean', 'item_price_month_shop_item_mean', 'revenue_month_shop_item'])\n",
    "\n",
    "grid = grid.drop(['item_cnt_month_shop_item_mean', 'item_price_month_shop_item_mean', 'revenue_month_shop_item'], axis = 1)\n",
    "time.time()- ts"
   ]
  },
  {
   "cell_type": "markdown",
   "metadata": {},
   "source": [
    "**Note:** We must drop item_cnt_month_shop_item_mean, item_price_month_shop_item_mean and revenue_month_shop_item, otherwise we have data leakage (information extracted from the target is contained in a feature). item_cnt_month_shop_item is our target, so we keep it for now."
   ]
  },
  {
   "cell_type": "code",
   "execution_count": 48,
   "metadata": {},
   "outputs": [],
   "source": [
    "grid = downcast(grid)"
   ]
  },
  {
   "cell_type": "markdown",
   "metadata": {},
   "source": [
    "Add aggregated values for date_block_num and shop_id."
   ]
  },
  {
   "cell_type": "code",
   "execution_count": 49,
   "metadata": {},
   "outputs": [
    {
     "name": "stdout",
     "output_type": "stream",
     "text": [
      "Adding lagged feature(s) for: item_cnt_month_shop_mean\n",
      "Adding lagged feature(s) for: item_price_month_shop_mean\n",
      "Adding lagged feature(s) for: revenue_month_shop\n"
     ]
    },
    {
     "data": {
      "text/plain": [
       "54.913445234298706"
      ]
     },
     "execution_count": 49,
     "metadata": {},
     "output_type": "execute_result"
    }
   ],
   "source": [
    "ts = time.time()\n",
    "train_monthly = train.groupby(['date_block_num', 'shop_id']).agg({'item_cnt_day':['mean'], 'item_price':['mean'], 'revenue':['sum']})\n",
    "train_monthly.columns = ['item_cnt_month_shop_mean',  'item_price_month_shop_mean', 'revenue_month_shop']\n",
    "train_monthly = train_monthly.reset_index()\n",
    "\n",
    "grid = pd.merge(grid, train_monthly, on = ['date_block_num', 'shop_id'], how = \"left\" )\n",
    "\n",
    "grid = lag_feature(grid, lags, ['item_cnt_month_shop_mean', 'item_price_month_shop_mean', 'revenue_month_shop'])\n",
    "\n",
    "grid = grid.drop(['item_cnt_month_shop_mean', 'item_price_month_shop_mean', 'revenue_month_shop'], axis = 1)\n",
    "time.time()- ts"
   ]
  },
  {
   "cell_type": "code",
   "execution_count": 50,
   "metadata": {},
   "outputs": [],
   "source": [
    "grid = downcast(grid)"
   ]
  },
  {
   "cell_type": "markdown",
   "metadata": {},
   "source": [
    "Add aggregated values for date_block_num and item_id."
   ]
  },
  {
   "cell_type": "code",
   "execution_count": 51,
   "metadata": {},
   "outputs": [
    {
     "name": "stdout",
     "output_type": "stream",
     "text": [
      "Adding lagged feature(s) for: item_cnt_month_item_mean\n",
      "Adding lagged feature(s) for: item_price_month_item_mean\n",
      "Adding lagged feature(s) for: revenue_month_item\n"
     ]
    },
    {
     "data": {
      "text/plain": [
       "62.302067279815674"
      ]
     },
     "execution_count": 51,
     "metadata": {},
     "output_type": "execute_result"
    }
   ],
   "source": [
    "ts = time.time()\n",
    "train_monthly = train.groupby(['date_block_num', 'item_id']).agg({'item_cnt_day':['mean'], 'item_price':['mean'], 'revenue':['sum']})\n",
    "train_monthly.columns = ['item_cnt_month_item_mean', 'item_price_month_item_mean', 'revenue_month_item']\n",
    "train_monthly = train_monthly.reset_index()\n",
    "\n",
    "grid = pd.merge(grid, train_monthly, on = ['date_block_num', 'item_id'], how = \"left\" )\n",
    "\n",
    "grid = lag_feature(grid, lags, ['item_cnt_month_item_mean', 'item_price_month_item_mean', 'revenue_month_item'])\n",
    "\n",
    "grid = grid.drop(['item_cnt_month_item_mean', 'item_price_month_item_mean', 'revenue_month_item'], axis = 1)\n",
    "time.time()- ts"
   ]
  },
  {
   "cell_type": "code",
   "execution_count": 52,
   "metadata": {},
   "outputs": [],
   "source": [
    "grid = downcast(grid)"
   ]
  },
  {
   "cell_type": "markdown",
   "metadata": {},
   "source": [
    "Add aggregated values only for date_block_num."
   ]
  },
  {
   "cell_type": "code",
   "execution_count": 53,
   "metadata": {},
   "outputs": [
    {
     "name": "stdout",
     "output_type": "stream",
     "text": [
      "Adding lagged feature(s) for: item_cnt_month_mean\n"
     ]
    },
    {
     "data": {
      "text/plain": [
       "26.812099933624268"
      ]
     },
     "execution_count": 53,
     "metadata": {},
     "output_type": "execute_result"
    }
   ],
   "source": [
    "ts = time.time()\n",
    "train_monthly = train.groupby('date_block_num').agg({'item_cnt_day':['mean']})\n",
    "train_monthly.columns = ['item_cnt_month_mean']\n",
    "train_monthly = train_monthly.reset_index()\n",
    "\n",
    "grid = pd.merge(grid, train_monthly, on = ['date_block_num'], how = \"left\" )\n",
    "\n",
    "grid = lag_feature(grid, lags, ['item_cnt_month_mean'])\n",
    "\n",
    "grid = grid.drop('item_cnt_month_mean', axis = 1)\n",
    "time.time()- ts"
   ]
  },
  {
   "cell_type": "code",
   "execution_count": 54,
   "metadata": {},
   "outputs": [],
   "source": [
    "grid = downcast(grid)"
   ]
  },
  {
   "cell_type": "markdown",
   "metadata": {},
   "source": [
    "Add aggregated values for date_block_num and item_category_id."
   ]
  },
  {
   "cell_type": "code",
   "execution_count": 55,
   "metadata": {},
   "outputs": [
    {
     "name": "stdout",
     "output_type": "stream",
     "text": [
      "Adding lagged feature(s) for: item_cnt_month_item_cat_mean\n"
     ]
    },
    {
     "data": {
      "text/plain": [
       "29.20666003227234"
      ]
     },
     "execution_count": 55,
     "metadata": {},
     "output_type": "execute_result"
    }
   ],
   "source": [
    "ts = time.time()\n",
    "grid_agg = grid.groupby(['date_block_num', 'item_category_id']).agg({'item_cnt_month_shop_item':['mean']})\n",
    "grid_agg.columns = ['item_cnt_month_item_cat_mean']\n",
    "grid_agg = grid_agg.reset_index()\n",
    "\n",
    "grid = pd.merge(grid, grid_agg, on = ['date_block_num', 'item_category_id'], how = \"left\" )\n",
    "\n",
    "grid = lag_feature(grid, lags, ['item_cnt_month_item_cat_mean'])\n",
    "\n",
    "grid = grid.drop('item_cnt_month_item_cat_mean', axis = 1)\n",
    "time.time()- ts"
   ]
  },
  {
   "cell_type": "code",
   "execution_count": 56,
   "metadata": {},
   "outputs": [],
   "source": [
    "grid = downcast(grid)"
   ]
  },
  {
   "cell_type": "markdown",
   "metadata": {},
   "source": [
    "Add aggregated values for date_block_num, shop_id and item_category_id."
   ]
  },
  {
   "cell_type": "code",
   "execution_count": 57,
   "metadata": {},
   "outputs": [
    {
     "name": "stdout",
     "output_type": "stream",
     "text": [
      "Adding lagged feature(s) for: item_cnt_month_shop_item_cat_mean\n"
     ]
    },
    {
     "data": {
      "text/plain": [
       "30.863685607910156"
      ]
     },
     "execution_count": 57,
     "metadata": {},
     "output_type": "execute_result"
    }
   ],
   "source": [
    "ts = time.time()\n",
    "grid_agg = grid.groupby(['date_block_num', 'shop_id', 'item_category_id']).agg({'item_cnt_month_shop_item':['mean']})\n",
    "grid_agg.columns = ['item_cnt_month_shop_item_cat_mean']\n",
    "grid_agg = grid_agg.reset_index()\n",
    "\n",
    "grid = pd.merge(grid, grid_agg, on = ['date_block_num', 'shop_id', 'item_category_id'], how = \"left\" )\n",
    "\n",
    "grid = lag_feature(grid, lags, ['item_cnt_month_shop_item_cat_mean'])\n",
    "\n",
    "grid = grid.drop('item_cnt_month_shop_item_cat_mean', axis = 1)\n",
    "time.time()- ts"
   ]
  },
  {
   "cell_type": "code",
   "execution_count": 58,
   "metadata": {},
   "outputs": [],
   "source": [
    "grid = downcast(grid)"
   ]
  },
  {
   "cell_type": "markdown",
   "metadata": {},
   "source": [
    "Add aggregated values for date_block_num, shop_id and type_code."
   ]
  },
  {
   "cell_type": "code",
   "execution_count": 59,
   "metadata": {},
   "outputs": [
    {
     "name": "stdout",
     "output_type": "stream",
     "text": [
      "Adding lagged feature(s) for: item_cnt_month_shop_type_code_mean\n"
     ]
    },
    {
     "data": {
      "text/plain": [
       "32.67710065841675"
      ]
     },
     "execution_count": 59,
     "metadata": {},
     "output_type": "execute_result"
    }
   ],
   "source": [
    "ts = time.time()\n",
    "grid_agg = grid.groupby(['date_block_num', 'shop_id', 'type_code']).agg({'item_cnt_month_shop_item':['mean']})\n",
    "grid_agg.columns = ['item_cnt_month_shop_type_code_mean']\n",
    "grid_agg = grid_agg.reset_index()\n",
    "\n",
    "grid = pd.merge(grid, grid_agg, on = ['date_block_num', 'shop_id', 'type_code'], how = \"left\" )\n",
    "\n",
    "grid = lag_feature(grid, lags, ['item_cnt_month_shop_type_code_mean'])\n",
    "\n",
    "grid = grid.drop('item_cnt_month_shop_type_code_mean', axis = 1)\n",
    "time.time()- ts"
   ]
  },
  {
   "cell_type": "code",
   "execution_count": 60,
   "metadata": {},
   "outputs": [],
   "source": [
    "grid = downcast(grid)"
   ]
  },
  {
   "cell_type": "markdown",
   "metadata": {},
   "source": [
    "Add aggregated values for date_block_num, shop_id and subtype_code."
   ]
  },
  {
   "cell_type": "code",
   "execution_count": 61,
   "metadata": {},
   "outputs": [
    {
     "name": "stdout",
     "output_type": "stream",
     "text": [
      "Adding lagged feature(s) for: item_cnt_month_shop_subtype_code_mean\n"
     ]
    },
    {
     "data": {
      "text/plain": [
       "33.71464014053345"
      ]
     },
     "execution_count": 61,
     "metadata": {},
     "output_type": "execute_result"
    }
   ],
   "source": [
    "ts = time.time()\n",
    "grid_agg = grid.groupby(['date_block_num', 'shop_id', 'subtype_code']).agg({'item_cnt_month_shop_item':['mean']})\n",
    "grid_agg.columns = ['item_cnt_month_shop_subtype_code_mean']\n",
    "grid_agg = grid_agg.reset_index()\n",
    "\n",
    "grid = pd.merge(grid, grid_agg, on = ['date_block_num', 'shop_id', 'subtype_code'], how = \"left\" )\n",
    "\n",
    "grid = lag_feature(grid, lags, ['item_cnt_month_shop_subtype_code_mean'])\n",
    "\n",
    "grid = grid.drop('item_cnt_month_shop_subtype_code_mean', axis = 1)\n",
    "time.time()- ts"
   ]
  },
  {
   "cell_type": "code",
   "execution_count": 62,
   "metadata": {},
   "outputs": [],
   "source": [
    "grid = downcast(grid)"
   ]
  },
  {
   "cell_type": "markdown",
   "metadata": {},
   "source": [
    "Add aggregated values for date_block_num and city_code."
   ]
  },
  {
   "cell_type": "code",
   "execution_count": 63,
   "metadata": {},
   "outputs": [
    {
     "name": "stdout",
     "output_type": "stream",
     "text": [
      "Adding lagged feature(s) for: item_cnt_month_city_code_mean\n"
     ]
    },
    {
     "data": {
      "text/plain": [
       "34.493595123291016"
      ]
     },
     "execution_count": 63,
     "metadata": {},
     "output_type": "execute_result"
    }
   ],
   "source": [
    "ts = time.time()\n",
    "grid_agg = grid.groupby(['date_block_num', 'city_code']).agg({'item_cnt_month_shop_item':['mean']})\n",
    "grid_agg.columns = ['item_cnt_month_city_code_mean']\n",
    "grid_agg = grid_agg.reset_index()\n",
    "\n",
    "grid = pd.merge(grid, grid_agg, on = ['date_block_num', 'city_code'], how = \"left\" )\n",
    "\n",
    "grid = lag_feature(grid, lags, ['item_cnt_month_city_code_mean'])\n",
    "\n",
    "grid = grid.drop('item_cnt_month_city_code_mean', axis = 1)\n",
    "time.time()- ts"
   ]
  },
  {
   "cell_type": "code",
   "execution_count": 64,
   "metadata": {},
   "outputs": [],
   "source": [
    "grid = downcast(grid)"
   ]
  },
  {
   "cell_type": "markdown",
   "metadata": {},
   "source": [
    "Add aggregated values for date_block_num, shop_id and city_code."
   ]
  },
  {
   "cell_type": "code",
   "execution_count": 65,
   "metadata": {},
   "outputs": [
    {
     "name": "stdout",
     "output_type": "stream",
     "text": [
      "Adding lagged feature(s) for: item_cnt_month_shop_city_code_mean\n"
     ]
    },
    {
     "data": {
      "text/plain": [
       "35.820948362350464"
      ]
     },
     "execution_count": 65,
     "metadata": {},
     "output_type": "execute_result"
    }
   ],
   "source": [
    "ts = time.time()\n",
    "grid_agg = grid.groupby(['date_block_num', 'shop_id', 'city_code']).agg({'item_cnt_month_shop_item':['mean']})\n",
    "grid_agg.columns = ['item_cnt_month_shop_city_code_mean']\n",
    "grid_agg = grid_agg.reset_index()\n",
    "\n",
    "grid = pd.merge(grid, grid_agg, on = ['date_block_num', 'shop_id', 'city_code'], how = \"left\" )\n",
    "\n",
    "grid = lag_feature(grid, lags, ['item_cnt_month_shop_city_code_mean'])\n",
    "\n",
    "grid = grid.drop('item_cnt_month_shop_city_code_mean', axis = 1)\n",
    "time.time()- ts"
   ]
  },
  {
   "cell_type": "code",
   "execution_count": 66,
   "metadata": {},
   "outputs": [],
   "source": [
    "grid = downcast(grid)"
   ]
  },
  {
   "cell_type": "markdown",
   "metadata": {},
   "source": [
    "Add aggregated values for date_block_num, item_id and city_code."
   ]
  },
  {
   "cell_type": "code",
   "execution_count": 67,
   "metadata": {},
   "outputs": [
    {
     "name": "stdout",
     "output_type": "stream",
     "text": [
      "Adding lagged feature(s) for: item_cnt_month_item_city_code_mean\n"
     ]
    },
    {
     "data": {
      "text/plain": [
       "41.88607597351074"
      ]
     },
     "execution_count": 67,
     "metadata": {},
     "output_type": "execute_result"
    }
   ],
   "source": [
    "ts = time.time()\n",
    "grid_agg = grid.groupby(['date_block_num', 'item_id', 'city_code']).agg({'item_cnt_month_shop_item':['mean']})\n",
    "grid_agg.columns = ['item_cnt_month_item_city_code_mean']\n",
    "grid_agg = grid_agg.reset_index()\n",
    "\n",
    "grid = pd.merge(grid, grid_agg, on = ['date_block_num', 'item_id', 'city_code'], how = \"left\" )\n",
    "\n",
    "grid = lag_feature(grid, lags, ['item_cnt_month_item_city_code_mean'])\n",
    "\n",
    "grid = grid.drop('item_cnt_month_item_city_code_mean', axis = 1)\n",
    "time.time()- ts"
   ]
  },
  {
   "cell_type": "code",
   "execution_count": 68,
   "metadata": {},
   "outputs": [],
   "source": [
    "grid = downcast(grid)"
   ]
  },
  {
   "cell_type": "markdown",
   "metadata": {},
   "source": [
    "Add aggregated values for date_block_num and type_code."
   ]
  },
  {
   "cell_type": "code",
   "execution_count": 69,
   "metadata": {},
   "outputs": [
    {
     "name": "stdout",
     "output_type": "stream",
     "text": [
      "Adding lagged feature(s) for: item_cnt_month_type_code_mean\n"
     ]
    },
    {
     "data": {
      "text/plain": [
       "37.928889989852905"
      ]
     },
     "execution_count": 69,
     "metadata": {},
     "output_type": "execute_result"
    }
   ],
   "source": [
    "ts = time.time()\n",
    "grid_agg = grid.groupby(['date_block_num', 'type_code']).agg({'item_cnt_month_shop_item':['mean']})\n",
    "grid_agg.columns = ['item_cnt_month_type_code_mean']\n",
    "grid_agg = grid_agg.reset_index()\n",
    "\n",
    "grid = pd.merge(grid, grid_agg, on = ['date_block_num', 'type_code'], how = \"left\" )\n",
    "\n",
    "grid = lag_feature(grid, lags, ['item_cnt_month_type_code_mean'])\n",
    "\n",
    "grid = grid.drop('item_cnt_month_type_code_mean', axis = 1)\n",
    "time.time()- ts"
   ]
  },
  {
   "cell_type": "code",
   "execution_count": 70,
   "metadata": {},
   "outputs": [],
   "source": [
    "grid = downcast(grid)"
   ]
  },
  {
   "cell_type": "markdown",
   "metadata": {},
   "source": [
    "Add aggregated values for date_block_num and subtype_code."
   ]
  },
  {
   "cell_type": "code",
   "execution_count": 71,
   "metadata": {},
   "outputs": [
    {
     "name": "stdout",
     "output_type": "stream",
     "text": [
      "Adding lagged feature(s) for: item_cnt_month_subtype_code_mean\n"
     ]
    },
    {
     "data": {
      "text/plain": [
       "39.128056049346924"
      ]
     },
     "execution_count": 71,
     "metadata": {},
     "output_type": "execute_result"
    }
   ],
   "source": [
    "ts = time.time()\n",
    "grid_agg = grid.groupby(['date_block_num', 'subtype_code']).agg({'item_cnt_month_shop_item':['mean']})\n",
    "grid_agg.columns = ['item_cnt_month_subtype_code_mean']\n",
    "grid_agg = grid_agg.reset_index()\n",
    "\n",
    "grid = pd.merge(grid, grid_agg, on = ['date_block_num', 'subtype_code'], how = \"left\" )\n",
    "\n",
    "grid = lag_feature(grid, lags, ['item_cnt_month_subtype_code_mean'])\n",
    "\n",
    "grid = grid.drop('item_cnt_month_subtype_code_mean', axis = 1)\n",
    "time.time()- ts"
   ]
  },
  {
   "cell_type": "code",
   "execution_count": 72,
   "metadata": {},
   "outputs": [],
   "source": [
    "grid = downcast(grid)"
   ]
  },
  {
   "cell_type": "markdown",
   "metadata": {},
   "source": [
    "## Trend related features"
   ]
  },
  {
   "cell_type": "markdown",
   "metadata": {},
   "source": [
    "Add global average item_price (for train data), use lag values of item_price per month and add delta price values (how the current month's average price relates to the global average)."
   ]
  },
  {
   "cell_type": "code",
   "execution_count": 73,
   "metadata": {},
   "outputs": [
    {
     "data": {
      "text/plain": [
       "155.98460388183594"
      ]
     },
     "execution_count": 73,
     "metadata": {},
     "output_type": "execute_result"
    }
   ],
   "source": [
    "ts = time.time()\n",
    "train_agg = train[train['date_block_num'] < 33].groupby(['item_id']).agg({'item_price': ['mean']}) # In order to \n",
    "# avoid data leakage we exclude the validation period.\n",
    "train_agg.columns = ['item_price_item_mean']\n",
    "train_agg = train_agg.reset_index()\n",
    "\n",
    "grid = grid.merge(train_agg, on = ['item_id'], how = \"left\")\n",
    "\n",
    "for i in lags:\n",
    "    grid['delta_price_lag_' + str(i) ] = (grid['item_price_month_item_mean_lag_' + str(i)] - \\\n",
    "                                          grid['item_price_item_mean']) / grid['item_price_item_mean']\n",
    "    \n",
    "def select_trends(row): # Choose the first NaN value.\n",
    "    for i in lags:\n",
    "        if ~np.isnan(row[\"delta_price_lag_\" + str(i)]):\n",
    "            return row[\"delta_price_lag_\" + str(i)]\n",
    "    return 0\n",
    "\n",
    "grid = downcast(grid)\n",
    "\n",
    "grid['delta_price_lag'] = grid.apply(select_trends, axis = 1)\n",
    "grid['delta_price_lag'] = grid['delta_price_lag'].fillna(-999) # Let's try this and see if it works.\n",
    "\n",
    "features_to_drop = ['item_price_item_mean']\n",
    "for i in lags:    \n",
    "    features_to_drop += ['delta_price_lag_' + str(i)]\n",
    "\n",
    "grid.drop(features_to_drop, axis=1, inplace=True)\n",
    "time.time()- ts"
   ]
  },
  {
   "cell_type": "markdown",
   "metadata": {},
   "source": [
    "**Note:** For the test data, item_price_item_mean should be calculated for the entire time period (train + val) if we are to be completely consistent."
   ]
  },
  {
   "cell_type": "code",
   "execution_count": 74,
   "metadata": {},
   "outputs": [],
   "source": [
    "grid = downcast(grid)"
   ]
  },
  {
   "cell_type": "markdown",
   "metadata": {},
   "source": [
    "Add delta revenue values (how the last month's revenue relates to the global average)"
   ]
  },
  {
   "cell_type": "code",
   "execution_count": 75,
   "metadata": {},
   "outputs": [
    {
     "name": "stdout",
     "output_type": "stream",
     "text": [
      "Adding lagged feature(s) for: delta_revenue\n"
     ]
    },
    {
     "data": {
      "text/plain": [
       "30.895984411239624"
      ]
     },
     "execution_count": 75,
     "metadata": {},
     "output_type": "execute_result"
    }
   ],
   "source": [
    "ts = time.time()\n",
    "train_agg = train.groupby(['date_block_num', 'shop_id']).agg({'revenue': ['sum']})\n",
    "train_agg.columns = ['revenue_month_shop']\n",
    "train_agg = train_agg.reset_index()\n",
    "\n",
    "grid = pd.merge(grid, train_agg, on=['date_block_num','shop_id'], how='left')\n",
    "\n",
    "train_agg = train[train['date_block_num'] < 33].groupby(['shop_id']).agg({'revenue': ['mean']})\n",
    "train_agg.columns = ['revenue_shop_mean']\n",
    "train_agg = train_agg.reset_index()\n",
    "\n",
    "grid = grid.merge(train_agg, on = ['shop_id'], how = \"left\")\n",
    "\n",
    "grid['delta_revenue'] = (grid['revenue_month_shop'] - grid['revenue_shop_mean']) / grid['revenue_month_shop']\n",
    "\n",
    "grid = downcast(grid)\n",
    "\n",
    "grid = lag_feature(grid, [1], ['delta_revenue']) # Only consider one lag here.\n",
    "\n",
    "features_to_drop = ['revenue_month_shop', 'revenue_shop_mean', 'delta_revenue']\n",
    "grid.drop(features_to_drop, axis=1, inplace=True)\n",
    "time.time()- ts"
   ]
  },
  {
   "cell_type": "code",
   "execution_count": 76,
   "metadata": {},
   "outputs": [],
   "source": [
    "grid = downcast(grid)"
   ]
  },
  {
   "cell_type": "markdown",
   "metadata": {},
   "source": [
    "## Special features"
   ]
  },
  {
   "cell_type": "markdown",
   "metadata": {},
   "source": [
    "Add the number of the month as a feature."
   ]
  },
  {
   "cell_type": "code",
   "execution_count": 77,
   "metadata": {},
   "outputs": [],
   "source": [
    "grid['month'] = grid['date_block_num'] % 12"
   ]
  },
  {
   "cell_type": "markdown",
   "metadata": {},
   "source": [
    "Add the number of days in the month (no leap years)."
   ]
  },
  {
   "cell_type": "code",
   "execution_count": 78,
   "metadata": {},
   "outputs": [],
   "source": [
    "days = pd.Series([31,28,31,30,31,30,31,31,30,31,30,31])\n",
    "grid['no_days_in_month'] = grid['month'].map(days)"
   ]
  },
  {
   "cell_type": "code",
   "execution_count": 79,
   "metadata": {},
   "outputs": [],
   "source": [
    "grid = downcast(grid)"
   ]
  },
  {
   "cell_type": "markdown",
   "metadata": {},
   "source": [
    "Add the number of months since the last sale for each shop/item pair."
   ]
  },
  {
   "cell_type": "code",
   "execution_count": 80,
   "metadata": {},
   "outputs": [
    {
     "data": {
      "text/plain": [
       "143.13822054862976"
      ]
     },
     "execution_count": 80,
     "metadata": {},
     "output_type": "execute_result"
    }
   ],
   "source": [
    "ts = time.time()\n",
    "cache = {}\n",
    "grid['item_shop_last_sale'] = -999 \n",
    "for row in grid.itertuples():\n",
    "    idx = getattr(row,'Index')\n",
    "    item_id = getattr(row,'item_id')\n",
    "    shop_id = getattr(row,'shop_id')\n",
    "    date_block_num = getattr(row,'date_block_num')\n",
    "    item_cnt_month_shop_item = getattr(row,'item_cnt_month_shop_item')\n",
    "    key = str(item_id)+' '+str(shop_id)\n",
    "    if key not in cache:\n",
    "        if item_cnt_month_shop_item!=0:\n",
    "            cache[key] = date_block_num\n",
    "    else:\n",
    "        last_date_block_num = cache[key]\n",
    "        grid.at[idx, 'item_shop_last_sale'] = date_block_num - last_date_block_num\n",
    "        cache[key] = date_block_num\n",
    "time.time() - ts"
   ]
  },
  {
   "cell_type": "markdown",
   "metadata": {},
   "source": [
    "Add number of months since the last sale for each item."
   ]
  },
  {
   "cell_type": "code",
   "execution_count": 81,
   "metadata": {},
   "outputs": [
    {
     "data": {
      "text/plain": [
       "208.5228555202484"
      ]
     },
     "execution_count": 81,
     "metadata": {},
     "output_type": "execute_result"
    }
   ],
   "source": [
    "ts = time.time()\n",
    "cache = {}\n",
    "grid['item_last_sale'] = -999 \n",
    "for row in grid.itertuples():\n",
    "    idx = getattr(row,'Index')\n",
    "    item_id = getattr(row,'item_id')    \n",
    "    date_block_num = getattr(row,'date_block_num')\n",
    "    item_cnt_month_shop_item = getattr(row,'item_cnt_month_shop_item')\n",
    "    key = str(item_id)\n",
    "    if key not in cache:\n",
    "        if item_cnt_month_shop_item!=0:\n",
    "            cache[key] = date_block_num\n",
    "    else:\n",
    "        last_date_block_num = cache[key]\n",
    "        grid.at[idx, 'item_last_sale'] = date_block_num - last_date_block_num\n",
    "        cache[key] = date_block_num\n",
    "time.time() - ts"
   ]
  },
  {
   "cell_type": "markdown",
   "metadata": {},
   "source": [
    "Add number of months since the first sale for each shop/item pair, and only item respectively."
   ]
  },
  {
   "cell_type": "code",
   "execution_count": 82,
   "metadata": {},
   "outputs": [
    {
     "data": {
      "text/plain": [
       "1.287583827972412"
      ]
     },
     "execution_count": 82,
     "metadata": {},
     "output_type": "execute_result"
    }
   ],
   "source": [
    "ts = time.time()\n",
    "grid['item_shop_first_sale'] = grid['date_block_num'] - grid.groupby(['item_id','shop_id'])['date_block_num']\\\n",
    ".transform('min')\n",
    "grid['item_first_sale'] = grid['date_block_num'] - grid.groupby('item_id')['date_block_num'].transform('min')\n",
    "time.time() - ts"
   ]
  },
  {
   "cell_type": "code",
   "execution_count": 83,
   "metadata": {},
   "outputs": [],
   "source": [
    "grid = downcast(grid)"
   ]
  },
  {
   "cell_type": "markdown",
   "metadata": {},
   "source": [
    "## Final preparation"
   ]
  },
  {
   "cell_type": "markdown",
   "metadata": {},
   "source": [
    "Replace any eventual infinite values with 0."
   ]
  },
  {
   "cell_type": "code",
   "execution_count": 84,
   "metadata": {},
   "outputs": [],
   "source": [
    "grid = grid.replace(np.inf, 0)"
   ]
  },
  {
   "cell_type": "markdown",
   "metadata": {},
   "source": [
    "Delete the first three months from grid as they definitely do not have any lag values."
   ]
  },
  {
   "cell_type": "code",
   "execution_count": 85,
   "metadata": {},
   "outputs": [],
   "source": [
    "grid = grid[grid[\"date_block_num\"] > (len(lags) - 1)]"
   ]
  },
  {
   "cell_type": "code",
   "execution_count": 86,
   "metadata": {},
   "outputs": [
    {
     "data": {
      "text/plain": [
       "date_block_num                                       0\n",
       "shop_id                                              0\n",
       "item_id                                              0\n",
       "category_code                                        0\n",
       "city_code                                            0\n",
       "category_id                                          0\n",
       "item_name2                                           0\n",
       "item_name3                                           0\n",
       "item_name_first11                                    0\n",
       "item_category_id                                     0\n",
       "type_code                                            0\n",
       "subtype_code                                         0\n",
       "year                                                 0\n",
       "day_quality                                          0\n",
       "first_sale_day                                       0\n",
       "prev_days_on_sale                                    0\n",
       "item_cnt_month_shop_item                             0\n",
       "item_cnt_month_shop_item_lag_1                 1663973\n",
       "item_cnt_month_shop_item_lag_2                 1916015\n",
       "item_cnt_month_shop_item_lag_3                 2163676\n",
       "item_cnt_month_shop_item_mean_lag_1            6863863\n",
       "item_cnt_month_shop_item_mean_lag_2            6873972\n",
       "item_cnt_month_shop_item_mean_lag_3            6886099\n",
       "item_price_month_shop_item_mean_lag_1          6863863\n",
       "item_price_month_shop_item_mean_lag_2          6873972\n",
       "item_price_month_shop_item_mean_lag_3          6886099\n",
       "revenue_month_shop_item_lag_1                  6863863\n",
       "revenue_month_shop_item_lag_2                  6873972\n",
       "revenue_month_shop_item_lag_3                  6886099\n",
       "item_cnt_month_shop_mean_lag_1                 1663973\n",
       "item_cnt_month_shop_mean_lag_2                 1916015\n",
       "item_cnt_month_shop_mean_lag_3                 2163676\n",
       "item_price_month_shop_mean_lag_1               1663973\n",
       "item_price_month_shop_mean_lag_2               1916015\n",
       "item_price_month_shop_mean_lag_3               2163676\n",
       "revenue_month_shop_lag_1                       1663973\n",
       "revenue_month_shop_lag_2                       1916015\n",
       "revenue_month_shop_lag_3                       2163676\n",
       "item_cnt_month_item_mean_lag_1                 1663973\n",
       "item_cnt_month_item_mean_lag_2                 1916015\n",
       "item_cnt_month_item_mean_lag_3                 2163676\n",
       "item_price_month_item_mean_lag_1               1663973\n",
       "item_price_month_item_mean_lag_2               1916015\n",
       "item_price_month_item_mean_lag_3               2163676\n",
       "revenue_month_item_lag_1                       1663973\n",
       "revenue_month_item_lag_2                       1916015\n",
       "revenue_month_item_lag_3                       2163676\n",
       "item_cnt_month_mean_lag_1                      1663973\n",
       "item_cnt_month_mean_lag_2                      1916015\n",
       "item_cnt_month_mean_lag_3                      2163676\n",
       "item_cnt_month_item_cat_mean_lag_1             1663973\n",
       "item_cnt_month_item_cat_mean_lag_2             1916015\n",
       "item_cnt_month_item_cat_mean_lag_3             2163676\n",
       "item_cnt_month_shop_item_cat_mean_lag_1        1663973\n",
       "item_cnt_month_shop_item_cat_mean_lag_2        1916015\n",
       "item_cnt_month_shop_item_cat_mean_lag_3        2163676\n",
       "item_cnt_month_shop_type_code_mean_lag_1       1663973\n",
       "item_cnt_month_shop_type_code_mean_lag_2       1916015\n",
       "item_cnt_month_shop_type_code_mean_lag_3       2163676\n",
       "item_cnt_month_shop_subtype_code_mean_lag_1    1663973\n",
       "item_cnt_month_shop_subtype_code_mean_lag_2    1916015\n",
       "item_cnt_month_shop_subtype_code_mean_lag_3    2163676\n",
       "item_cnt_month_city_code_mean_lag_1            1663973\n",
       "item_cnt_month_city_code_mean_lag_2            1916015\n",
       "item_cnt_month_city_code_mean_lag_3            2163676\n",
       "item_cnt_month_shop_city_code_mean_lag_1       1663973\n",
       "item_cnt_month_shop_city_code_mean_lag_2       1916015\n",
       "item_cnt_month_shop_city_code_mean_lag_3       2163676\n",
       "item_cnt_month_item_city_code_mean_lag_1       1663973\n",
       "item_cnt_month_item_city_code_mean_lag_2       1916015\n",
       "item_cnt_month_item_city_code_mean_lag_3       2163676\n",
       "item_cnt_month_type_code_mean_lag_1            1663973\n",
       "item_cnt_month_type_code_mean_lag_2            1916015\n",
       "item_cnt_month_type_code_mean_lag_3            2163676\n",
       "item_cnt_month_subtype_code_mean_lag_1         1663973\n",
       "item_cnt_month_subtype_code_mean_lag_2         1916015\n",
       "item_cnt_month_subtype_code_mean_lag_3         2163676\n",
       "delta_price_lag                                      0\n",
       "delta_revenue_lag_1                            1667928\n",
       "month                                                0\n",
       "no_days_in_month                                     0\n",
       "item_shop_last_sale                                  0\n",
       "item_last_sale                                       0\n",
       "item_shop_first_sale                                 0\n",
       "item_first_sale                                      0\n",
       "dtype: int64"
      ]
     },
     "execution_count": 86,
     "metadata": {},
     "output_type": "execute_result"
    }
   ],
   "source": [
    "grid.isnull().sum(axis = 0)"
   ]
  },
  {
   "cell_type": "markdown",
   "metadata": {},
   "source": [
    "Fill NaNs in lag features with 0."
   ]
  },
  {
   "cell_type": "code",
   "execution_count": 87,
   "metadata": {},
   "outputs": [
    {
     "data": {
      "text/plain": [
       "4.696542739868164"
      ]
     },
     "execution_count": 87,
     "metadata": {},
     "output_type": "execute_result"
    }
   ],
   "source": [
    "ts = time.time()\n",
    "def fill_na(df):\n",
    "    for col in df.columns:\n",
    "        if ('_lag_' in col) & (df[col].isnull().any()):            \n",
    "            if ('item_cnt' in col) or ('revenue' in col): # If it's valid for item_cnt, it should be valid for \n",
    "                # revenue as well since revenue = item_cnt * price.\n",
    "                df[col].fillna(0, inplace = True)\n",
    "            if ('item_price_month_shop_item_mean_lag_' in col) or ('item_price_month_shop_mean_lag_' in col) or \\\n",
    "            ('item_price_month_item_mean_lag_' in col):\n",
    "                df[col].fillna(-999, inplace = True) # It doesn't make sense to fill price related lag features \\\n",
    "                # with 0.\n",
    "                \n",
    "    return df\n",
    "\n",
    "grid = fill_na(grid)\n",
    "time.time() - ts"
   ]
  },
  {
   "cell_type": "code",
   "execution_count": 88,
   "metadata": {
    "scrolled": false
   },
   "outputs": [
    {
     "data": {
      "text/plain": [
       "date_block_num                                 0\n",
       "shop_id                                        0\n",
       "item_id                                        0\n",
       "category_code                                  0\n",
       "city_code                                      0\n",
       "category_id                                    0\n",
       "item_name2                                     0\n",
       "item_name3                                     0\n",
       "item_name_first11                              0\n",
       "item_category_id                               0\n",
       "type_code                                      0\n",
       "subtype_code                                   0\n",
       "year                                           0\n",
       "day_quality                                    0\n",
       "first_sale_day                                 0\n",
       "prev_days_on_sale                              0\n",
       "item_cnt_month_shop_item                       0\n",
       "item_cnt_month_shop_item_lag_1                 0\n",
       "item_cnt_month_shop_item_lag_2                 0\n",
       "item_cnt_month_shop_item_lag_3                 0\n",
       "item_cnt_month_shop_item_mean_lag_1            0\n",
       "item_cnt_month_shop_item_mean_lag_2            0\n",
       "item_cnt_month_shop_item_mean_lag_3            0\n",
       "item_price_month_shop_item_mean_lag_1          0\n",
       "item_price_month_shop_item_mean_lag_2          0\n",
       "item_price_month_shop_item_mean_lag_3          0\n",
       "revenue_month_shop_item_lag_1                  0\n",
       "revenue_month_shop_item_lag_2                  0\n",
       "revenue_month_shop_item_lag_3                  0\n",
       "item_cnt_month_shop_mean_lag_1                 0\n",
       "item_cnt_month_shop_mean_lag_2                 0\n",
       "item_cnt_month_shop_mean_lag_3                 0\n",
       "item_price_month_shop_mean_lag_1               0\n",
       "item_price_month_shop_mean_lag_2               0\n",
       "item_price_month_shop_mean_lag_3               0\n",
       "revenue_month_shop_lag_1                       0\n",
       "revenue_month_shop_lag_2                       0\n",
       "revenue_month_shop_lag_3                       0\n",
       "item_cnt_month_item_mean_lag_1                 0\n",
       "item_cnt_month_item_mean_lag_2                 0\n",
       "item_cnt_month_item_mean_lag_3                 0\n",
       "item_price_month_item_mean_lag_1               0\n",
       "item_price_month_item_mean_lag_2               0\n",
       "item_price_month_item_mean_lag_3               0\n",
       "revenue_month_item_lag_1                       0\n",
       "revenue_month_item_lag_2                       0\n",
       "revenue_month_item_lag_3                       0\n",
       "item_cnt_month_mean_lag_1                      0\n",
       "item_cnt_month_mean_lag_2                      0\n",
       "item_cnt_month_mean_lag_3                      0\n",
       "item_cnt_month_item_cat_mean_lag_1             0\n",
       "item_cnt_month_item_cat_mean_lag_2             0\n",
       "item_cnt_month_item_cat_mean_lag_3             0\n",
       "item_cnt_month_shop_item_cat_mean_lag_1        0\n",
       "item_cnt_month_shop_item_cat_mean_lag_2        0\n",
       "item_cnt_month_shop_item_cat_mean_lag_3        0\n",
       "item_cnt_month_shop_type_code_mean_lag_1       0\n",
       "item_cnt_month_shop_type_code_mean_lag_2       0\n",
       "item_cnt_month_shop_type_code_mean_lag_3       0\n",
       "item_cnt_month_shop_subtype_code_mean_lag_1    0\n",
       "item_cnt_month_shop_subtype_code_mean_lag_2    0\n",
       "item_cnt_month_shop_subtype_code_mean_lag_3    0\n",
       "item_cnt_month_city_code_mean_lag_1            0\n",
       "item_cnt_month_city_code_mean_lag_2            0\n",
       "item_cnt_month_city_code_mean_lag_3            0\n",
       "item_cnt_month_shop_city_code_mean_lag_1       0\n",
       "item_cnt_month_shop_city_code_mean_lag_2       0\n",
       "item_cnt_month_shop_city_code_mean_lag_3       0\n",
       "item_cnt_month_item_city_code_mean_lag_1       0\n",
       "item_cnt_month_item_city_code_mean_lag_2       0\n",
       "item_cnt_month_item_city_code_mean_lag_3       0\n",
       "item_cnt_month_type_code_mean_lag_1            0\n",
       "item_cnt_month_type_code_mean_lag_2            0\n",
       "item_cnt_month_type_code_mean_lag_3            0\n",
       "item_cnt_month_subtype_code_mean_lag_1         0\n",
       "item_cnt_month_subtype_code_mean_lag_2         0\n",
       "item_cnt_month_subtype_code_mean_lag_3         0\n",
       "delta_price_lag                                0\n",
       "delta_revenue_lag_1                            0\n",
       "month                                          0\n",
       "no_days_in_month                               0\n",
       "item_shop_last_sale                            0\n",
       "item_last_sale                                 0\n",
       "item_shop_first_sale                           0\n",
       "item_first_sale                                0\n",
       "dtype: int64"
      ]
     },
     "execution_count": 88,
     "metadata": {},
     "output_type": "execute_result"
    }
   ],
   "source": [
    "grid.isnull().sum(axis = 0)"
   ]
  },
  {
   "cell_type": "code",
   "execution_count": 89,
   "metadata": {},
   "outputs": [
    {
     "data": {
      "text/plain": [
       "139"
      ]
     },
     "execution_count": 89,
     "metadata": {},
     "output_type": "execute_result"
    }
   ],
   "source": [
    "data = grid.copy()\n",
    "del grid\n",
    "gc.collect()"
   ]
  },
  {
   "cell_type": "markdown",
   "metadata": {},
   "source": [
    "Save the data in a pickle file."
   ]
  },
  {
   "cell_type": "code",
   "execution_count": 90,
   "metadata": {},
   "outputs": [],
   "source": [
    "data.to_pickle('data.pkl')"
   ]
  }
 ],
 "metadata": {
  "kernelspec": {
   "display_name": "Python 3",
   "language": "python",
   "name": "python3"
  },
  "language_info": {
   "codemirror_mode": {
    "name": "ipython",
    "version": 3
   },
   "file_extension": ".py",
   "mimetype": "text/x-python",
   "name": "python",
   "nbconvert_exporter": "python",
   "pygments_lexer": "ipython3",
   "version": "3.8.8"
  }
 },
 "nbformat": 4,
 "nbformat_minor": 4
}
