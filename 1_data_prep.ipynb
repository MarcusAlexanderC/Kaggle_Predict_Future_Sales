{
 "cells": [
  {
   "cell_type": "markdown",
   "metadata": {},
   "source": [
    "In this notebook we prepare the data (data cleaning and feature engineering) for modelling."
   ]
  },
  {
   "cell_type": "markdown",
   "metadata": {},
   "source": [
    "# Load modules and data"
   ]
  },
  {
   "cell_type": "code",
   "execution_count": 1,
   "metadata": {
    "_cell_guid": "79c7e3d0-c299-4dcb-8224-4455121ee9b0",
    "_uuid": "d629ff2d2480ee46fbb7e2d37f6b5fab8052498a"
   },
   "outputs": [],
   "source": [
    "import category_encoders as ce\n",
    "import gc\n",
    "import matplotlib.pyplot as plt\n",
    "import numpy as np \n",
    "import os\n",
    "import pandas as pd\n",
    "import pickle\n",
    "import re\n",
    "import seaborn as sns\n",
    "import time\n",
    "from collections import Counter\n",
    "from itertools import product\n",
    "from sklearn.cluster import KMeans\n",
    "from sklearn.preprocessing import OrdinalEncoder\n",
    "\n",
    "pd.options.display.max_rows = None"
   ]
  },
  {
   "cell_type": "markdown",
   "metadata": {},
   "source": [
    "Read all the data files"
   ]
  },
  {
   "cell_type": "code",
   "execution_count": 2,
   "metadata": {},
   "outputs": [],
   "source": [
    "items = pd.read_csv('kaggle/input/competitive-data-science-predict-future-sales-eng-translation/items.csv')\n",
    "shops = pd.read_csv('kaggle/input/competitive-data-science-predict-future-sales-eng-translation/shops.csv')\n",
    "train = pd.read_csv('kaggle/input/competitive-data-science-predict-future-sales/sales_train.csv')\n",
    "test = pd.read_csv('kaggle/input/competitive-data-science-predict-future-sales/test.csv')\n",
    "sample_submission = pd.read_csv('kaggle/input/competitive-data-science-predict-future-sales/sample_submission.csv')\n",
    "item_categories = pd.read_csv('kaggle/input/competitive-data-science-predict-future-sales/item_categories.csv')"
   ]
  },
  {
   "cell_type": "markdown",
   "metadata": {},
   "source": [
    "Set the right time format."
   ]
  },
  {
   "cell_type": "code",
   "execution_count": 3,
   "metadata": {},
   "outputs": [],
   "source": [
    "train['date'] = pd.to_datetime(train['date'], format = '%d.%m.%Y')"
   ]
  },
  {
   "cell_type": "code",
   "execution_count": 4,
   "metadata": {},
   "outputs": [
    {
     "data": {
      "text/plain": [
       "Timestamp('2013-01-01 00:00:00')"
      ]
     },
     "execution_count": 4,
     "metadata": {},
     "output_type": "execute_result"
    }
   ],
   "source": [
    "train.date.min()"
   ]
  },
  {
   "cell_type": "code",
   "execution_count": 5,
   "metadata": {},
   "outputs": [
    {
     "data": {
      "text/plain": [
       "Timestamp('2015-10-31 00:00:00')"
      ]
     },
     "execution_count": 5,
     "metadata": {},
     "output_type": "execute_result"
    }
   ],
   "source": [
    "train.date.max()"
   ]
  },
  {
   "cell_type": "markdown",
   "metadata": {},
   "source": [
    "# Outliers"
   ]
  },
  {
   "cell_type": "code",
   "execution_count": 6,
   "metadata": {},
   "outputs": [
    {
     "data": {
      "text/plain": [
       "<AxesSubplot:xlabel='item_price'>"
      ]
     },
     "execution_count": 6,
     "metadata": {},
     "output_type": "execute_result"
    },
    {
     "data": {
      "image/png": "[encoded data removed]",
      "text/plain": [
       "<Figure size 1800x288 with 1 Axes>"
      ]
     },
     "metadata": {
      "needs_background": "light"
     },
     "output_type": "display_data"
    },
    {
     "data": {
      "image/png": "[encoded data removed]",
      "text/plain": [
       "<Figure size 1800x288 with 1 Axes>"
      ]
     },
     "metadata": {
      "needs_background": "light"
     },
     "output_type": "display_data"
    }
   ],
   "source": [
    "plt.figure(figsize = (25, 4))\n",
    "plt.xlim(-100, 3000)\n",
    "sns.boxplot(x = train.item_cnt_day)\n",
    "\n",
    "plt.figure(figsize = (25, 4))\n",
    "sns.boxplot(x = train.item_price)"
   ]
  },
  {
   "cell_type": "markdown",
   "metadata": {},
   "source": [
    "We remove item counts and prices that are clearly outliers."
   ]
  },
  {
   "cell_type": "code",
   "execution_count": 7,
   "metadata": {},
   "outputs": [],
   "source": [
    "train = train[train.item_cnt_day < 1001]\n",
    "train = train[train.item_price < 50000]"
   ]
  },
  {
   "cell_type": "markdown",
   "metadata": {},
   "source": [
    "We also remove an item where item_price < 0."
   ]
  },
  {
   "cell_type": "code",
   "execution_count": 8,
   "metadata": {},
   "outputs": [],
   "source": [
    "train = train[train.item_price > 0]"
   ]
  },
  {
   "cell_type": "markdown",
   "metadata": {},
   "source": [
    "There are duplicates of the shops' names, which we adjust for."
   ]
  },
  {
   "cell_type": "code",
   "execution_count": 9,
   "metadata": {},
   "outputs": [],
   "source": [
    "# Якутск Орджоникидзе, 56\n",
    "train.loc[train.shop_id == 0, 'shop_id'] = 57\n",
    "test.loc[test.shop_id == 0, 'shop_id'] = 57\n",
    "# Якутск ТЦ \"Центральный\"\n",
    "train.loc[train.shop_id == 1, 'shop_id'] = 58\n",
    "test.loc[test.shop_id == 1, 'shop_id'] = 58\n",
    "# Жуковский ул. Чкалова 39м²\n",
    "train.loc[train.shop_id == 10, 'shop_id'] = 11\n",
    "test.loc[test.shop_id == 10, 'shop_id'] = 11"
   ]
  },
  {
   "cell_type": "markdown",
   "metadata": {},
   "source": [
    "Add the first day the item was sold."
   ]
  },
  {
   "cell_type": "code",
   "execution_count": 10,
   "metadata": {},
   "outputs": [],
   "source": [
    "train['first_sale_day'] = train.date.dt.dayofyear \n",
    "train['first_sale_day'] += 365 * (train.date.dt.year - 2013)\n",
    "train['first_sale_day'] = train.groupby('item_id')['first_sale_day'].transform('min').astype('int16')"
   ]
  },
  {
   "cell_type": "markdown",
   "metadata": {},
   "source": [
    "Calculate the proportion of weekly sales that occurred on each weekday at each shop."
   ]
  },
  {
   "cell_type": "code",
   "execution_count": 11,
   "metadata": {},
   "outputs": [],
   "source": [
    "train['weekday'] = train.date.dt.dayofweek\n",
    "\n",
    "temp = train.groupby(['shop_id','weekday']).agg({'item_cnt_day':'sum'}).reset_index()\n",
    "temp = pd.merge(temp, train.groupby(['shop_id']).agg({'item_cnt_day':'sum'}).reset_index(), on = 'shop_id', \\\n",
    "                how = 'left')\n",
    "temp.columns = ['shop_id','weekday', 'shop_day_sales', 'shop_total_sales']\n",
    "temp['day_quality'] = temp['shop_day_sales'] / temp['shop_total_sales']\n",
    "temp = temp[['shop_id','weekday','day_quality']]\n",
    "\n",
    "dates = pd.DataFrame(data={'date':pd.date_range(start='2013-01-01',end='2015-11-30')})\n",
    "dates['weekday'] = dates.date.dt.dayofweek\n",
    "dates['month'] = dates.date.dt.month\n",
    "dates['year'] = dates.date.dt.year - 2013\n",
    "dates['date_block_num'] = dates['year']*12 + dates['month'] - 1\n",
    "dates['first_day_of_month'] = dates.date.dt.dayofyear\n",
    "dates['first_day_of_month'] += 365 * dates['year']\n",
    "dates = dates.join(temp.set_index('weekday'), on='weekday')\n",
    "dates = dates.groupby(['date_block_num','shop_id','month','year']).agg({'day_quality':'sum',\\\n",
    "                                                                        'first_day_of_month':'min'}).reset_index()"
   ]
  },
  {
   "cell_type": "markdown",
   "metadata": {},
   "source": [
    "# Preprocessing of shops, categories and items"
   ]
  },
  {
   "cell_type": "markdown",
   "metadata": {},
   "source": [
    "## Shops"
   ]
  },
  {
   "cell_type": "code",
   "execution_count": 12,
   "metadata": {},
   "outputs": [
    {
     "data": {
      "text/html": [
       "<div>\n",
       "<style scoped>\n",
       "    .dataframe tbody tr th:only-of-type {\n",
       "        vertical-align: middle;\n",
       "    }\n",
       "\n",
       "    .dataframe tbody tr th {\n",
       "        vertical-align: top;\n",
       "    }\n",
       "\n",
       "    .dataframe thead th {\n",
       "        text-align: right;\n",
       "    }\n",
       "</style>\n",
       "<table border=\"1\" class=\"dataframe\">\n",
       "  <thead>\n",
       "    <tr style=\"text-align: right;\">\n",
       "      <th></th>\n",
       "      <th>shop_name</th>\n",
       "      <th>shop_id</th>\n",
       "    </tr>\n",
       "  </thead>\n",
       "  <tbody>\n",
       "    <tr>\n",
       "      <th>0</th>\n",
       "      <td>! Yakutsk Ordzhonikidze, 56 francs</td>\n",
       "      <td>0</td>\n",
       "    </tr>\n",
       "    <tr>\n",
       "      <th>1</th>\n",
       "      <td>! Yakutsk TC \"Central\" fran</td>\n",
       "      <td>1</td>\n",
       "    </tr>\n",
       "    <tr>\n",
       "      <th>2</th>\n",
       "      <td>Adygea TC \"Mega\"</td>\n",
       "      <td>2</td>\n",
       "    </tr>\n",
       "    <tr>\n",
       "      <th>3</th>\n",
       "      <td>Balashikha TC \"Oktyabr-Kinomir\"</td>\n",
       "      <td>3</td>\n",
       "    </tr>\n",
       "    <tr>\n",
       "      <th>4</th>\n",
       "      <td>Volga TC \"Volga Mall\"</td>\n",
       "      <td>4</td>\n",
       "    </tr>\n",
       "  </tbody>\n",
       "</table>\n",
       "</div>"
      ],
      "text/plain": [
       "                            shop_name  shop_id\n",
       "0  ! Yakutsk Ordzhonikidze, 56 francs        0\n",
       "1         ! Yakutsk TC \"Central\" fran        1\n",
       "2                    Adygea TC \"Mega\"        2\n",
       "3     Balashikha TC \"Oktyabr-Kinomir\"        3\n",
       "4               Volga TC \"Volga Mall\"        4"
      ]
     },
     "execution_count": 12,
     "metadata": {},
     "output_type": "execute_result"
    }
   ],
   "source": [
    "shops.head()"
   ]
  },
  {
   "cell_type": "markdown",
   "metadata": {},
   "source": [
    "We start by cleaning up shop_names.\n",
    "\n",
    "Each shop_name starts with the name of the city the shop is located in (with some exceptions). \n",
    "This information might be important.\n",
    "\n",
    "We can also extract the shop_type from shop_name"
   ]
  },
  {
   "cell_type": "code",
   "execution_count": 13,
   "metadata": {},
   "outputs": [
    {
     "data": {
      "text/html": [
       "<div>\n",
       "<style scoped>\n",
       "    .dataframe tbody tr th:only-of-type {\n",
       "        vertical-align: middle;\n",
       "    }\n",
       "\n",
       "    .dataframe tbody tr th {\n",
       "        vertical-align: top;\n",
       "    }\n",
       "\n",
       "    .dataframe thead th {\n",
       "        text-align: right;\n",
       "    }\n",
       "</style>\n",
       "<table border=\"1\" class=\"dataframe\">\n",
       "  <thead>\n",
       "    <tr style=\"text-align: right;\">\n",
       "      <th></th>\n",
       "      <th>shop_name</th>\n",
       "      <th>shop_id</th>\n",
       "      <th>city</th>\n",
       "      <th>category</th>\n",
       "    </tr>\n",
       "  </thead>\n",
       "  <tbody>\n",
       "    <tr>\n",
       "      <th>0</th>\n",
       "      <td>yakutsk ordzhonikidze 56 francs</td>\n",
       "      <td>0</td>\n",
       "      <td>yakutsk</td>\n",
       "      <td>regular</td>\n",
       "    </tr>\n",
       "    <tr>\n",
       "      <th>1</th>\n",
       "      <td>yakutsk tc central fran</td>\n",
       "      <td>1</td>\n",
       "      <td>yakutsk</td>\n",
       "      <td>tc</td>\n",
       "    </tr>\n",
       "    <tr>\n",
       "      <th>2</th>\n",
       "      <td>adygea tc mega</td>\n",
       "      <td>2</td>\n",
       "      <td>adygea</td>\n",
       "      <td>mall</td>\n",
       "    </tr>\n",
       "    <tr>\n",
       "      <th>3</th>\n",
       "      <td>balashikha tc oktyabrkinomir</td>\n",
       "      <td>3</td>\n",
       "      <td>balashikha</td>\n",
       "      <td>tc</td>\n",
       "    </tr>\n",
       "    <tr>\n",
       "      <th>4</th>\n",
       "      <td>volga tc volga mall</td>\n",
       "      <td>4</td>\n",
       "      <td>volga</td>\n",
       "      <td>mall</td>\n",
       "    </tr>\n",
       "  </tbody>\n",
       "</table>\n",
       "</div>"
      ],
      "text/plain": [
       "                         shop_name  shop_id        city category\n",
       "0  yakutsk ordzhonikidze 56 francs        0     yakutsk  regular\n",
       "1          yakutsk tc central fran        1     yakutsk       tc\n",
       "2                   adygea tc mega        2      adygea     mall\n",
       "3     balashikha tc oktyabrkinomir        3  balashikha       tc\n",
       "4              volga tc volga mall        4       volga     mall"
      ]
     },
     "execution_count": 13,
     "metadata": {},
     "output_type": "execute_result"
    }
   ],
   "source": [
    "shops['shop_name'] = shops['shop_name'].str.lower()\n",
    "shops['shop_name'] = shops['shop_name'].str.replace(r'[^\\w\\d\\s]', '', regex = True)\n",
    "shops['shop_name'] = shops['shop_name'].str.replace('sergiev posad', 'sergievposad')\n",
    "shops['shop_name'] = shops['shop_name'].str.replace('st petersburg', 'stpetersburg')\n",
    "shops['shop_name'] = shops['shop_name'].str.replace('rostovnadonu', 'rostovnadon')\n",
    "shops['shop_name'] = shops['shop_name'].str.strip()\n",
    "\n",
    "shops['city'] = shops['shop_name'].str.split(' ').map(lambda x: x[0])\n",
    "shops['category'] = 'regular'\n",
    "\n",
    "shops.loc[shops['shop_name'].str.contains(r'tc'), 'category'] = 'tc'\n",
    "shops.loc[shops['shop_name'].str.contains(r'mall|center|mega'), 'category'] = 'mall'\n",
    "shops.loc[shops['shop_id'].isin([9,20]), 'category'] = 'special'\n",
    "shops.loc[shops['shop_id'].isin([12,55]), 'category'] = 'online'\n",
    "\n",
    "shops.loc[shops['shop_id'].isin([12,55]), 'city'] = 'online'\n",
    "\n",
    "shops.head()"
   ]
  },
  {
   "cell_type": "code",
   "execution_count": 14,
   "metadata": {},
   "outputs": [
    {
     "data": {
      "text/html": [
       "<div>\n",
       "<style scoped>\n",
       "    .dataframe tbody tr th:only-of-type {\n",
       "        vertical-align: middle;\n",
       "    }\n",
       "\n",
       "    .dataframe tbody tr th {\n",
       "        vertical-align: top;\n",
       "    }\n",
       "\n",
       "    .dataframe thead th {\n",
       "        text-align: right;\n",
       "    }\n",
       "</style>\n",
       "<table border=\"1\" class=\"dataframe\">\n",
       "  <thead>\n",
       "    <tr style=\"text-align: right;\">\n",
       "      <th></th>\n",
       "      <th>shop_id</th>\n",
       "      <th>category_code</th>\n",
       "      <th>city_code</th>\n",
       "    </tr>\n",
       "  </thead>\n",
       "  <tbody>\n",
       "    <tr>\n",
       "      <th>0</th>\n",
       "      <td>0</td>\n",
       "      <td>2.0</td>\n",
       "      <td>27.0</td>\n",
       "    </tr>\n",
       "    <tr>\n",
       "      <th>1</th>\n",
       "      <td>1</td>\n",
       "      <td>4.0</td>\n",
       "      <td>27.0</td>\n",
       "    </tr>\n",
       "    <tr>\n",
       "      <th>2</th>\n",
       "      <td>2</td>\n",
       "      <td>0.0</td>\n",
       "      <td>0.0</td>\n",
       "    </tr>\n",
       "    <tr>\n",
       "      <th>3</th>\n",
       "      <td>3</td>\n",
       "      <td>4.0</td>\n",
       "      <td>1.0</td>\n",
       "    </tr>\n",
       "    <tr>\n",
       "      <th>4</th>\n",
       "      <td>4</td>\n",
       "      <td>0.0</td>\n",
       "      <td>24.0</td>\n",
       "    </tr>\n",
       "  </tbody>\n",
       "</table>\n",
       "</div>"
      ],
      "text/plain": [
       "   shop_id  category_code  city_code\n",
       "0        0            2.0       27.0\n",
       "1        1            4.0       27.0\n",
       "2        2            0.0        0.0\n",
       "3        3            4.0        1.0\n",
       "4        4            0.0       24.0"
      ]
     },
     "execution_count": 14,
     "metadata": {},
     "output_type": "execute_result"
    }
   ],
   "source": [
    "shops[['city_code', 'category_code']] = OrdinalEncoder().fit_transform(shops[['city', 'category']])\n",
    "shops = shops[[\"shop_id\", \"category_code\", \"city_code\"]]\n",
    "shops.head()"
   ]
  },
  {
   "cell_type": "markdown",
   "metadata": {},
   "source": [
    "## Categories"
   ]
  },
  {
   "cell_type": "code",
   "execution_count": 15,
   "metadata": {},
   "outputs": [
    {
     "data": {
      "text/html": [
       "<div>\n",
       "<style scoped>\n",
       "    .dataframe tbody tr th:only-of-type {\n",
       "        vertical-align: middle;\n",
       "    }\n",
       "\n",
       "    .dataframe tbody tr th {\n",
       "        vertical-align: top;\n",
       "    }\n",
       "\n",
       "    .dataframe thead th {\n",
       "        text-align: right;\n",
       "    }\n",
       "</style>\n",
       "<table border=\"1\" class=\"dataframe\">\n",
       "  <thead>\n",
       "    <tr style=\"text-align: right;\">\n",
       "      <th></th>\n",
       "      <th>item_category_name</th>\n",
       "      <th>item_category_id</th>\n",
       "    </tr>\n",
       "  </thead>\n",
       "  <tbody>\n",
       "    <tr>\n",
       "      <th>0</th>\n",
       "      <td>PC - Гарнитуры/Наушники</td>\n",
       "      <td>0</td>\n",
       "    </tr>\n",
       "    <tr>\n",
       "      <th>1</th>\n",
       "      <td>Аксессуары - PS2</td>\n",
       "      <td>1</td>\n",
       "    </tr>\n",
       "    <tr>\n",
       "      <th>2</th>\n",
       "      <td>Аксессуары - PS3</td>\n",
       "      <td>2</td>\n",
       "    </tr>\n",
       "    <tr>\n",
       "      <th>3</th>\n",
       "      <td>Аксессуары - PS4</td>\n",
       "      <td>3</td>\n",
       "    </tr>\n",
       "    <tr>\n",
       "      <th>4</th>\n",
       "      <td>Аксессуары - PSP</td>\n",
       "      <td>4</td>\n",
       "    </tr>\n",
       "  </tbody>\n",
       "</table>\n",
       "</div>"
      ],
      "text/plain": [
       "        item_category_name  item_category_id\n",
       "0  PC - Гарнитуры/Наушники                 0\n",
       "1         Аксессуары - PS2                 1\n",
       "2         Аксессуары - PS3                 2\n",
       "3         Аксессуары - PS4                 3\n",
       "4         Аксессуары - PSP                 4"
      ]
     },
     "execution_count": 15,
     "metadata": {},
     "output_type": "execute_result"
    }
   ],
   "source": [
    "item_categories.head()"
   ]
  },
  {
   "cell_type": "markdown",
   "metadata": {},
   "source": [
    "Each category contains a type and subtype (with some exceptions). We also perform some cleaning"
   ]
  },
  {
   "cell_type": "code",
   "execution_count": 16,
   "metadata": {},
   "outputs": [],
   "source": [
    "item_categories['split'] = item_categories['item_category_name'].str.split('-')\n",
    "item_categories['type'] = item_categories['split'].map(lambda x: x[0].strip()) # All leading and trailing\n",
    "# whitespaces are removed from the string\n",
    "item_categories['subtype'] = item_categories['split'].map(lambda x: x[1].strip() if len(x) > 1 else x[0].strip())\n",
    "# If subtype is not available we set type as subtype."
   ]
  },
  {
   "cell_type": "markdown",
   "metadata": {},
   "source": [
    "From the models we have trained previously we can see that subtype is already quite important as a feature, so we leave it as it is."
   ]
  },
  {
   "cell_type": "code",
   "execution_count": 17,
   "metadata": {},
   "outputs": [
    {
     "data": {
      "text/html": [
       "<div>\n",
       "<style scoped>\n",
       "    .dataframe tbody tr th:only-of-type {\n",
       "        vertical-align: middle;\n",
       "    }\n",
       "\n",
       "    .dataframe tbody tr th {\n",
       "        vertical-align: top;\n",
       "    }\n",
       "\n",
       "    .dataframe thead th {\n",
       "        text-align: right;\n",
       "    }\n",
       "</style>\n",
       "<table border=\"1\" class=\"dataframe\">\n",
       "  <thead>\n",
       "    <tr style=\"text-align: right;\">\n",
       "      <th></th>\n",
       "      <th>item_category_id</th>\n",
       "      <th>type_code</th>\n",
       "      <th>subtype_code</th>\n",
       "    </tr>\n",
       "  </thead>\n",
       "  <tbody>\n",
       "    <tr>\n",
       "      <th>0</th>\n",
       "      <td>0</td>\n",
       "      <td>0.0</td>\n",
       "      <td>29.0</td>\n",
       "    </tr>\n",
       "    <tr>\n",
       "      <th>1</th>\n",
       "      <td>1</td>\n",
       "      <td>1.0</td>\n",
       "      <td>9.0</td>\n",
       "    </tr>\n",
       "    <tr>\n",
       "      <th>2</th>\n",
       "      <td>2</td>\n",
       "      <td>1.0</td>\n",
       "      <td>10.0</td>\n",
       "    </tr>\n",
       "    <tr>\n",
       "      <th>3</th>\n",
       "      <td>3</td>\n",
       "      <td>1.0</td>\n",
       "      <td>11.0</td>\n",
       "    </tr>\n",
       "    <tr>\n",
       "      <th>4</th>\n",
       "      <td>4</td>\n",
       "      <td>1.0</td>\n",
       "      <td>13.0</td>\n",
       "    </tr>\n",
       "  </tbody>\n",
       "</table>\n",
       "</div>"
      ],
      "text/plain": [
       "   item_category_id  type_code  subtype_code\n",
       "0                 0        0.0          29.0\n",
       "1                 1        1.0           9.0\n",
       "2                 2        1.0          10.0\n",
       "3                 3        1.0          11.0\n",
       "4                 4        1.0          13.0"
      ]
     },
     "execution_count": 17,
     "metadata": {},
     "output_type": "execute_result"
    }
   ],
   "source": [
    "item_categories[['type_code', 'subtype_code']] = OrdinalEncoder().fit_transform(item_categories[['type', \\\n",
    "                                                                                                 'subtype']])\n",
    "item_categories = item_categories[['item_category_id','type_code', 'subtype_code']]\n",
    "item_categories.head()"
   ]
  },
  {
   "cell_type": "markdown",
   "metadata": {},
   "source": [
    "## Items"
   ]
  },
  {
   "cell_type": "code",
   "execution_count": 18,
   "metadata": {},
   "outputs": [
    {
     "data": {
      "text/html": [
       "<div>\n",
       "<style scoped>\n",
       "    .dataframe tbody tr th:only-of-type {\n",
       "        vertical-align: middle;\n",
       "    }\n",
       "\n",
       "    .dataframe tbody tr th {\n",
       "        vertical-align: top;\n",
       "    }\n",
       "\n",
       "    .dataframe thead th {\n",
       "        text-align: right;\n",
       "    }\n",
       "</style>\n",
       "<table border=\"1\" class=\"dataframe\">\n",
       "  <thead>\n",
       "    <tr style=\"text-align: right;\">\n",
       "      <th></th>\n",
       "      <th>item_id</th>\n",
       "      <th>category_id</th>\n",
       "      <th>item_name</th>\n",
       "    </tr>\n",
       "  </thead>\n",
       "  <tbody>\n",
       "    <tr>\n",
       "      <th>0</th>\n",
       "      <td>0</td>\n",
       "      <td>40</td>\n",
       "      <td>!! IN THE POWER OF HAPPINESS (PLAST) D</td>\n",
       "    </tr>\n",
       "    <tr>\n",
       "      <th>1</th>\n",
       "      <td>1</td>\n",
       "      <td>76</td>\n",
       "      <td>! ABBYY FineReader 12 Professional Edition Ful...</td>\n",
       "    </tr>\n",
       "    <tr>\n",
       "      <th>2</th>\n",
       "      <td>2</td>\n",
       "      <td>40</td>\n",
       "      <td>*** IN THE GLORY OF THE GLORY (UNV) D</td>\n",
       "    </tr>\n",
       "    <tr>\n",
       "      <th>3</th>\n",
       "      <td>3</td>\n",
       "      <td>40</td>\n",
       "      <td>*** BLUE WAVE (Univ) D</td>\n",
       "    </tr>\n",
       "    <tr>\n",
       "      <th>4</th>\n",
       "      <td>4</td>\n",
       "      <td>40</td>\n",
       "      <td>*** BOX (GLASS) D</td>\n",
       "    </tr>\n",
       "  </tbody>\n",
       "</table>\n",
       "</div>"
      ],
      "text/plain": [
       "   item_id  category_id                                          item_name\n",
       "0        0           40             !! IN THE POWER OF HAPPINESS (PLAST) D\n",
       "1        1           76  ! ABBYY FineReader 12 Professional Edition Ful...\n",
       "2        2           40              *** IN THE GLORY OF THE GLORY (UNV) D\n",
       "3        3           40                             *** BLUE WAVE (Univ) D\n",
       "4        4           40                                  *** BOX (GLASS) D"
      ]
     },
     "execution_count": 18,
     "metadata": {},
     "output_type": "execute_result"
    }
   ],
   "source": [
    "items.head()"
   ]
  },
  {
   "cell_type": "markdown",
   "metadata": {},
   "source": [
    "We will do some corrections of item_name."
   ]
  },
  {
   "cell_type": "code",
   "execution_count": 19,
   "metadata": {},
   "outputs": [],
   "source": [
    "def name_correction(x):\n",
    "    x = x.lower() # Make all letters lower case.\n",
    "    x = x.partition('[')[0] # Partition by square brackets.\n",
    "    x = x.partition('(')[0] # Partition by curly brackets.\n",
    "    x = re.sub('[^A-Za-z0-9А-Яа-я]+', ' ', x) # Remove special characters.\n",
    "    x = x.replace('  ', ' ') # Replace double spaces with single spaces.\n",
    "    x = x.strip() # Remove leading and trailing white space.\n",
    "    x = x.replace('.', '')\n",
    "    return x"
   ]
  },
  {
   "cell_type": "markdown",
   "metadata": {},
   "source": [
    "Split item_name into two parts (depending on which type of bracket is found)."
   ]
  },
  {
   "cell_type": "code",
   "execution_count": 20,
   "metadata": {},
   "outputs": [],
   "source": [
    "items[[\"item_name1\", \"item_name2\"]] = items.item_name.str.split(\"[\", 1, expand = True)\n",
    "items[[\"item_name1\", \"item_name3\"]] = items.item_name.str.split(\"(\", 1, expand = True)\n",
    "\n",
    "items[\"item_name2\"] = items.item_name2.str.replace('[^A-Za-z0-9А-Яа-я]+', \" \", regex = True).str.lower()\n",
    "items[\"item_name3\"] = items.item_name3.str.replace('[^A-Za-z0-9А-Яа-я]+', \" \", regex = True).str.lower()\n",
    "\n",
    "items = items.fillna('0')"
   ]
  },
  {
   "cell_type": "markdown",
   "metadata": {},
   "source": [
    "Clean and simplify item_name, and create a new feature consisting of the first eleven characters of the string."
   ]
  },
  {
   "cell_type": "code",
   "execution_count": 21,
   "metadata": {},
   "outputs": [
    {
     "data": {
      "text/html": [
       "<div>\n",
       "<style scoped>\n",
       "    .dataframe tbody tr th:only-of-type {\n",
       "        vertical-align: middle;\n",
       "    }\n",
       "\n",
       "    .dataframe tbody tr th {\n",
       "        vertical-align: top;\n",
       "    }\n",
       "\n",
       "    .dataframe thead th {\n",
       "        text-align: right;\n",
       "    }\n",
       "</style>\n",
       "<table border=\"1\" class=\"dataframe\">\n",
       "  <thead>\n",
       "    <tr style=\"text-align: right;\">\n",
       "      <th></th>\n",
       "      <th>item_id</th>\n",
       "      <th>category_id</th>\n",
       "      <th>item_name</th>\n",
       "      <th>item_name1</th>\n",
       "      <th>item_name2</th>\n",
       "      <th>item_name3</th>\n",
       "      <th>item_name_first4</th>\n",
       "      <th>item_name_first6</th>\n",
       "      <th>item_name_first11</th>\n",
       "    </tr>\n",
       "  </thead>\n",
       "  <tbody>\n",
       "    <tr>\n",
       "      <th>0</th>\n",
       "      <td>0</td>\n",
       "      <td>40</td>\n",
       "      <td>power   happiness</td>\n",
       "      <td>!! IN THE POWER OF HAPPINESS</td>\n",
       "      <td>0</td>\n",
       "      <td>plast d</td>\n",
       "      <td>powe</td>\n",
       "      <td>powerh</td>\n",
       "      <td>powerhappin</td>\n",
       "    </tr>\n",
       "    <tr>\n",
       "      <th>1</th>\n",
       "      <td>1</td>\n",
       "      <td>76</td>\n",
       "      <td>abbyy finereader 12 professional edition full</td>\n",
       "      <td>! ABBYY FineReader 12 Professional Edition Ful...</td>\n",
       "      <td>pc digital version</td>\n",
       "      <td>0</td>\n",
       "      <td>abby</td>\n",
       "      <td>abbyyf</td>\n",
       "      <td>abbyyfinere</td>\n",
       "    </tr>\n",
       "    <tr>\n",
       "      <th>2</th>\n",
       "      <td>2</td>\n",
       "      <td>40</td>\n",
       "      <td>glory     glory</td>\n",
       "      <td>*** IN THE GLORY OF THE GLORY</td>\n",
       "      <td>0</td>\n",
       "      <td>unv d</td>\n",
       "      <td>glor</td>\n",
       "      <td>gloryg</td>\n",
       "      <td>gloryglory</td>\n",
       "    </tr>\n",
       "    <tr>\n",
       "      <th>3</th>\n",
       "      <td>3</td>\n",
       "      <td>40</td>\n",
       "      <td>blue wave</td>\n",
       "      <td>*** BLUE WAVE</td>\n",
       "      <td>0</td>\n",
       "      <td>univ d</td>\n",
       "      <td>blue</td>\n",
       "      <td>bluewa</td>\n",
       "      <td>bluewave</td>\n",
       "    </tr>\n",
       "    <tr>\n",
       "      <th>4</th>\n",
       "      <td>4</td>\n",
       "      <td>40</td>\n",
       "      <td>box</td>\n",
       "      <td>*** BOX</td>\n",
       "      <td>0</td>\n",
       "      <td>glass d</td>\n",
       "      <td>box</td>\n",
       "      <td>box</td>\n",
       "      <td>box</td>\n",
       "    </tr>\n",
       "  </tbody>\n",
       "</table>\n",
       "</div>"
      ],
      "text/plain": [
       "   item_id  category_id                                      item_name  \\\n",
       "0        0           40                              power   happiness   \n",
       "1        1           76  abbyy finereader 12 professional edition full   \n",
       "2        2           40                                glory     glory   \n",
       "3        3           40                                      blue wave   \n",
       "4        4           40                                            box   \n",
       "\n",
       "                                          item_name1           item_name2  \\\n",
       "0                      !! IN THE POWER OF HAPPINESS                     0   \n",
       "1  ! ABBYY FineReader 12 Professional Edition Ful...  pc digital version    \n",
       "2                     *** IN THE GLORY OF THE GLORY                     0   \n",
       "3                                     *** BLUE WAVE                     0   \n",
       "4                                           *** BOX                     0   \n",
       "\n",
       "  item_name3 item_name_first4 item_name_first6 item_name_first11  \n",
       "0    plast d             powe           powerh       powerhappin  \n",
       "1          0             abby           abbyyf       abbyyfinere  \n",
       "2      unv d             glor           gloryg        gloryglory  \n",
       "3     univ d             blue           bluewa          bluewave  \n",
       "4    glass d              box              box               box  "
      ]
     },
     "execution_count": 21,
     "metadata": {},
     "output_type": "execute_result"
    }
   ],
   "source": [
    "items[\"item_name\"] = items[\"item_name\"].apply(lambda x: name_correction(x))\n",
    "\n",
    "for i in [r'[^\\w\\d\\s\\.]', r'\\bthe\\b', r'\\bin\\b', r'\\bis\\b', r'\\bfor\\b', r'\\bof\\b', r'\\bon\\b', r'\\band\\b',r'\\bto\\b',\n",
    "          r'\\bwith\\b' , r'\\byo\\b']:\n",
    "    items['item_name'] = items['item_name'].str.replace(i, ' ', regex = True)\n",
    "    \n",
    "items['item_name'] = items['item_name'].str.replace(r'\\b.\\b', ' ', regex = True)\n",
    "\n",
    "items['item_name_no_space'] = items['item_name'].str.replace(' ', '')\n",
    "\n",
    "\n",
    "items['item_name_first4'] = [x[:4] for x in items['item_name_no_space']]\n",
    "\n",
    "items['item_name_first6'] = [x[:6] for x in items['item_name_no_space']]\n",
    "\n",
    "items['item_name_first11'] = [x[:11] for x in items['item_name_no_space']]\n",
    "\n",
    "del items['item_name_no_space']\n",
    "\n",
    "items.head()"
   ]
  },
  {
   "cell_type": "markdown",
   "metadata": {},
   "source": [
    "Set type column and clean it."
   ]
  },
  {
   "cell_type": "code",
   "execution_count": 22,
   "metadata": {},
   "outputs": [
    {
     "data": {
      "text/html": [
       "<div>\n",
       "<style scoped>\n",
       "    .dataframe tbody tr th:only-of-type {\n",
       "        vertical-align: middle;\n",
       "    }\n",
       "\n",
       "    .dataframe tbody tr th {\n",
       "        vertical-align: top;\n",
       "    }\n",
       "\n",
       "    .dataframe thead th {\n",
       "        text-align: right;\n",
       "    }\n",
       "</style>\n",
       "<table border=\"1\" class=\"dataframe\">\n",
       "  <thead>\n",
       "    <tr style=\"text-align: right;\">\n",
       "      <th></th>\n",
       "      <th>item_id</th>\n",
       "      <th>category_id</th>\n",
       "      <th>item_name</th>\n",
       "      <th>item_name2</th>\n",
       "      <th>item_name3</th>\n",
       "      <th>item_name_first4</th>\n",
       "      <th>item_name_first6</th>\n",
       "      <th>item_name_first11</th>\n",
       "    </tr>\n",
       "  </thead>\n",
       "  <tbody>\n",
       "    <tr>\n",
       "      <th>0</th>\n",
       "      <td>0</td>\n",
       "      <td>40</td>\n",
       "      <td>power   happiness</td>\n",
       "      <td>2.0</td>\n",
       "      <td>1315.0</td>\n",
       "      <td>2572.0</td>\n",
       "      <td>4575.0</td>\n",
       "      <td>7822.0</td>\n",
       "    </tr>\n",
       "    <tr>\n",
       "      <th>1</th>\n",
       "      <td>1</td>\n",
       "      <td>76</td>\n",
       "      <td>abbyy finereader 12 professional edition full</td>\n",
       "      <td>46.0</td>\n",
       "      <td>37.0</td>\n",
       "      <td>121.0</td>\n",
       "      <td>152.0</td>\n",
       "      <td>230.0</td>\n",
       "    </tr>\n",
       "    <tr>\n",
       "      <th>2</th>\n",
       "      <td>2</td>\n",
       "      <td>40</td>\n",
       "      <td>glory     glory</td>\n",
       "      <td>2.0</td>\n",
       "      <td>1641.0</td>\n",
       "      <td>1330.0</td>\n",
       "      <td>2405.0</td>\n",
       "      <td>4236.0</td>\n",
       "    </tr>\n",
       "    <tr>\n",
       "      <th>3</th>\n",
       "      <td>3</td>\n",
       "      <td>40</td>\n",
       "      <td>blue wave</td>\n",
       "      <td>2.0</td>\n",
       "      <td>1640.0</td>\n",
       "      <td>508.0</td>\n",
       "      <td>887.0</td>\n",
       "      <td>1445.0</td>\n",
       "    </tr>\n",
       "    <tr>\n",
       "      <th>4</th>\n",
       "      <td>4</td>\n",
       "      <td>40</td>\n",
       "      <td>box</td>\n",
       "      <td>2.0</td>\n",
       "      <td>960.0</td>\n",
       "      <td>546.0</td>\n",
       "      <td>965.0</td>\n",
       "      <td>1619.0</td>\n",
       "    </tr>\n",
       "  </tbody>\n",
       "</table>\n",
       "</div>"
      ],
      "text/plain": [
       "   item_id  category_id                                      item_name  \\\n",
       "0        0           40                              power   happiness   \n",
       "1        1           76  abbyy finereader 12 professional edition full   \n",
       "2        2           40                                glory     glory   \n",
       "3        3           40                                      blue wave   \n",
       "4        4           40                                            box   \n",
       "\n",
       "   item_name2  item_name3  item_name_first4  item_name_first6  \\\n",
       "0         2.0      1315.0            2572.0            4575.0   \n",
       "1        46.0        37.0             121.0             152.0   \n",
       "2         2.0      1641.0            1330.0            2405.0   \n",
       "3         2.0      1640.0             508.0             887.0   \n",
       "4         2.0       960.0             546.0             965.0   \n",
       "\n",
       "   item_name_first11  \n",
       "0             7822.0  \n",
       "1              230.0  \n",
       "2             4236.0  \n",
       "3             1445.0  \n",
       "4             1619.0  "
      ]
     },
     "execution_count": 22,
     "metadata": {},
     "output_type": "execute_result"
    }
   ],
   "source": [
    "items[\"type\"] = items.item_name2.apply(lambda x: x[0:8] if x.split(\" \")[0] == \"xbox\" else x.split(\" \")[0] )\n",
    "items.loc[(items.type == \"x360\") | (items.type == \"xbox360\") | (items.type == \"xbox 360\") , \"type\"] = \"xbox 360\"\n",
    "items.loc[items.type == \"\", \"type\"] = \"mac\"\n",
    "items.type = items.type.apply(lambda x: x.replace(\" \", \"\"))\n",
    "items.loc[(items.type == 'pc' ) | (items.type == 'pс') | (items.type == \"pc\"), \"type\"] = \"pc\"\n",
    "items.loc[items.type == 'рs3', \"type\"] = \"ps3\"\n",
    "\n",
    "items = items.drop([\"type\"], axis = 1)\n",
    "items[['item_name2', 'item_name3', 'item_name_first4', 'item_name_first6', 'item_name_first11']] = \\\n",
    "OrdinalEncoder().fit_transform(items[['item_name2', 'item_name3', 'item_name_first4', 'item_name_first6', \\\n",
    "                                      'item_name_first11']])\n",
    "items = items.drop(\"item_name1\", axis = 1)\n",
    "items.head()"
   ]
  },
  {
   "cell_type": "markdown",
   "metadata": {},
   "source": [
    "There are duplicate row in the item list.\n",
    "We reassign item_ids where appropriate."
   ]
  },
  {
   "cell_type": "code",
   "execution_count": 23,
   "metadata": {},
   "outputs": [],
   "source": [
    "dupes = items[(items.duplicated(subset = ['item_name', 'category_id'], keep = False))].copy()\n",
    "dupes['in_test'] = dupes.item_id.isin(test.item_id.unique())\n",
    "dupes = dupes.groupby('item_name').agg({'item_id':['first', 'last'], 'in_test':['first', 'last']})"
   ]
  },
  {
   "cell_type": "markdown",
   "metadata": {},
   "source": [
    "If both item_ids are in the test set we do nothing."
   ]
  },
  {
   "cell_type": "code",
   "execution_count": 24,
   "metadata": {},
   "outputs": [],
   "source": [
    "dupes = dupes[(dupes[('in_test', 'first')] == False) | (dupes[('in_test', 'last')] == False)]"
   ]
  },
  {
   "cell_type": "markdown",
   "metadata": {},
   "source": [
    "If only the first id is in the test set we assign it to both."
   ]
  },
  {
   "cell_type": "code",
   "execution_count": 25,
   "metadata": {},
   "outputs": [],
   "source": [
    "temp = dupes[dupes[('in_test', 'first')] == True]\n",
    "keep_first = dict(zip(temp[('item_id', 'last')], temp[('item_id', 'first')]))"
   ]
  },
  {
   "cell_type": "markdown",
   "metadata": {},
   "source": [
    "If only the second id is in the test set, assign it to both."
   ]
  },
  {
   "cell_type": "code",
   "execution_count": 26,
   "metadata": {},
   "outputs": [],
   "source": [
    "temp = dupes[dupes[('in_test', 'first')] == False]\n",
    "keep_second = dict(zip(temp[('item_id', 'first')], temp[('item_id', 'last')]))\n",
    "item_map = {**keep_first, **keep_second}\n",
    "\n",
    "train = train.replace({'item_id':item_map})"
   ]
  },
  {
   "cell_type": "markdown",
   "metadata": {},
   "source": [
    "# Monthly aggregation of data and feature engineering"
   ]
  },
  {
   "cell_type": "markdown",
   "metadata": {},
   "source": [
    "Add revenue as a feature."
   ]
  },
  {
   "cell_type": "code",
   "execution_count": 27,
   "metadata": {},
   "outputs": [],
   "source": [
    "train['revenue'] = train['item_cnt_day'] * train['item_price']"
   ]
  },
  {
   "cell_type": "markdown",
   "metadata": {},
   "source": [
    "Consider all possible pairs of item/shop in each date_block_num."
   ]
  },
  {
   "cell_type": "code",
   "execution_count": 28,
   "metadata": {},
   "outputs": [
    {
     "data": {
      "text/plain": [
       "11.592217445373535"
      ]
     },
     "execution_count": 28,
     "metadata": {},
     "output_type": "execute_result"
    }
   ],
   "source": [
    "index_cols = ['date_block_num', 'shop_id', 'item_id']\n",
    "\n",
    "# For every month we create a grid for all shop/item combinations from that month.\n",
    "grid = [] \n",
    "ts = time.time()\n",
    "for block_num in train['date_block_num'].unique():\n",
    "    cur_shops = train[train['date_block_num'] == block_num]['shop_id'].unique()\n",
    "    cur_items = train[train['date_block_num'] == block_num]['item_id'].unique()\n",
    "    grid.append(np.array(list(product([block_num], cur_shops, cur_items)), dtype = 'int16'))\n",
    "\n",
    "# Turn the grid into a pandas dataframe.\n",
    "grid = pd.DataFrame(np.vstack(grid), columns = index_cols, dtype = np.int32)\n",
    "\n",
    "grid.sort_values(index_cols, inplace = True)\n",
    "time.time() - ts"
   ]
  },
  {
   "cell_type": "markdown",
   "metadata": {},
   "source": [
    "Adjust the test set - add date_block_num = 34 (November 2015)."
   ]
  },
  {
   "cell_type": "code",
   "execution_count": 29,
   "metadata": {},
   "outputs": [],
   "source": [
    "test[\"date_block_num\"] = 34"
   ]
  },
  {
   "cell_type": "markdown",
   "metadata": {},
   "source": [
    "Concatenate train and test sets to make it easier to add features."
   ]
  },
  {
   "cell_type": "code",
   "execution_count": 30,
   "metadata": {},
   "outputs": [],
   "source": [
    "grid = pd.concat([grid, test.drop(\"ID\", axis = 1)], ignore_index = True, sort = False, keys = index_cols)"
   ]
  },
  {
   "cell_type": "markdown",
   "metadata": {},
   "source": [
    "## Add shops, items and item_categories features."
   ]
  },
  {
   "cell_type": "markdown",
   "metadata": {},
   "source": [
    "Add features related to the id of shops, items and categories."
   ]
  },
  {
   "cell_type": "code",
   "execution_count": 31,
   "metadata": {},
   "outputs": [
    {
     "data": {
      "text/plain": [
       "3.1343462467193604"
      ]
     },
     "execution_count": 31,
     "metadata": {},
     "output_type": "execute_result"
    }
   ],
   "source": [
    "ts = time.time()\n",
    "grid = pd.merge(grid, items.drop(\"item_name\", axis = 1), on = 'item_id', how = 'left')\n",
    "grid = pd.merge(grid, item_categories, left_on = 'category_id', right_on = 'item_category_id', how = 'left')\n",
    "time.time() - ts"
   ]
  },
  {
   "cell_type": "markdown",
   "metadata": {},
   "source": [
    "We also add features from the dataframe dates."
   ]
  },
  {
   "cell_type": "code",
   "execution_count": 32,
   "metadata": {},
   "outputs": [
    {
     "data": {
      "text/html": [
       "<div>\n",
       "<style scoped>\n",
       "    .dataframe tbody tr th:only-of-type {\n",
       "        vertical-align: middle;\n",
       "    }\n",
       "\n",
       "    .dataframe tbody tr th {\n",
       "        vertical-align: top;\n",
       "    }\n",
       "\n",
       "    .dataframe thead th {\n",
       "        text-align: right;\n",
       "    }\n",
       "</style>\n",
       "<table border=\"1\" class=\"dataframe\">\n",
       "  <thead>\n",
       "    <tr style=\"text-align: right;\">\n",
       "      <th></th>\n",
       "      <th>date_block_num</th>\n",
       "      <th>shop_id</th>\n",
       "      <th>item_id</th>\n",
       "      <th>category_id</th>\n",
       "      <th>item_name2</th>\n",
       "      <th>item_name3</th>\n",
       "      <th>item_name_first4</th>\n",
       "      <th>item_name_first6</th>\n",
       "      <th>item_name_first11</th>\n",
       "      <th>item_category_id</th>\n",
       "      <th>type_code</th>\n",
       "      <th>subtype_code</th>\n",
       "      <th>year</th>\n",
       "      <th>day_quality</th>\n",
       "      <th>first_day_of_month</th>\n",
       "    </tr>\n",
       "  </thead>\n",
       "  <tbody>\n",
       "    <tr>\n",
       "      <th>0</th>\n",
       "      <td>0</td>\n",
       "      <td>2</td>\n",
       "      <td>19</td>\n",
       "      <td>40</td>\n",
       "      <td>2.0</td>\n",
       "      <td>37.0</td>\n",
       "      <td>1353.0</td>\n",
       "      <td>2435.0</td>\n",
       "      <td>4284.0</td>\n",
       "      <td>40</td>\n",
       "      <td>11.0</td>\n",
       "      <td>4.0</td>\n",
       "      <td>0</td>\n",
       "      <td>4.381744</td>\n",
       "      <td>1</td>\n",
       "    </tr>\n",
       "    <tr>\n",
       "      <th>1</th>\n",
       "      <td>0</td>\n",
       "      <td>2</td>\n",
       "      <td>27</td>\n",
       "      <td>19</td>\n",
       "      <td>87.0</td>\n",
       "      <td>37.0</td>\n",
       "      <td>2.0</td>\n",
       "      <td>2.0</td>\n",
       "      <td>2.0</td>\n",
       "      <td>19</td>\n",
       "      <td>5.0</td>\n",
       "      <td>10.0</td>\n",
       "      <td>0</td>\n",
       "      <td>4.381744</td>\n",
       "      <td>1</td>\n",
       "    </tr>\n",
       "    <tr>\n",
       "      <th>2</th>\n",
       "      <td>0</td>\n",
       "      <td>2</td>\n",
       "      <td>28</td>\n",
       "      <td>30</td>\n",
       "      <td>64.0</td>\n",
       "      <td>37.0</td>\n",
       "      <td>2.0</td>\n",
       "      <td>2.0</td>\n",
       "      <td>2.0</td>\n",
       "      <td>30</td>\n",
       "      <td>8.0</td>\n",
       "      <td>55.0</td>\n",
       "      <td>0</td>\n",
       "      <td>4.381744</td>\n",
       "      <td>1</td>\n",
       "    </tr>\n",
       "    <tr>\n",
       "      <th>3</th>\n",
       "      <td>0</td>\n",
       "      <td>2</td>\n",
       "      <td>29</td>\n",
       "      <td>23</td>\n",
       "      <td>129.0</td>\n",
       "      <td>37.0</td>\n",
       "      <td>2.0</td>\n",
       "      <td>2.0</td>\n",
       "      <td>2.0</td>\n",
       "      <td>23</td>\n",
       "      <td>5.0</td>\n",
       "      <td>16.0</td>\n",
       "      <td>0</td>\n",
       "      <td>4.381744</td>\n",
       "      <td>1</td>\n",
       "    </tr>\n",
       "    <tr>\n",
       "      <th>4</th>\n",
       "      <td>0</td>\n",
       "      <td>2</td>\n",
       "      <td>32</td>\n",
       "      <td>40</td>\n",
       "      <td>2.0</td>\n",
       "      <td>37.0</td>\n",
       "      <td>0.0</td>\n",
       "      <td>0.0</td>\n",
       "      <td>0.0</td>\n",
       "      <td>40</td>\n",
       "      <td>11.0</td>\n",
       "      <td>4.0</td>\n",
       "      <td>0</td>\n",
       "      <td>4.381744</td>\n",
       "      <td>1</td>\n",
       "    </tr>\n",
       "  </tbody>\n",
       "</table>\n",
       "</div>"
      ],
      "text/plain": [
       "   date_block_num  shop_id  item_id  category_id  item_name2  item_name3  \\\n",
       "0               0        2       19           40         2.0        37.0   \n",
       "1               0        2       27           19        87.0        37.0   \n",
       "2               0        2       28           30        64.0        37.0   \n",
       "3               0        2       29           23       129.0        37.0   \n",
       "4               0        2       32           40         2.0        37.0   \n",
       "\n",
       "   item_name_first4  item_name_first6  item_name_first11  item_category_id  \\\n",
       "0            1353.0            2435.0             4284.0                40   \n",
       "1               2.0               2.0                2.0                19   \n",
       "2               2.0               2.0                2.0                30   \n",
       "3               2.0               2.0                2.0                23   \n",
       "4               0.0               0.0                0.0                40   \n",
       "\n",
       "   type_code  subtype_code  year  day_quality  first_day_of_month  \n",
       "0       11.0           4.0     0     4.381744                   1  \n",
       "1        5.0          10.0     0     4.381744                   1  \n",
       "2        8.0          55.0     0     4.381744                   1  \n",
       "3        5.0          16.0     0     4.381744                   1  \n",
       "4       11.0           4.0     0     4.381744                   1  "
      ]
     },
     "execution_count": 32,
     "metadata": {},
     "output_type": "execute_result"
    }
   ],
   "source": [
    "grid = pd.merge(grid, dates.drop('month', axis = 1), on = ['date_block_num','shop_id'], how = 'left')\n",
    "grid.head()"
   ]
  },
  {
   "cell_type": "markdown",
   "metadata": {},
   "source": [
    "## Add  age related features"
   ]
  },
  {
   "cell_type": "code",
   "execution_count": 33,
   "metadata": {},
   "outputs": [
    {
     "data": {
      "text/plain": [
       "11.263567209243774"
      ]
     },
     "execution_count": 33,
     "metadata": {},
     "output_type": "execute_result"
    }
   ],
   "source": [
    "ts = time.time()\n",
    "train_monthly = train.groupby(index_cols).agg({'first_sale_day':['first']})\n",
    "train_monthly.columns = ['first_sale_day']\n",
    "train_monthly = train_monthly.reset_index()\n",
    "grid = pd.merge(grid, train_monthly, on = index_cols, how = \"left\").fillna(0)\n",
    "time.time() - ts"
   ]
  },
  {
   "cell_type": "code",
   "execution_count": 34,
   "metadata": {},
   "outputs": [
    {
     "data": {
      "text/plain": [
       "5.974108695983887"
      ]
     },
     "execution_count": 34,
     "metadata": {},
     "output_type": "execute_result"
    }
   ],
   "source": [
    "ts = time.time()\n",
    "grid['first_sale_day'] = grid.groupby('item_id')['first_sale_day'].transform('max').astype('int16')\n",
    "grid.loc[grid['first_sale_day'] == 0, 'first_sale_day'] = 1035 # first_day_of_month for date_block_num = 34\n",
    "grid['prev_days_on_sale'] = [max(idx) for idx in zip(grid['first_day_of_month'] - grid['first_sale_day'], \\\n",
    "                                                     [0] * len(grid))]\n",
    "del grid['first_day_of_month']\n",
    "time.time() - ts"
   ]
  },
  {
   "cell_type": "code",
   "execution_count": 35,
   "metadata": {},
   "outputs": [
    {
     "data": {
      "text/plain": [
       "2.0131142139434814"
      ]
     },
     "execution_count": 35,
     "metadata": {},
     "output_type": "execute_result"
    }
   ],
   "source": [
    "ts = time.time()\n",
    "grid['item_age'] = (grid['date_block_num'] - grid.groupby('item_id')['date_block_num'].transform('min'))\\\n",
    ".astype('int8')\n",
    "\n",
    "grid['item_name_first4_age'] = (grid['date_block_num'] - grid.groupby('item_name_first4')['date_block_num']\\\n",
    "                                 .transform('min')).astype('int8')\n",
    "\n",
    "grid['item_name_first6_age'] = (grid['date_block_num'] - grid.groupby('item_name_first6')['date_block_num']\\\n",
    "                                 .transform('min')).astype('int8')\n",
    "\n",
    "grid['item_name_first11_age'] = (grid['date_block_num'] - grid.groupby('item_name_first11')['date_block_num']\\\n",
    "                                 .transform('min')).astype('int8')\n",
    "\n",
    "grid['category_age'] = (grid['date_block_num'] - grid.groupby('category_id')['date_block_num'].transform('min'))\\\n",
    ".astype('int8')\n",
    "\n",
    "grid['type_age'] = (grid['date_block_num'] - grid.groupby('type_code')['date_block_num'].transform('min'))\\\n",
    ".astype('int8')\n",
    "\n",
    "grid['shop_age'] = (grid['date_block_num'] - grid.groupby('shop_id')['date_block_num'].transform('min'))\\\n",
    ".astype('int8')\n",
    "time.time() - ts"
   ]
  },
  {
   "cell_type": "markdown",
   "metadata": {},
   "source": [
    "## Target variable and target lags"
   ]
  },
  {
   "cell_type": "markdown",
   "metadata": {},
   "source": [
    "Obtain the target."
   ]
  },
  {
   "cell_type": "code",
   "execution_count": 36,
   "metadata": {},
   "outputs": [
    {
     "data": {
      "text/plain": [
       "7.840273141860962"
      ]
     },
     "execution_count": 36,
     "metadata": {},
     "output_type": "execute_result"
    }
   ],
   "source": [
    "ts = time.time()\n",
    "train_monthly = train.groupby(index_cols).agg({'item_cnt_day':['sum']})\n",
    "train_monthly.columns = ['item_cnt_month_shop_item']\n",
    "train_monthly = train_monthly.reset_index()\n",
    "grid = pd.merge(grid, train_monthly, on = index_cols, how = \"left\" )\n",
    "time.time() - ts"
   ]
  },
  {
   "cell_type": "markdown",
   "metadata": {},
   "source": [
    "Fill NaNs with 0 in the target and clip to the range [0, 20] (the range that will be considered on evaluation).\n",
    "We also keep an unclipped version."
   ]
  },
  {
   "cell_type": "code",
   "execution_count": 37,
   "metadata": {},
   "outputs": [],
   "source": [
    "grid['item_cnt_month_shop_item_unclipped'] = grid['item_cnt_month_shop_item'].fillna(0)\n",
    "grid['item_cnt_month_shop_item'] = grid['item_cnt_month_shop_item'].fillna(0).clip(0,20)"
   ]
  },
  {
   "cell_type": "markdown",
   "metadata": {},
   "source": [
    "Define the function we use to get lagged values of relevant aggregated quantities and the lags we will use (in general)."
   ]
  },
  {
   "cell_type": "code",
   "execution_count": 38,
   "metadata": {},
   "outputs": [],
   "source": [
    "def lag_feature(df, lags, cols):\n",
    "    for col in cols:\n",
    "        print('Adding lagged feature(s) for:', col)\n",
    "        tmp = df[index_cols + [col]]\n",
    "        for i in lags:\n",
    "            shifted = tmp.copy()            \n",
    "            shifted.columns = index_cols + [col + \"_lag_\" + str(i)]\n",
    "            shifted.date_block_num = shifted.date_block_num + i\n",
    "            df = pd.merge(df, shifted, on = index_cols, how = 'left')\n",
    "    return df\n",
    "\n",
    "lags = [1, 2, 3]"
   ]
  },
  {
   "cell_type": "markdown",
   "metadata": {},
   "source": [
    "We also add the summed lagged values for the previous 12 months."
   ]
  },
  {
   "cell_type": "code",
   "execution_count": 39,
   "metadata": {},
   "outputs": [],
   "source": [
    "def lag_feature_12(df, col):\n",
    "    temp = df[index_cols].copy()\n",
    "    temp[col] = df[col]\n",
    "    temp[f'{col}_lag1to12'] = 0\n",
    "    \n",
    "    for i in range(1, 13):    \n",
    "        temp = lag_feature(temp, [i], [col])\n",
    "        temp.fillna(0, inplace = True)\n",
    "        temp[f'{col}_lag1to12'] += temp[col + \"_lag_\" + str(i)]\n",
    "        del temp[col + \"_lag_\" + str(i)]\n",
    "    temp = temp[f'{col}_lag1to12']    \n",
    "    return pd.concat([df, temp], axis = 1)    "
   ]
  },
  {
   "cell_type": "markdown",
   "metadata": {},
   "source": [
    "Add lags of the target."
   ]
  },
  {
   "cell_type": "code",
   "execution_count": 40,
   "metadata": {},
   "outputs": [
    {
     "name": "stdout",
     "output_type": "stream",
     "text": [
      "Adding lagged feature(s) for: item_cnt_month_shop_item\n"
     ]
    },
    {
     "data": {
      "text/plain": [
       "32.67585849761963"
      ]
     },
     "execution_count": 40,
     "metadata": {},
     "output_type": "execute_result"
    }
   ],
   "source": [
    "ts = time.time()\n",
    "grid = lag_feature(grid, lags, ['item_cnt_month_shop_item'])\n",
    "time.time() - ts"
   ]
  },
  {
   "cell_type": "code",
   "execution_count": 41,
   "metadata": {},
   "outputs": [
    {
     "name": "stdout",
     "output_type": "stream",
     "text": [
      "Adding lagged feature(s) for: item_cnt_month_shop_item\n",
      "Adding lagged feature(s) for: item_cnt_month_shop_item\n",
      "Adding lagged feature(s) for: item_cnt_month_shop_item\n",
      "Adding lagged feature(s) for: item_cnt_month_shop_item\n",
      "Adding lagged feature(s) for: item_cnt_month_shop_item\n",
      "Adding lagged feature(s) for: item_cnt_month_shop_item\n",
      "Adding lagged feature(s) for: item_cnt_month_shop_item\n",
      "Adding lagged feature(s) for: item_cnt_month_shop_item\n",
      "Adding lagged feature(s) for: item_cnt_month_shop_item\n",
      "Adding lagged feature(s) for: item_cnt_month_shop_item\n",
      "Adding lagged feature(s) for: item_cnt_month_shop_item\n",
      "Adding lagged feature(s) for: item_cnt_month_shop_item\n"
     ]
    },
    {
     "data": {
      "text/plain": [
       "74.36667227745056"
      ]
     },
     "execution_count": 41,
     "metadata": {},
     "output_type": "execute_result"
    }
   ],
   "source": [
    "ts = time.time()\n",
    "grid = lag_feature_12(grid, 'item_cnt_month_shop_item')\n",
    "time.time() - ts"
   ]
  },
  {
   "cell_type": "markdown",
   "metadata": {},
   "source": [
    "We also take the lagged values of the unclipped values."
   ]
  },
  {
   "cell_type": "code",
   "execution_count": 42,
   "metadata": {},
   "outputs": [
    {
     "name": "stdout",
     "output_type": "stream",
     "text": [
      "Adding lagged feature(s) for: item_cnt_month_shop_item_unclipped\n"
     ]
    },
    {
     "data": {
      "text/plain": [
       "25.745172262191772"
      ]
     },
     "execution_count": 42,
     "metadata": {},
     "output_type": "execute_result"
    }
   ],
   "source": [
    "ts = time.time()\n",
    "grid = lag_feature(grid, lags, ['item_cnt_month_shop_item_unclipped'])\n",
    "time.time() - ts"
   ]
  },
  {
   "cell_type": "markdown",
   "metadata": {},
   "source": [
    "Downcast to save memory."
   ]
  },
  {
   "cell_type": "code",
   "execution_count": 43,
   "metadata": {},
   "outputs": [],
   "source": [
    "def downcast(df):\n",
    "    for col in grid.columns:\n",
    "        if df[col].dtype == 'int64':\n",
    "            df[col] = df[col].astype(np.int16)\n",
    "        if df[col].dtype == 'float64':\n",
    "            df[col] = df[col].astype(np.float16)\n",
    "    return(df)\n",
    "\n",
    "grid = downcast(grid)"
   ]
  },
  {
   "cell_type": "markdown",
   "metadata": {},
   "source": [
    "## Add cluster of shops and shop_type\n",
    "\n",
    "Cluster the shops based on the proportion of the sales they make in each category."
   ]
  },
  {
   "cell_type": "code",
   "execution_count": 44,
   "metadata": {},
   "outputs": [],
   "source": [
    "shops_cats = pd.DataFrame(\n",
    "    np.array(list(product(*[grid['shop_id'].unique(), grid['category_id'].unique()]))),\n",
    "    columns = ['shop_id', 'category_id']\n",
    ")\n",
    "temp = grid.groupby(['category_id', 'shop_id']).agg({'item_cnt_month_shop_item':'sum'}).reset_index()\n",
    "temp2 = temp.groupby('shop_id').agg({'item_cnt_month_shop_item':'sum'}).\\\n",
    "rename(columns = {'item_cnt_month_shop_item':'shop_total'})\n",
    "temp = temp.join(temp2, on = 'shop_id')\n",
    "temp['category_proportion'] = temp['item_cnt_month_shop_item'] / temp['shop_total']\n",
    "temp = temp[['shop_id', 'category_id', 'category_proportion']]\n",
    "shops_cats = pd.merge(shops_cats, temp, on = ['shop_id', 'category_id'], how = 'left')\n",
    "shops_cats = shops_cats.fillna(0)\n",
    "\n",
    "shops_cats = shops_cats.pivot(index = 'shop_id', columns = ['category_id'])\n",
    "kmeans = KMeans(n_clusters = 7, random_state = 0).fit(shops_cats)\n",
    "shops_cats['shop_cluster'] = kmeans.labels_.astype('int8')\n",
    "\n",
    "shops = shops.join(shops_cats['shop_cluster'], on = 'shop_id')\n",
    "\n",
    "grid = pd.merge(grid, shops, on = ['shop_id'], how = 'left')"
   ]
  },
  {
   "cell_type": "markdown",
   "metadata": {},
   "source": [
    "## Mean encoded features"
   ]
  },
  {
   "cell_type": "markdown",
   "metadata": {},
   "source": [
    "Add aggregated values for date_block_num, shop_id and item_id (index_cols)."
   ]
  },
  {
   "cell_type": "code",
   "execution_count": 45,
   "metadata": {},
   "outputs": [
    {
     "name": "stdout",
     "output_type": "stream",
     "text": [
      "Adding lagged feature(s) for: item_cnt_month_shop_item_mean\n",
      "Adding lagged feature(s) for: item_price_month_shop_item_mean\n",
      "Adding lagged feature(s) for: revenue_month_shop_item\n",
      "Adding lagged feature(s) for: item_cnt_month_shop_item_mean\n",
      "Adding lagged feature(s) for: item_cnt_month_shop_item_mean\n",
      "Adding lagged feature(s) for: item_cnt_month_shop_item_mean\n",
      "Adding lagged feature(s) for: item_cnt_month_shop_item_mean\n",
      "Adding lagged feature(s) for: item_cnt_month_shop_item_mean\n",
      "Adding lagged feature(s) for: item_cnt_month_shop_item_mean\n",
      "Adding lagged feature(s) for: item_cnt_month_shop_item_mean\n",
      "Adding lagged feature(s) for: item_cnt_month_shop_item_mean\n",
      "Adding lagged feature(s) for: item_cnt_month_shop_item_mean\n",
      "Adding lagged feature(s) for: item_cnt_month_shop_item_mean\n",
      "Adding lagged feature(s) for: item_cnt_month_shop_item_mean\n",
      "Adding lagged feature(s) for: item_cnt_month_shop_item_mean\n",
      "Adding lagged feature(s) for: item_price_month_shop_item_mean\n",
      "Adding lagged feature(s) for: item_price_month_shop_item_mean\n",
      "Adding lagged feature(s) for: item_price_month_shop_item_mean\n",
      "Adding lagged feature(s) for: item_price_month_shop_item_mean\n",
      "Adding lagged feature(s) for: item_price_month_shop_item_mean\n",
      "Adding lagged feature(s) for: item_price_month_shop_item_mean\n",
      "Adding lagged feature(s) for: item_price_month_shop_item_mean\n",
      "Adding lagged feature(s) for: item_price_month_shop_item_mean\n",
      "Adding lagged feature(s) for: item_price_month_shop_item_mean\n",
      "Adding lagged feature(s) for: item_price_month_shop_item_mean\n",
      "Adding lagged feature(s) for: item_price_month_shop_item_mean\n",
      "Adding lagged feature(s) for: item_price_month_shop_item_mean\n",
      "Adding lagged feature(s) for: revenue_month_shop_item\n",
      "Adding lagged feature(s) for: revenue_month_shop_item\n",
      "Adding lagged feature(s) for: revenue_month_shop_item\n",
      "Adding lagged feature(s) for: revenue_month_shop_item\n",
      "Adding lagged feature(s) for: revenue_month_shop_item\n",
      "Adding lagged feature(s) for: revenue_month_shop_item\n",
      "Adding lagged feature(s) for: revenue_month_shop_item\n",
      "Adding lagged feature(s) for: revenue_month_shop_item\n",
      "Adding lagged feature(s) for: revenue_month_shop_item\n",
      "Adding lagged feature(s) for: revenue_month_shop_item\n",
      "Adding lagged feature(s) for: revenue_month_shop_item\n",
      "Adding lagged feature(s) for: revenue_month_shop_item\n"
     ]
    },
    {
     "data": {
      "text/plain": [
       "289.2581753730774"
      ]
     },
     "execution_count": 45,
     "metadata": {},
     "output_type": "execute_result"
    }
   ],
   "source": [
    "ts = time.time()\n",
    "train_monthly = train.groupby(index_cols).agg({'item_cnt_day':['mean'], 'item_price':['mean'], 'revenue':['sum'], })\n",
    "train_monthly.columns = ['item_cnt_month_shop_item_mean', 'item_price_month_shop_item_mean', 'revenue_month_shop_item']\n",
    "train_monthly = train_monthly.reset_index()\n",
    "\n",
    "grid = pd.merge(grid, train_monthly, on = index_cols, how = \"left\" )\n",
    "\n",
    "grid = lag_feature(grid, lags, ['item_cnt_month_shop_item_mean', 'item_price_month_shop_item_mean', 'revenue_month_shop_item'])\n",
    "\n",
    "grid = lag_feature_12(grid, 'item_cnt_month_shop_item_mean')\n",
    "grid = lag_feature_12(grid, 'item_price_month_shop_item_mean')\n",
    "grid = lag_feature_12(grid, 'revenue_month_shop_item')\n",
    "\n",
    "grid = grid.drop(['item_cnt_month_shop_item_mean', 'item_price_month_shop_item_mean', 'revenue_month_shop_item'], axis = 1)\n",
    "time.time()- ts"
   ]
  },
  {
   "cell_type": "markdown",
   "metadata": {},
   "source": [
    "**Note:** We must drop item_cnt_month_shop_item_mean, item_price_month_shop_item_mean and revenue_month_shop_item, otherwise we have data leakage (information extracted from the target is contained in a feature). item_cnt_month_shop_item is our target, so we keep it for now."
   ]
  },
  {
   "cell_type": "code",
   "execution_count": 46,
   "metadata": {},
   "outputs": [],
   "source": [
    "grid = downcast(grid)"
   ]
  },
  {
   "cell_type": "markdown",
   "metadata": {},
   "source": [
    "Add aggregated values for date_block_num and shop_id."
   ]
  },
  {
   "cell_type": "code",
   "execution_count": 47,
   "metadata": {},
   "outputs": [
    {
     "name": "stdout",
     "output_type": "stream",
     "text": [
      "Adding lagged feature(s) for: item_cnt_month_shop_mean\n",
      "Adding lagged feature(s) for: item_price_month_shop_mean\n",
      "Adding lagged feature(s) for: revenue_month_shop\n",
      "Adding lagged feature(s) for: item_cnt_month_shop_mean\n",
      "Adding lagged feature(s) for: item_cnt_month_shop_mean\n",
      "Adding lagged feature(s) for: item_cnt_month_shop_mean\n",
      "Adding lagged feature(s) for: item_cnt_month_shop_mean\n",
      "Adding lagged feature(s) for: item_cnt_month_shop_mean\n",
      "Adding lagged feature(s) for: item_cnt_month_shop_mean\n",
      "Adding lagged feature(s) for: item_cnt_month_shop_mean\n",
      "Adding lagged feature(s) for: item_cnt_month_shop_mean\n",
      "Adding lagged feature(s) for: item_cnt_month_shop_mean\n",
      "Adding lagged feature(s) for: item_cnt_month_shop_mean\n",
      "Adding lagged feature(s) for: item_cnt_month_shop_mean\n",
      "Adding lagged feature(s) for: item_cnt_month_shop_mean\n",
      "Adding lagged feature(s) for: item_price_month_shop_mean\n",
      "Adding lagged feature(s) for: item_price_month_shop_mean\n",
      "Adding lagged feature(s) for: item_price_month_shop_mean\n",
      "Adding lagged feature(s) for: item_price_month_shop_mean\n",
      "Adding lagged feature(s) for: item_price_month_shop_mean\n",
      "Adding lagged feature(s) for: item_price_month_shop_mean\n",
      "Adding lagged feature(s) for: item_price_month_shop_mean\n",
      "Adding lagged feature(s) for: item_price_month_shop_mean\n",
      "Adding lagged feature(s) for: item_price_month_shop_mean\n",
      "Adding lagged feature(s) for: item_price_month_shop_mean\n",
      "Adding lagged feature(s) for: item_price_month_shop_mean\n",
      "Adding lagged feature(s) for: item_price_month_shop_mean\n",
      "Adding lagged feature(s) for: revenue_month_shop\n",
      "Adding lagged feature(s) for: revenue_month_shop\n",
      "Adding lagged feature(s) for: revenue_month_shop\n",
      "Adding lagged feature(s) for: revenue_month_shop\n",
      "Adding lagged feature(s) for: revenue_month_shop\n",
      "Adding lagged feature(s) for: revenue_month_shop\n",
      "Adding lagged feature(s) for: revenue_month_shop\n",
      "Adding lagged feature(s) for: revenue_month_shop\n",
      "Adding lagged feature(s) for: revenue_month_shop\n",
      "Adding lagged feature(s) for: revenue_month_shop\n",
      "Adding lagged feature(s) for: revenue_month_shop\n",
      "Adding lagged feature(s) for: revenue_month_shop\n"
     ]
    },
    {
     "data": {
      "text/plain": [
       "305.5438446998596"
      ]
     },
     "execution_count": 47,
     "metadata": {},
     "output_type": "execute_result"
    }
   ],
   "source": [
    "ts = time.time()\n",
    "train_monthly = train.groupby(['date_block_num', 'shop_id']).agg({'item_cnt_day':['mean'], 'item_price':['mean'], 'revenue':['sum']})\n",
    "train_monthly.columns = ['item_cnt_month_shop_mean',  'item_price_month_shop_mean', 'revenue_month_shop']\n",
    "train_monthly = train_monthly.reset_index()\n",
    "\n",
    "grid = pd.merge(grid, train_monthly, on = ['date_block_num', 'shop_id'], how = \"left\" )\n",
    "\n",
    "grid = lag_feature(grid, lags, ['item_cnt_month_shop_mean', 'item_price_month_shop_mean', 'revenue_month_shop'])\n",
    "\n",
    "grid = lag_feature_12(grid, 'item_cnt_month_shop_mean')\n",
    "grid = lag_feature_12(grid, 'item_price_month_shop_mean')\n",
    "grid = lag_feature_12(grid, 'revenue_month_shop')\n",
    "\n",
    "grid = grid.drop(['item_cnt_month_shop_mean', 'item_price_month_shop_mean', 'revenue_month_shop'], axis = 1)\n",
    "time.time()- ts"
   ]
  },
  {
   "cell_type": "code",
   "execution_count": 48,
   "metadata": {},
   "outputs": [],
   "source": [
    "grid = downcast(grid)"
   ]
  },
  {
   "cell_type": "markdown",
   "metadata": {},
   "source": [
    "Add aggregated values for date_block_num and item_id."
   ]
  },
  {
   "cell_type": "code",
   "execution_count": 49,
   "metadata": {},
   "outputs": [
    {
     "name": "stdout",
     "output_type": "stream",
     "text": [
      "Adding lagged feature(s) for: item_cnt_month_item_mean\n",
      "Adding lagged feature(s) for: item_price_month_item_mean\n",
      "Adding lagged feature(s) for: revenue_month_item\n",
      "Adding lagged feature(s) for: item_cnt_month_item_mean\n",
      "Adding lagged feature(s) for: item_cnt_month_item_mean\n",
      "Adding lagged feature(s) for: item_cnt_month_item_mean\n",
      "Adding lagged feature(s) for: item_cnt_month_item_mean\n",
      "Adding lagged feature(s) for: item_cnt_month_item_mean\n",
      "Adding lagged feature(s) for: item_cnt_month_item_mean\n",
      "Adding lagged feature(s) for: item_cnt_month_item_mean\n",
      "Adding lagged feature(s) for: item_cnt_month_item_mean\n",
      "Adding lagged feature(s) for: item_cnt_month_item_mean\n",
      "Adding lagged feature(s) for: item_cnt_month_item_mean\n",
      "Adding lagged feature(s) for: item_cnt_month_item_mean\n",
      "Adding lagged feature(s) for: item_cnt_month_item_mean\n",
      "Adding lagged feature(s) for: item_price_month_item_mean\n",
      "Adding lagged feature(s) for: item_price_month_item_mean\n",
      "Adding lagged feature(s) for: item_price_month_item_mean\n",
      "Adding lagged feature(s) for: item_price_month_item_mean\n",
      "Adding lagged feature(s) for: item_price_month_item_mean\n",
      "Adding lagged feature(s) for: item_price_month_item_mean\n",
      "Adding lagged feature(s) for: item_price_month_item_mean\n",
      "Adding lagged feature(s) for: item_price_month_item_mean\n",
      "Adding lagged feature(s) for: item_price_month_item_mean\n",
      "Adding lagged feature(s) for: item_price_month_item_mean\n",
      "Adding lagged feature(s) for: item_price_month_item_mean\n",
      "Adding lagged feature(s) for: item_price_month_item_mean\n",
      "Adding lagged feature(s) for: revenue_month_item\n",
      "Adding lagged feature(s) for: revenue_month_item\n",
      "Adding lagged feature(s) for: revenue_month_item\n",
      "Adding lagged feature(s) for: revenue_month_item\n",
      "Adding lagged feature(s) for: revenue_month_item\n",
      "Adding lagged feature(s) for: revenue_month_item\n",
      "Adding lagged feature(s) for: revenue_month_item\n",
      "Adding lagged feature(s) for: revenue_month_item\n",
      "Adding lagged feature(s) for: revenue_month_item\n",
      "Adding lagged feature(s) for: revenue_month_item\n",
      "Adding lagged feature(s) for: revenue_month_item\n",
      "Adding lagged feature(s) for: revenue_month_item\n"
     ]
    },
    {
     "data": {
      "text/plain": [
       "326.6337914466858"
      ]
     },
     "execution_count": 49,
     "metadata": {},
     "output_type": "execute_result"
    }
   ],
   "source": [
    "ts = time.time()\n",
    "train_monthly = train.groupby(['date_block_num', 'item_id']).agg({'item_cnt_day':['mean'], 'item_price':['mean'], 'revenue':['sum']})\n",
    "train_monthly.columns = ['item_cnt_month_item_mean', 'item_price_month_item_mean', 'revenue_month_item']\n",
    "train_monthly = train_monthly.reset_index()\n",
    "\n",
    "grid = pd.merge(grid, train_monthly, on = ['date_block_num', 'item_id'], how = \"left\" )\n",
    "\n",
    "grid = lag_feature(grid, lags, ['item_cnt_month_item_mean', 'item_price_month_item_mean', 'revenue_month_item'])\n",
    "\n",
    "grid = lag_feature_12(grid, 'item_cnt_month_item_mean')\n",
    "grid = lag_feature_12(grid, 'item_price_month_item_mean')\n",
    "grid = lag_feature_12(grid, 'revenue_month_item')\n",
    "\n",
    "grid = grid.drop(['item_cnt_month_item_mean', 'item_price_month_item_mean', 'revenue_month_item'], axis = 1)\n",
    "time.time()- ts"
   ]
  },
  {
   "cell_type": "code",
   "execution_count": 50,
   "metadata": {},
   "outputs": [],
   "source": [
    "grid = downcast(grid)"
   ]
  },
  {
   "cell_type": "markdown",
   "metadata": {},
   "source": [
    "Add aggregated values only for date_block_num."
   ]
  },
  {
   "cell_type": "code",
   "execution_count": 51,
   "metadata": {},
   "outputs": [
    {
     "name": "stdout",
     "output_type": "stream",
     "text": [
      "Adding lagged feature(s) for: item_cnt_month_mean\n",
      "Adding lagged feature(s) for: item_cnt_month_mean\n",
      "Adding lagged feature(s) for: item_cnt_month_mean\n",
      "Adding lagged feature(s) for: item_cnt_month_mean\n",
      "Adding lagged feature(s) for: item_cnt_month_mean\n",
      "Adding lagged feature(s) for: item_cnt_month_mean\n",
      "Adding lagged feature(s) for: item_cnt_month_mean\n",
      "Adding lagged feature(s) for: item_cnt_month_mean\n",
      "Adding lagged feature(s) for: item_cnt_month_mean\n",
      "Adding lagged feature(s) for: item_cnt_month_mean\n",
      "Adding lagged feature(s) for: item_cnt_month_mean\n",
      "Adding lagged feature(s) for: item_cnt_month_mean\n",
      "Adding lagged feature(s) for: item_cnt_month_mean\n"
     ]
    },
    {
     "data": {
      "text/plain": [
       "123.40091180801392"
      ]
     },
     "execution_count": 51,
     "metadata": {},
     "output_type": "execute_result"
    }
   ],
   "source": [
    "ts = time.time()\n",
    "train_monthly = train.groupby('date_block_num').agg({'item_cnt_day':['mean']})\n",
    "train_monthly.columns = ['item_cnt_month_mean']\n",
    "train_monthly = train_monthly.reset_index()\n",
    "\n",
    "grid = pd.merge(grid, train_monthly, on = ['date_block_num'], how = \"left\" )\n",
    "\n",
    "grid = lag_feature(grid, lags, ['item_cnt_month_mean'])\n",
    "\n",
    "grid = lag_feature_12(grid, 'item_cnt_month_mean')\n",
    "\n",
    "grid = grid.drop('item_cnt_month_mean', axis = 1)\n",
    "time.time()- ts"
   ]
  },
  {
   "cell_type": "code",
   "execution_count": 52,
   "metadata": {},
   "outputs": [],
   "source": [
    "grid = downcast(grid)"
   ]
  },
  {
   "cell_type": "markdown",
   "metadata": {},
   "source": [
    "Add aggregated values for date_block_num and item_category_id."
   ]
  },
  {
   "cell_type": "code",
   "execution_count": 53,
   "metadata": {},
   "outputs": [
    {
     "name": "stdout",
     "output_type": "stream",
     "text": [
      "Adding lagged feature(s) for: item_cnt_month_item_cat_mean\n",
      "Adding lagged feature(s) for: item_cnt_month_item_cat_mean\n",
      "Adding lagged feature(s) for: item_cnt_month_item_cat_mean\n",
      "Adding lagged feature(s) for: item_cnt_month_item_cat_mean\n",
      "Adding lagged feature(s) for: item_cnt_month_item_cat_mean\n",
      "Adding lagged feature(s) for: item_cnt_month_item_cat_mean\n",
      "Adding lagged feature(s) for: item_cnt_month_item_cat_mean\n",
      "Adding lagged feature(s) for: item_cnt_month_item_cat_mean\n",
      "Adding lagged feature(s) for: item_cnt_month_item_cat_mean\n",
      "Adding lagged feature(s) for: item_cnt_month_item_cat_mean\n",
      "Adding lagged feature(s) for: item_cnt_month_item_cat_mean\n",
      "Adding lagged feature(s) for: item_cnt_month_item_cat_mean\n",
      "Adding lagged feature(s) for: item_cnt_month_item_cat_mean\n"
     ]
    },
    {
     "data": {
      "text/plain": [
       "129.6575174331665"
      ]
     },
     "execution_count": 53,
     "metadata": {},
     "output_type": "execute_result"
    }
   ],
   "source": [
    "ts = time.time()\n",
    "grid_agg = grid.groupby(['date_block_num', 'item_category_id']).agg({'item_cnt_month_shop_item':['mean']})\n",
    "grid_agg.columns = ['item_cnt_month_item_cat_mean']\n",
    "grid_agg = grid_agg.reset_index()\n",
    "\n",
    "grid = pd.merge(grid, grid_agg, on = ['date_block_num', 'item_category_id'], how = \"left\" )\n",
    "\n",
    "grid = lag_feature(grid, lags, ['item_cnt_month_item_cat_mean'])\n",
    "\n",
    "grid = lag_feature_12(grid, 'item_cnt_month_item_cat_mean')\n",
    "\n",
    "grid = grid.drop('item_cnt_month_item_cat_mean', axis = 1)\n",
    "time.time()- ts"
   ]
  },
  {
   "cell_type": "code",
   "execution_count": 54,
   "metadata": {},
   "outputs": [],
   "source": [
    "grid = downcast(grid)"
   ]
  },
  {
   "cell_type": "markdown",
   "metadata": {},
   "source": [
    "Add aggregated values for date_block_num, shop_id and item_category_id."
   ]
  },
  {
   "cell_type": "code",
   "execution_count": 55,
   "metadata": {},
   "outputs": [
    {
     "name": "stdout",
     "output_type": "stream",
     "text": [
      "Adding lagged feature(s) for: item_cnt_month_shop_item_cat_mean\n",
      "Adding lagged feature(s) for: item_cnt_month_shop_item_cat_mean\n",
      "Adding lagged feature(s) for: item_cnt_month_shop_item_cat_mean\n",
      "Adding lagged feature(s) for: item_cnt_month_shop_item_cat_mean\n",
      "Adding lagged feature(s) for: item_cnt_month_shop_item_cat_mean\n",
      "Adding lagged feature(s) for: item_cnt_month_shop_item_cat_mean\n",
      "Adding lagged feature(s) for: item_cnt_month_shop_item_cat_mean\n",
      "Adding lagged feature(s) for: item_cnt_month_shop_item_cat_mean\n",
      "Adding lagged feature(s) for: item_cnt_month_shop_item_cat_mean\n",
      "Adding lagged feature(s) for: item_cnt_month_shop_item_cat_mean\n",
      "Adding lagged feature(s) for: item_cnt_month_shop_item_cat_mean\n",
      "Adding lagged feature(s) for: item_cnt_month_shop_item_cat_mean\n",
      "Adding lagged feature(s) for: item_cnt_month_shop_item_cat_mean\n"
     ]
    },
    {
     "data": {
      "text/plain": [
       "133.422869682312"
      ]
     },
     "execution_count": 55,
     "metadata": {},
     "output_type": "execute_result"
    }
   ],
   "source": [
    "ts = time.time()\n",
    "grid_agg = grid.groupby(['date_block_num', 'shop_id', 'item_category_id']).agg({'item_cnt_month_shop_item':['mean']})\n",
    "grid_agg.columns = ['item_cnt_month_shop_item_cat_mean']\n",
    "grid_agg = grid_agg.reset_index()\n",
    "\n",
    "grid = pd.merge(grid, grid_agg, on = ['date_block_num', 'shop_id', 'item_category_id'], how = \"left\" )\n",
    "\n",
    "grid = lag_feature(grid, lags, ['item_cnt_month_shop_item_cat_mean'])\n",
    "\n",
    "grid = lag_feature_12(grid, 'item_cnt_month_shop_item_cat_mean')\n",
    "\n",
    "grid = grid.drop('item_cnt_month_shop_item_cat_mean', axis = 1)\n",
    "time.time()- ts"
   ]
  },
  {
   "cell_type": "code",
   "execution_count": 56,
   "metadata": {},
   "outputs": [],
   "source": [
    "grid = downcast(grid)"
   ]
  },
  {
   "cell_type": "markdown",
   "metadata": {},
   "source": [
    "Add aggregated values for date_block_num, shop_id and type_code."
   ]
  },
  {
   "cell_type": "code",
   "execution_count": 57,
   "metadata": {},
   "outputs": [
    {
     "name": "stdout",
     "output_type": "stream",
     "text": [
      "Adding lagged feature(s) for: item_cnt_month_shop_type_code_mean\n",
      "Adding lagged feature(s) for: item_cnt_month_shop_type_code_mean\n",
      "Adding lagged feature(s) for: item_cnt_month_shop_type_code_mean\n",
      "Adding lagged feature(s) for: item_cnt_month_shop_type_code_mean\n",
      "Adding lagged feature(s) for: item_cnt_month_shop_type_code_mean\n",
      "Adding lagged feature(s) for: item_cnt_month_shop_type_code_mean\n",
      "Adding lagged feature(s) for: item_cnt_month_shop_type_code_mean\n",
      "Adding lagged feature(s) for: item_cnt_month_shop_type_code_mean\n",
      "Adding lagged feature(s) for: item_cnt_month_shop_type_code_mean\n",
      "Adding lagged feature(s) for: item_cnt_month_shop_type_code_mean\n",
      "Adding lagged feature(s) for: item_cnt_month_shop_type_code_mean\n",
      "Adding lagged feature(s) for: item_cnt_month_shop_type_code_mean\n",
      "Adding lagged feature(s) for: item_cnt_month_shop_type_code_mean\n"
     ]
    },
    {
     "data": {
      "text/plain": [
       "136.63767385482788"
      ]
     },
     "execution_count": 57,
     "metadata": {},
     "output_type": "execute_result"
    }
   ],
   "source": [
    "ts = time.time()\n",
    "grid_agg = grid.groupby(['date_block_num', 'shop_id', 'type_code']).agg({'item_cnt_month_shop_item':['mean']})\n",
    "grid_agg.columns = ['item_cnt_month_shop_type_code_mean']\n",
    "grid_agg = grid_agg.reset_index()\n",
    "\n",
    "grid = pd.merge(grid, grid_agg, on = ['date_block_num', 'shop_id', 'type_code'], how = \"left\" )\n",
    "\n",
    "grid = lag_feature(grid, lags, ['item_cnt_month_shop_type_code_mean'])\n",
    "\n",
    "grid = lag_feature_12(grid, 'item_cnt_month_shop_type_code_mean')\n",
    "\n",
    "grid = grid.drop('item_cnt_month_shop_type_code_mean', axis = 1)\n",
    "time.time()- ts"
   ]
  },
  {
   "cell_type": "code",
   "execution_count": 58,
   "metadata": {},
   "outputs": [],
   "source": [
    "grid = downcast(grid)"
   ]
  },
  {
   "cell_type": "markdown",
   "metadata": {},
   "source": [
    "Add aggregated values for date_block_num, shop_id and subtype_code."
   ]
  },
  {
   "cell_type": "code",
   "execution_count": 59,
   "metadata": {},
   "outputs": [
    {
     "name": "stdout",
     "output_type": "stream",
     "text": [
      "Adding lagged feature(s) for: item_cnt_month_shop_subtype_code_mean\n",
      "Adding lagged feature(s) for: item_cnt_month_shop_subtype_code_mean\n",
      "Adding lagged feature(s) for: item_cnt_month_shop_subtype_code_mean\n",
      "Adding lagged feature(s) for: item_cnt_month_shop_subtype_code_mean\n",
      "Adding lagged feature(s) for: item_cnt_month_shop_subtype_code_mean\n",
      "Adding lagged feature(s) for: item_cnt_month_shop_subtype_code_mean\n",
      "Adding lagged feature(s) for: item_cnt_month_shop_subtype_code_mean\n",
      "Adding lagged feature(s) for: item_cnt_month_shop_subtype_code_mean\n",
      "Adding lagged feature(s) for: item_cnt_month_shop_subtype_code_mean\n",
      "Adding lagged feature(s) for: item_cnt_month_shop_subtype_code_mean\n",
      "Adding lagged feature(s) for: item_cnt_month_shop_subtype_code_mean\n",
      "Adding lagged feature(s) for: item_cnt_month_shop_subtype_code_mean\n",
      "Adding lagged feature(s) for: item_cnt_month_shop_subtype_code_mean\n"
     ]
    },
    {
     "data": {
      "text/plain": [
       "140.4493067264557"
      ]
     },
     "execution_count": 59,
     "metadata": {},
     "output_type": "execute_result"
    }
   ],
   "source": [
    "ts = time.time()\n",
    "grid_agg = grid.groupby(['date_block_num', 'shop_id', 'subtype_code']).agg({'item_cnt_month_shop_item':['mean']})\n",
    "grid_agg.columns = ['item_cnt_month_shop_subtype_code_mean']\n",
    "grid_agg = grid_agg.reset_index()\n",
    "\n",
    "grid = pd.merge(grid, grid_agg, on = ['date_block_num', 'shop_id', 'subtype_code'], how = \"left\" )\n",
    "\n",
    "grid = lag_feature(grid, lags, ['item_cnt_month_shop_subtype_code_mean'])\n",
    "\n",
    "grid = lag_feature_12(grid, 'item_cnt_month_shop_subtype_code_mean')\n",
    "\n",
    "grid = grid.drop('item_cnt_month_shop_subtype_code_mean', axis = 1)\n",
    "time.time()- ts"
   ]
  },
  {
   "cell_type": "code",
   "execution_count": 60,
   "metadata": {},
   "outputs": [],
   "source": [
    "grid = downcast(grid)"
   ]
  },
  {
   "cell_type": "markdown",
   "metadata": {},
   "source": [
    "Add aggregated values for date_block_num and city_code."
   ]
  },
  {
   "cell_type": "code",
   "execution_count": 61,
   "metadata": {},
   "outputs": [
    {
     "name": "stdout",
     "output_type": "stream",
     "text": [
      "Adding lagged feature(s) for: item_cnt_month_city_code_mean\n",
      "Adding lagged feature(s) for: item_cnt_month_city_code_mean\n",
      "Adding lagged feature(s) for: item_cnt_month_city_code_mean\n",
      "Adding lagged feature(s) for: item_cnt_month_city_code_mean\n",
      "Adding lagged feature(s) for: item_cnt_month_city_code_mean\n",
      "Adding lagged feature(s) for: item_cnt_month_city_code_mean\n",
      "Adding lagged feature(s) for: item_cnt_month_city_code_mean\n",
      "Adding lagged feature(s) for: item_cnt_month_city_code_mean\n",
      "Adding lagged feature(s) for: item_cnt_month_city_code_mean\n",
      "Adding lagged feature(s) for: item_cnt_month_city_code_mean\n",
      "Adding lagged feature(s) for: item_cnt_month_city_code_mean\n",
      "Adding lagged feature(s) for: item_cnt_month_city_code_mean\n",
      "Adding lagged feature(s) for: item_cnt_month_city_code_mean\n"
     ]
    },
    {
     "data": {
      "text/plain": [
       "144.1216070652008"
      ]
     },
     "execution_count": 61,
     "metadata": {},
     "output_type": "execute_result"
    }
   ],
   "source": [
    "ts = time.time()\n",
    "grid_agg = grid.groupby(['date_block_num', 'city_code']).agg({'item_cnt_month_shop_item':['mean']})\n",
    "grid_agg.columns = ['item_cnt_month_city_code_mean']\n",
    "grid_agg = grid_agg.reset_index()\n",
    "\n",
    "grid = pd.merge(grid, grid_agg, on = ['date_block_num', 'city_code'], how = \"left\" )\n",
    "\n",
    "grid = lag_feature(grid, lags, ['item_cnt_month_city_code_mean'])\n",
    "\n",
    "grid = lag_feature_12(grid, 'item_cnt_month_city_code_mean')\n",
    "\n",
    "grid = grid.drop('item_cnt_month_city_code_mean', axis = 1)\n",
    "time.time()- ts"
   ]
  },
  {
   "cell_type": "code",
   "execution_count": 62,
   "metadata": {},
   "outputs": [],
   "source": [
    "grid = downcast(grid)"
   ]
  },
  {
   "cell_type": "markdown",
   "metadata": {},
   "source": [
    "Add aggregated values for date_block_num, shop_id and city_code."
   ]
  },
  {
   "cell_type": "code",
   "execution_count": 63,
   "metadata": {},
   "outputs": [
    {
     "name": "stdout",
     "output_type": "stream",
     "text": [
      "Adding lagged feature(s) for: item_cnt_month_shop_city_code_mean\n",
      "Adding lagged feature(s) for: item_cnt_month_shop_city_code_mean\n",
      "Adding lagged feature(s) for: item_cnt_month_shop_city_code_mean\n",
      "Adding lagged feature(s) for: item_cnt_month_shop_city_code_mean\n",
      "Adding lagged feature(s) for: item_cnt_month_shop_city_code_mean\n",
      "Adding lagged feature(s) for: item_cnt_month_shop_city_code_mean\n",
      "Adding lagged feature(s) for: item_cnt_month_shop_city_code_mean\n",
      "Adding lagged feature(s) for: item_cnt_month_shop_city_code_mean\n",
      "Adding lagged feature(s) for: item_cnt_month_shop_city_code_mean\n",
      "Adding lagged feature(s) for: item_cnt_month_shop_city_code_mean\n",
      "Adding lagged feature(s) for: item_cnt_month_shop_city_code_mean\n",
      "Adding lagged feature(s) for: item_cnt_month_shop_city_code_mean\n",
      "Adding lagged feature(s) for: item_cnt_month_shop_city_code_mean\n"
     ]
    },
    {
     "data": {
      "text/plain": [
       "147.26462817192078"
      ]
     },
     "execution_count": 63,
     "metadata": {},
     "output_type": "execute_result"
    }
   ],
   "source": [
    "ts = time.time()\n",
    "grid_agg = grid.groupby(['date_block_num', 'shop_id', 'city_code']).agg({'item_cnt_month_shop_item':['mean']})\n",
    "grid_agg.columns = ['item_cnt_month_shop_city_code_mean']\n",
    "grid_agg = grid_agg.reset_index()\n",
    "\n",
    "grid = pd.merge(grid, grid_agg, on = ['date_block_num', 'shop_id', 'city_code'], how = \"left\" )\n",
    "\n",
    "grid = lag_feature(grid, lags, ['item_cnt_month_shop_city_code_mean'])\n",
    "\n",
    "grid = lag_feature_12(grid, 'item_cnt_month_shop_city_code_mean')\n",
    "\n",
    "grid = grid.drop('item_cnt_month_shop_city_code_mean', axis = 1)\n",
    "time.time()- ts"
   ]
  },
  {
   "cell_type": "code",
   "execution_count": 64,
   "metadata": {},
   "outputs": [],
   "source": [
    "grid = downcast(grid)"
   ]
  },
  {
   "cell_type": "markdown",
   "metadata": {},
   "source": [
    "Add aggregated values for date_block_num, item_id and city_code."
   ]
  },
  {
   "cell_type": "code",
   "execution_count": 65,
   "metadata": {},
   "outputs": [
    {
     "name": "stdout",
     "output_type": "stream",
     "text": [
      "Adding lagged feature(s) for: item_cnt_month_item_city_code_mean\n",
      "Adding lagged feature(s) for: item_cnt_month_item_city_code_mean\n",
      "Adding lagged feature(s) for: item_cnt_month_item_city_code_mean\n",
      "Adding lagged feature(s) for: item_cnt_month_item_city_code_mean\n",
      "Adding lagged feature(s) for: item_cnt_month_item_city_code_mean\n",
      "Adding lagged feature(s) for: item_cnt_month_item_city_code_mean\n",
      "Adding lagged feature(s) for: item_cnt_month_item_city_code_mean\n",
      "Adding lagged feature(s) for: item_cnt_month_item_city_code_mean\n",
      "Adding lagged feature(s) for: item_cnt_month_item_city_code_mean\n",
      "Adding lagged feature(s) for: item_cnt_month_item_city_code_mean\n",
      "Adding lagged feature(s) for: item_cnt_month_item_city_code_mean\n",
      "Adding lagged feature(s) for: item_cnt_month_item_city_code_mean\n",
      "Adding lagged feature(s) for: item_cnt_month_item_city_code_mean\n"
     ]
    },
    {
     "data": {
      "text/plain": [
       "156.99900341033936"
      ]
     },
     "execution_count": 65,
     "metadata": {},
     "output_type": "execute_result"
    }
   ],
   "source": [
    "ts = time.time()\n",
    "grid_agg = grid.groupby(['date_block_num', 'item_id', 'city_code']).agg({'item_cnt_month_shop_item':['mean']})\n",
    "grid_agg.columns = ['item_cnt_month_item_city_code_mean']\n",
    "grid_agg = grid_agg.reset_index()\n",
    "\n",
    "grid = pd.merge(grid, grid_agg, on = ['date_block_num', 'item_id', 'city_code'], how = \"left\" )\n",
    "\n",
    "grid = lag_feature(grid, lags, ['item_cnt_month_item_city_code_mean'])\n",
    "\n",
    "grid = lag_feature_12(grid, 'item_cnt_month_item_city_code_mean')\n",
    "\n",
    "grid = grid.drop('item_cnt_month_item_city_code_mean', axis = 1)\n",
    "time.time()- ts"
   ]
  },
  {
   "cell_type": "code",
   "execution_count": 66,
   "metadata": {},
   "outputs": [],
   "source": [
    "grid = downcast(grid)"
   ]
  },
  {
   "cell_type": "markdown",
   "metadata": {},
   "source": [
    "Add aggregated values for date_block_num and type_code."
   ]
  },
  {
   "cell_type": "code",
   "execution_count": 67,
   "metadata": {},
   "outputs": [
    {
     "name": "stdout",
     "output_type": "stream",
     "text": [
      "Adding lagged feature(s) for: item_cnt_month_type_code_mean\n",
      "Adding lagged feature(s) for: item_cnt_month_type_code_mean\n",
      "Adding lagged feature(s) for: item_cnt_month_type_code_mean\n",
      "Adding lagged feature(s) for: item_cnt_month_type_code_mean\n",
      "Adding lagged feature(s) for: item_cnt_month_type_code_mean\n",
      "Adding lagged feature(s) for: item_cnt_month_type_code_mean\n",
      "Adding lagged feature(s) for: item_cnt_month_type_code_mean\n",
      "Adding lagged feature(s) for: item_cnt_month_type_code_mean\n",
      "Adding lagged feature(s) for: item_cnt_month_type_code_mean\n",
      "Adding lagged feature(s) for: item_cnt_month_type_code_mean\n",
      "Adding lagged feature(s) for: item_cnt_month_type_code_mean\n",
      "Adding lagged feature(s) for: item_cnt_month_type_code_mean\n",
      "Adding lagged feature(s) for: item_cnt_month_type_code_mean\n"
     ]
    },
    {
     "data": {
      "text/plain": [
       "152.8411898612976"
      ]
     },
     "execution_count": 67,
     "metadata": {},
     "output_type": "execute_result"
    }
   ],
   "source": [
    "ts = time.time()\n",
    "grid_agg = grid.groupby(['date_block_num', 'type_code']).agg({'item_cnt_month_shop_item':['mean']})\n",
    "grid_agg.columns = ['item_cnt_month_type_code_mean']\n",
    "grid_agg = grid_agg.reset_index()\n",
    "\n",
    "grid = pd.merge(grid, grid_agg, on = ['date_block_num', 'type_code'], how = \"left\" )\n",
    "\n",
    "grid = lag_feature(grid, lags, ['item_cnt_month_type_code_mean'])\n",
    "\n",
    "grid = lag_feature_12(grid, 'item_cnt_month_type_code_mean')\n",
    "\n",
    "grid = grid.drop('item_cnt_month_type_code_mean', axis = 1)\n",
    "time.time()- ts"
   ]
  },
  {
   "cell_type": "code",
   "execution_count": 68,
   "metadata": {},
   "outputs": [],
   "source": [
    "grid = downcast(grid)"
   ]
  },
  {
   "cell_type": "markdown",
   "metadata": {},
   "source": [
    "Add aggregated values for date_block_num and subtype_code."
   ]
  },
  {
   "cell_type": "code",
   "execution_count": 69,
   "metadata": {},
   "outputs": [
    {
     "name": "stdout",
     "output_type": "stream",
     "text": [
      "Adding lagged feature(s) for: item_cnt_month_subtype_code_mean\n",
      "Adding lagged feature(s) for: item_cnt_month_subtype_code_mean\n",
      "Adding lagged feature(s) for: item_cnt_month_subtype_code_mean\n",
      "Adding lagged feature(s) for: item_cnt_month_subtype_code_mean\n",
      "Adding lagged feature(s) for: item_cnt_month_subtype_code_mean\n",
      "Adding lagged feature(s) for: item_cnt_month_subtype_code_mean\n",
      "Adding lagged feature(s) for: item_cnt_month_subtype_code_mean\n",
      "Adding lagged feature(s) for: item_cnt_month_subtype_code_mean\n",
      "Adding lagged feature(s) for: item_cnt_month_subtype_code_mean\n",
      "Adding lagged feature(s) for: item_cnt_month_subtype_code_mean\n",
      "Adding lagged feature(s) for: item_cnt_month_subtype_code_mean\n",
      "Adding lagged feature(s) for: item_cnt_month_subtype_code_mean\n",
      "Adding lagged feature(s) for: item_cnt_month_subtype_code_mean\n"
     ]
    },
    {
     "data": {
      "text/plain": [
       "155.53278470039368"
      ]
     },
     "execution_count": 69,
     "metadata": {},
     "output_type": "execute_result"
    }
   ],
   "source": [
    "ts = time.time()\n",
    "grid_agg = grid.groupby(['date_block_num', 'subtype_code']).agg({'item_cnt_month_shop_item':['mean']})\n",
    "grid_agg.columns = ['item_cnt_month_subtype_code_mean']\n",
    "grid_agg = grid_agg.reset_index()\n",
    "\n",
    "grid = pd.merge(grid, grid_agg, on = ['date_block_num', 'subtype_code'], how = \"left\" )\n",
    "\n",
    "grid = lag_feature(grid, lags, ['item_cnt_month_subtype_code_mean'])\n",
    "\n",
    "grid = lag_feature_12(grid, 'item_cnt_month_subtype_code_mean')\n",
    "\n",
    "grid = grid.drop('item_cnt_month_subtype_code_mean', axis = 1)\n",
    "time.time()- ts"
   ]
  },
  {
   "cell_type": "code",
   "execution_count": 70,
   "metadata": {},
   "outputs": [],
   "source": [
    "grid = downcast(grid)"
   ]
  },
  {
   "cell_type": "markdown",
   "metadata": {},
   "source": [
    "Add the mean first month sales for various aggregations."
   ]
  },
  {
   "cell_type": "code",
   "execution_count": 71,
   "metadata": {},
   "outputs": [],
   "source": [
    "def new_item_sales(df, merging_cols, new_col):\n",
    "    temp = (\n",
    "        df\n",
    "        .query('item_age==0')\n",
    "        .groupby(merging_cols)['item_cnt_month_shop_item']\n",
    "        .mean()\n",
    "        .reset_index()\n",
    "        .rename(columns = {'item_cnt_month_shop_item': new_col})\n",
    "    )\n",
    "    df = pd.merge(df, temp, on = merging_cols, how = 'left')\n",
    "    return df"
   ]
  },
  {
   "cell_type": "code",
   "execution_count": 72,
   "metadata": {},
   "outputs": [
    {
     "data": {
      "text/plain": [
       "56.138798236846924"
      ]
     },
     "execution_count": 72,
     "metadata": {},
     "output_type": "execute_result"
    }
   ],
   "source": [
    "ts = time.time()\n",
    "grid = new_item_sales(grid, ['date_block_num', 'item_category_id', 'shop_id'], 'new_items_in_cat')\n",
    "grid = new_item_sales(grid, ['date_block_num', 'item_category_id'], 'new_items_in_cat_all_shops')\n",
    "time.time()- ts"
   ]
  },
  {
   "cell_type": "markdown",
   "metadata": {},
   "source": [
    "We also get the lagged values."
   ]
  },
  {
   "cell_type": "code",
   "execution_count": 73,
   "metadata": {},
   "outputs": [
    {
     "name": "stdout",
     "output_type": "stream",
     "text": [
      "Adding lagged feature(s) for: new_items_in_cat\n",
      "Adding lagged feature(s) for: new_items_in_cat_all_shops\n",
      "Adding lagged feature(s) for: new_items_in_cat\n",
      "Adding lagged feature(s) for: new_items_in_cat\n",
      "Adding lagged feature(s) for: new_items_in_cat\n",
      "Adding lagged feature(s) for: new_items_in_cat\n",
      "Adding lagged feature(s) for: new_items_in_cat\n",
      "Adding lagged feature(s) for: new_items_in_cat\n",
      "Adding lagged feature(s) for: new_items_in_cat\n",
      "Adding lagged feature(s) for: new_items_in_cat\n",
      "Adding lagged feature(s) for: new_items_in_cat\n",
      "Adding lagged feature(s) for: new_items_in_cat\n",
      "Adding lagged feature(s) for: new_items_in_cat\n",
      "Adding lagged feature(s) for: new_items_in_cat\n",
      "Adding lagged feature(s) for: new_items_in_cat_all_shops\n",
      "Adding lagged feature(s) for: new_items_in_cat_all_shops\n",
      "Adding lagged feature(s) for: new_items_in_cat_all_shops\n",
      "Adding lagged feature(s) for: new_items_in_cat_all_shops\n",
      "Adding lagged feature(s) for: new_items_in_cat_all_shops\n",
      "Adding lagged feature(s) for: new_items_in_cat_all_shops\n",
      "Adding lagged feature(s) for: new_items_in_cat_all_shops\n",
      "Adding lagged feature(s) for: new_items_in_cat_all_shops\n",
      "Adding lagged feature(s) for: new_items_in_cat_all_shops\n",
      "Adding lagged feature(s) for: new_items_in_cat_all_shops\n",
      "Adding lagged feature(s) for: new_items_in_cat_all_shops\n",
      "Adding lagged feature(s) for: new_items_in_cat_all_shops\n"
     ]
    }
   ],
   "source": [
    "grid = lag_feature(grid, lags, ['new_items_in_cat', 'new_items_in_cat_all_shops'])\n",
    "\n",
    "grid = lag_feature_12(grid, 'new_items_in_cat')\n",
    "\n",
    "grid = lag_feature_12(grid, 'new_items_in_cat_all_shops')\n",
    "\n",
    "del grid['new_items_in_cat']\n",
    "del grid['new_items_in_cat_all_shops']"
   ]
  },
  {
   "cell_type": "markdown",
   "metadata": {},
   "source": [
    "We also aggregate price."
   ]
  },
  {
   "cell_type": "code",
   "execution_count": 74,
   "metadata": {},
   "outputs": [],
   "source": [
    "def agg_price_col(df, merging_cols, new_col):\n",
    "    temp = df.groupby(merging_cols).agg({'revenue':'sum', 'item_cnt_month_shop_item_unclipped':'sum'}).\\\n",
    "    reset_index()\n",
    "    temp[new_col] = temp['revenue'] / temp['item_cnt_month_shop_item_unclipped']\n",
    "    temp = temp[merging_cols + [new_col]]\n",
    "    df = pd.merge(df, temp, on = merging_cols, how = 'left')\n",
    "    return df"
   ]
  },
  {
   "cell_type": "markdown",
   "metadata": {},
   "source": [
    "We must add an aggregated form of 'revenue' to grid in order to perform the aggeregation."
   ]
  },
  {
   "cell_type": "code",
   "execution_count": 75,
   "metadata": {},
   "outputs": [
    {
     "data": {
      "text/plain": [
       "10.861490249633789"
      ]
     },
     "execution_count": 75,
     "metadata": {},
     "output_type": "execute_result"
    }
   ],
   "source": [
    "ts = time.time()\n",
    "grid = pd.merge(grid, train.groupby(index_cols).agg({'revenue':'sum'}).reset_index(), on = index_cols, \\\n",
    "                how = 'left')\n",
    "grid.revenue = grid.revenue.fillna(0)\n",
    "time.time()- ts"
   ]
  },
  {
   "cell_type": "code",
   "execution_count": 76,
   "metadata": {},
   "outputs": [
    {
     "data": {
      "text/plain": [
       "24.90656018257141"
      ]
     },
     "execution_count": 76,
     "metadata": {},
     "output_type": "execute_result"
    }
   ],
   "source": [
    "ts = time.time()\n",
    "# Add average item price.\n",
    "grid = agg_price_col(grid, ['date_block_num', 'item_id'], 'item_price')\n",
    "\n",
    "# Add average price of items in category.\n",
    "grid = agg_price_col(grid, ['date_block_num', 'item_category_id'], 'category_price')\n",
    "\n",
    "# Add average price of all items.\n",
    "grid = agg_price_col(grid, ['date_block_num'], 'block_price')\n",
    "time.time()- ts"
   ]
  },
  {
   "cell_type": "markdown",
   "metadata": {},
   "source": [
    "We also consider the lagged values of category_price and block_price."
   ]
  },
  {
   "cell_type": "code",
   "execution_count": 77,
   "metadata": {},
   "outputs": [
    {
     "name": "stdout",
     "output_type": "stream",
     "text": [
      "Adding lagged feature(s) for: category_price\n",
      "Adding lagged feature(s) for: block_price\n"
     ]
    },
    {
     "data": {
      "text/plain": [
       "123.77237176895142"
      ]
     },
     "execution_count": 77,
     "metadata": {},
     "output_type": "execute_result"
    }
   ],
   "source": [
    "ts = time.time()\n",
    "grid = lag_feature(grid, lags, ['category_price', 'block_price'])\n",
    "del grid['category_price'], grid['block_price']\n",
    "time.time()- ts"
   ]
  },
  {
   "cell_type": "markdown",
   "metadata": {},
   "source": [
    "We add features representing the ratio between lag1 and lag1to12 values"
   ]
  },
  {
   "cell_type": "code",
   "execution_count": 78,
   "metadata": {},
   "outputs": [],
   "source": [
    "grid['item_cnt_month_shop_item_diff']  = grid['item_cnt_month_shop_item_unclipped_lag_1'] \\\n",
    "/ grid['item_cnt_month_shop_item_lag1to12']\n",
    "\n",
    "grid['item_cnt_month_item_mean_diff'] = grid['item_cnt_month_item_mean_lag_1'] \\\n",
    "/ grid['item_cnt_month_item_mean_lag1to12']\n",
    "\n",
    "grid['item_cnt_month_shop_item_cat_mean_diff'] = grid['item_cnt_month_shop_item_cat_mean_lag_1'] \\\n",
    "/ grid['item_cnt_month_shop_item_cat_mean_lag1to12']\n",
    "\n",
    "grid['item_cnt_month_item_cat_mean_diff'] = grid['item_cnt_month_item_cat_mean_lag_1'] \\\n",
    "/ grid['item_cnt_month_item_cat_mean_lag1to12']"
   ]
  },
  {
   "cell_type": "code",
   "execution_count": 79,
   "metadata": {},
   "outputs": [],
   "source": [
    "grid = downcast(grid)"
   ]
  },
  {
   "cell_type": "markdown",
   "metadata": {},
   "source": [
    "Fill missing values in the columns below with 0."
   ]
  },
  {
   "cell_type": "code",
   "execution_count": 80,
   "metadata": {},
   "outputs": [],
   "source": [
    "grid.loc[(grid['item_age'] > 0) & (grid['item_cnt_month_shop_item_lag1to12'].isna()), \\\n",
    "         'item_cnt_month_shop_item_lag1to12'] = 0\n",
    "\n",
    "grid.loc[(grid['category_age'] > 0) & (grid['item_cnt_month_shop_item_cat_mean_lag1to12'].isna()), \\\n",
    "         'item_cnt_month_shop_item_cat_mean_lag1to12'] = 0\n",
    "\n",
    "grid.loc[(grid['type_age'] > 0) & (grid['item_cnt_month_shop_type_code_mean_lag1to12'].isna()), \\\n",
    "         'item_cnt_month_shop_type_code_mean_lag1to12'] = 0"
   ]
  },
  {
   "cell_type": "markdown",
   "metadata": {},
   "source": [
    "Features based on values over the previous 12 months (lag1to12) are sometimes calculated over less than 12 months.\n",
    "In order to compensate for this we divide lag1to12 values by the minimum between 12 and previous periods in the dataset.\n",
    "The lag1to12 features are thus turned intoa monthly average that is easier to compare between different datapoints."
   ]
  },
  {
   "cell_type": "code",
   "execution_count": 81,
   "metadata": {},
   "outputs": [],
   "source": [
    "grid['item_cnt_month_shop_item_lag1to12'] /= [min(idx) for idx in zip(grid['item_age'], grid['shop_age'], \\\n",
    "                                                                      [12] * len(grid))]\n",
    "\n",
    "grid['item_cnt_month_item_mean_lag1to12'] /= [min(idx) for idx in zip(grid['item_age'], [12] * len(grid))]\n",
    "\n",
    "grid['item_cnt_month_shop_item_cat_mean_lag1to12'] /= [min(idx) for idx in zip(grid['category_age'], \\\n",
    "                                                                               grid['shop_age'], [12] * len(grid))]\n",
    "\n",
    "grid['item_cnt_month_item_cat_mean_lag1to12'] /= [min(idx) for idx in zip(grid['category_age'], [12] * len(grid))]\n",
    "\n",
    "grid['item_cnt_month_shop_type_code_mean_lag1to12'] /= [min(idx) for idx in \\\n",
    "                                                        zip(grid['type_age'], grid['shop_age'], [12] * len(grid))]\n",
    "\n",
    "grid['item_cnt_month_type_code_mean_lag1to12'] /= [min(idx) for idx in zip(grid['type_age'], [12] * len(grid))]\n",
    "\n",
    "grid['item_cnt_month_city_code_mean_lag1to12'] /= [min(idx) for idx in zip(grid['date_block_num'], \\\n",
    "                                                                           [12] * len(grid))]\n",
    "\n",
    "grid['item_cnt_month_shop_mean_lag1to12'] /= [min(idx) for idx in zip(grid['shop_age'], [12] * len(grid))]\n",
    "\n",
    "grid['new_items_in_cat_lag1to12'] /= [min(idx) for idx in zip(grid['category_age'], grid['shop_age'], \\\n",
    "                                                              [12] * len(grid))]\n",
    "\n",
    "grid['new_items_in_cat_all_shops_lag1to12'] /= [min(idx) for idx in zip(grid['category_age'], [12] * len(grid))]"
   ]
  },
  {
   "cell_type": "code",
   "execution_count": 82,
   "metadata": {},
   "outputs": [],
   "source": [
    "grid = downcast(grid)"
   ]
  },
  {
   "cell_type": "markdown",
   "metadata": {},
   "source": [
    "We introduce some features that take into account information across more than just one timeperiod in the dataset."
   ]
  },
  {
   "cell_type": "code",
   "execution_count": 83,
   "metadata": {},
   "outputs": [
    {
     "data": {
      "text/plain": [
       "549.9118483066559"
      ]
     },
     "execution_count": 83,
     "metadata": {},
     "output_type": "execute_result"
    }
   ],
   "source": [
    "def past_information(df, merging_cols, new_col, aggregation):\n",
    "    temp = []\n",
    "    for i in range(1, 35):\n",
    "        block = df.query(f'date_block_num < {i}').groupby(merging_cols).agg(aggregation).reset_index()\n",
    "        block.columns = merging_cols + [new_col]\n",
    "        block['date_block_num'] = i\n",
    "        block = block[block[new_col] > 0]\n",
    "        temp.append(block)\n",
    "    temp = pd.concat(temp)\n",
    "    df = pd.merge(df, temp, on = ['date_block_num'] + merging_cols, how = 'left')\n",
    "    return df\n",
    "\n",
    "ts = time.time()\n",
    "# Price of the last item sold\n",
    "grid = past_information(grid, ['item_id'], 'last_item_price', {'item_price':'last'})\n",
    "\n",
    "# Total units of an item sold previously at an individual shop\n",
    "grid = past_information(grid, ['shop_id', 'item_id'], 'item_cnt_month_shop_item_sum_alltime', \\\n",
    "                        {'item_cnt_month_shop_item':'sum'})\n",
    "\n",
    "# Total units of an item sold previously at all shops\n",
    "grid = past_information(grid, ['item_id'], 'item_cnt_month_shop_item_sum_alltime_allshops', \\\n",
    "                        {'item_cnt_month_shop_item':'sum'})\n",
    "time.time()- ts"
   ]
  },
  {
   "cell_type": "code",
   "execution_count": 84,
   "metadata": {},
   "outputs": [],
   "source": [
    "grid = downcast(grid)"
   ]
  },
  {
   "cell_type": "markdown",
   "metadata": {},
   "source": [
    "We also add a feature showing item prices relative to the block price."
   ]
  },
  {
   "cell_type": "code",
   "execution_count": 85,
   "metadata": {},
   "outputs": [],
   "source": [
    "grid['relative_price_item_block_lag1'] = grid['last_item_price'] / grid['block_price_lag_1']"
   ]
  },
  {
   "cell_type": "markdown",
   "metadata": {},
   "source": [
    "Show number of sales per day since an item was first sold."
   ]
  },
  {
   "cell_type": "code",
   "execution_count": 86,
   "metadata": {},
   "outputs": [],
   "source": [
    "grid['item_cnt_per_day_alltime'] = (grid['item_cnt_month_shop_item_sum_alltime'] / grid['prev_days_on_sale'])\\\n",
    ".fillna(0)\n",
    "\n",
    "grid['item_cnt_per_day_alltime_allshops'] = (grid['item_cnt_month_shop_item_sum_alltime_allshops'] / \\\n",
    "                                             grid['prev_days_on_sale']).fillna(0)"
   ]
  },
  {
   "cell_type": "code",
   "execution_count": 87,
   "metadata": {},
   "outputs": [],
   "source": [
    "grid = downcast(grid)"
   ]
  },
  {
   "cell_type": "markdown",
   "metadata": {},
   "source": [
    "Add features that show the mean sales of items that have the same first n characters - might be useful in order to, for example, catch the performance of earlier titles in a series."
   ]
  },
  {
   "cell_type": "code",
   "execution_count": 88,
   "metadata": {},
   "outputs": [
    {
     "data": {
      "text/plain": [
       "1455.6028261184692"
      ]
     },
     "execution_count": 88,
     "metadata": {},
     "output_type": "execute_result"
    }
   ],
   "source": [
    "def matching_name_cat_age(df, n, all_shops):\n",
    "    temp_cols = [f'same_name{n}catage_cnt', 'date_block_num', f'item_name_first{n}', 'item_age', 'category_id']\n",
    "    if all_shops:\n",
    "        temp_cols[0] += '_all_shops'\n",
    "    else:\n",
    "        temp_cols += ['shop_id']\n",
    "    temp = []\n",
    "    for i in range(1, 35):\n",
    "        block = (\n",
    "            df.query(f'date_block_num < {i}').groupby(temp_cols[2:]).agg({'item_cnt_month_shop_item':'mean'})\\\n",
    "            .reset_index().rename(columns = {'item_cnt_month_shop_item':temp_cols[0]})\n",
    "        )\n",
    "        block = block[block[temp_cols[0]] > 0]\n",
    "        block['date_block_num'] = i\n",
    "        temp.append(block)\n",
    "    temp = pd.concat(temp)\n",
    "    df = pd.merge(df, temp, on = temp_cols[1:], how = 'left')\n",
    "    return df\n",
    "\n",
    "ts = time.time()\n",
    "for n in [4, 6, 11]:    \n",
    "    for all_shops in [True,False]:\n",
    "        grid = matching_name_cat_age(grid, n, all_shops)\n",
    "time.time()- ts"
   ]
  },
  {
   "cell_type": "markdown",
   "metadata": {},
   "source": [
    "Add features showing the sales data for nearby items (item_id + 1 and item_id - 2)"
   ]
  },
  {
   "cell_type": "code",
   "execution_count": 89,
   "metadata": {},
   "outputs": [],
   "source": [
    "def nearby_item_data(df, col):\n",
    "    if col in ['item_cnt_month_shop_item_unclipped_lag_1', 'item_cnt_month_shop_item_lag1to12']:\n",
    "        cols = ['date_block_num', 'shop_id', 'item_id']\n",
    "        temp = df[cols + [col]].copy() \n",
    "    else:\n",
    "        cols = ['date_block_num', 'item_id']\n",
    "        temp = df.groupby(cols).agg({col:'first'}).reset_index()[cols + [col]]   \n",
    "    \n",
    "    temp.columns = cols + [f'below_{col}']\n",
    "    temp.loc[:, 'item_id'] += 1\n",
    "    df = pd.merge(df, temp, on = cols, how = 'left')\n",
    "    \n",
    "    temp.columns = cols + [f'above_{col}']\n",
    "    temp.loc[:, 'item_id'] -= 2\n",
    "    df = pd.merge(df, temp, on = cols, how = 'left')\n",
    "    \n",
    "    return df\n",
    "\n",
    "item_cols = ['item_cnt_month_shop_item_unclipped_lag_1', 'item_cnt_month_shop_item_lag1to12',\n",
    "             'item_cnt_month_item_mean_lag_1', 'item_cnt_month_item_mean_lag1to12']\n",
    "\n",
    "for col in item_cols:\n",
    "    grid = nearby_item_data(grid, col)\n",
    "    \n",
    "del temp"
   ]
  },
  {
   "cell_type": "markdown",
   "metadata": {},
   "source": [
    "Add boolean features indicating whether an item's name that occurs frequently is present in the relevant item."
   ]
  },
  {
   "cell_type": "code",
   "execution_count": 90,
   "metadata": {},
   "outputs": [],
   "source": [
    "results = Counter()\n",
    "items['item_name'].str.split().apply(results.update)\n",
    "\n",
    "words = []\n",
    "cnts = []\n",
    "for key, value in results.items():\n",
    "    words.append(key)\n",
    "    cnts.append(value)\n",
    "    \n",
    "counts = pd.DataFrame({'word':words,'count':cnts})\n",
    "common_words = counts.query('count>200').word.to_list()\n",
    "\n",
    "for word in common_words:\n",
    "    items[f'{word}_in_name'] = items['item_name'].str.contains(word).astype('int8')\n",
    "    \n",
    "drop_cols = [\n",
    "    'category_id','item_name','item_name_first4',\n",
    "    'item_name_first6','item_name_first11', 'item_name2', 'item_name3'    \n",
    "]\n",
    "\n",
    "grid = pd.merge(grid, items.drop(drop_cols, axis = 1), on = 'item_id', how = 'left')"
   ]
  },
  {
   "cell_type": "markdown",
   "metadata": {},
   "source": [
    "We delete item_name_first4 and item_name_first6, and only keep item_name_first11."
   ]
  },
  {
   "cell_type": "code",
   "execution_count": 91,
   "metadata": {},
   "outputs": [],
   "source": [
    "del grid['item_name_first4'], grid['item_name_first6']"
   ]
  },
  {
   "cell_type": "markdown",
   "metadata": {},
   "source": [
    "## Trend related features"
   ]
  },
  {
   "cell_type": "markdown",
   "metadata": {},
   "source": [
    "Add global average item_price (for train data), use lag values of item_price per month and add delta price values (how the current month's average price relates to the global average)."
   ]
  },
  {
   "cell_type": "code",
   "execution_count": 92,
   "metadata": {},
   "outputs": [
    {
     "data": {
      "text/plain": [
       "189.73025703430176"
      ]
     },
     "execution_count": 92,
     "metadata": {},
     "output_type": "execute_result"
    }
   ],
   "source": [
    "ts = time.time()\n",
    "train_agg = train[train['date_block_num'] < 33].groupby(['item_id']).agg({'item_price': ['mean']}) # In order to \n",
    "# avoid data leakage we exclude the validation period.\n",
    "train_agg.columns = ['item_price_item_mean']\n",
    "train_agg = train_agg.reset_index()\n",
    "\n",
    "grid = grid.merge(train_agg, on = ['item_id'], how = \"left\")\n",
    "\n",
    "for i in lags:\n",
    "    grid['delta_price_lag_' + str(i) ] = (grid['item_price_month_item_mean_lag_' + str(i)] - \\\n",
    "                                          grid['item_price_item_mean']) / grid['item_price_item_mean']\n",
    "    \n",
    "def select_trends(row): # Choose the first NaN value.\n",
    "    for i in lags:\n",
    "        if ~np.isnan(row[\"delta_price_lag_\" + str(i)]):\n",
    "            return row[\"delta_price_lag_\" + str(i)]\n",
    "    return 0\n",
    "\n",
    "grid = downcast(grid)\n",
    "\n",
    "grid['delta_price_lag'] = grid.apply(select_trends, axis = 1)\n",
    "grid['delta_price_lag'] = grid['delta_price_lag'].fillna(-999) # Let's try this and see if it works.\n",
    "\n",
    "features_to_drop = ['item_price_item_mean']\n",
    "for i in lags:    \n",
    "    features_to_drop += ['delta_price_lag_' + str(i)]\n",
    "\n",
    "grid.drop(features_to_drop, axis=1, inplace=True)\n",
    "time.time()- ts"
   ]
  },
  {
   "cell_type": "markdown",
   "metadata": {},
   "source": [
    "**Note:** For the test data, item_price_item_mean should be calculated for the entire time period (train + val) if we are to be completely consistent."
   ]
  },
  {
   "cell_type": "code",
   "execution_count": 93,
   "metadata": {},
   "outputs": [],
   "source": [
    "grid = downcast(grid)"
   ]
  },
  {
   "cell_type": "markdown",
   "metadata": {},
   "source": [
    "Add delta revenue values (how the last month's revenue relates to the global average)"
   ]
  },
  {
   "cell_type": "code",
   "execution_count": 94,
   "metadata": {},
   "outputs": [
    {
     "name": "stdout",
     "output_type": "stream",
     "text": [
      "Adding lagged feature(s) for: delta_revenue\n"
     ]
    },
    {
     "data": {
      "text/plain": [
       "121.2070951461792"
      ]
     },
     "execution_count": 94,
     "metadata": {},
     "output_type": "execute_result"
    }
   ],
   "source": [
    "ts = time.time()\n",
    "train_agg = train.groupby(['date_block_num', 'shop_id']).agg({'revenue': ['sum']})\n",
    "train_agg.columns = ['revenue_month_shop']\n",
    "train_agg = train_agg.reset_index()\n",
    "\n",
    "grid = pd.merge(grid, train_agg, on=['date_block_num','shop_id'], how='left')\n",
    "\n",
    "train_agg = train[train['date_block_num'] < 33].groupby(['shop_id']).agg({'revenue': ['mean']})\n",
    "train_agg.columns = ['revenue_shop_mean']\n",
    "train_agg = train_agg.reset_index()\n",
    "\n",
    "grid = grid.merge(train_agg, on = ['shop_id'], how = \"left\")\n",
    "\n",
    "grid['delta_revenue'] = (grid['revenue_month_shop'] - grid['revenue_shop_mean']) / grid['revenue_month_shop']\n",
    "\n",
    "grid = downcast(grid)\n",
    "\n",
    "grid = lag_feature(grid, [1], ['delta_revenue']) # Only consider one lag here.\n",
    "\n",
    "features_to_drop = ['revenue_month_shop', 'revenue_shop_mean', 'delta_revenue']\n",
    "grid.drop(features_to_drop, axis=1, inplace=True)\n",
    "time.time()- ts"
   ]
  },
  {
   "cell_type": "code",
   "execution_count": 95,
   "metadata": {},
   "outputs": [],
   "source": [
    "grid = downcast(grid)"
   ]
  },
  {
   "cell_type": "markdown",
   "metadata": {},
   "source": [
    "## Special features"
   ]
  },
  {
   "cell_type": "markdown",
   "metadata": {},
   "source": [
    "Add the number of the month as a feature."
   ]
  },
  {
   "cell_type": "code",
   "execution_count": 96,
   "metadata": {},
   "outputs": [],
   "source": [
    "grid['month'] = grid['date_block_num'] % 12"
   ]
  },
  {
   "cell_type": "markdown",
   "metadata": {},
   "source": [
    "Add the number of days in the month (no leap years)."
   ]
  },
  {
   "cell_type": "code",
   "execution_count": 97,
   "metadata": {},
   "outputs": [],
   "source": [
    "days = pd.Series([31,28,31,30,31,30,31,31,30,31,30,31])\n",
    "grid['no_days_in_month'] = grid['month'].map(days)"
   ]
  },
  {
   "cell_type": "code",
   "execution_count": 98,
   "metadata": {},
   "outputs": [],
   "source": [
    "grid = downcast(grid)"
   ]
  },
  {
   "cell_type": "markdown",
   "metadata": {},
   "source": [
    "Add the number of months since the last sale for each shop/item pair."
   ]
  },
  {
   "cell_type": "code",
   "execution_count": 99,
   "metadata": {},
   "outputs": [
    {
     "data": {
      "text/plain": [
       "304.99505066871643"
      ]
     },
     "execution_count": 99,
     "metadata": {},
     "output_type": "execute_result"
    }
   ],
   "source": [
    "ts = time.time()\n",
    "cache = {}\n",
    "grid['item_shop_last_sale'] = -999 \n",
    "for row in grid.itertuples():\n",
    "    idx = getattr(row,'Index')\n",
    "    item_id = getattr(row,'item_id')\n",
    "    shop_id = getattr(row,'shop_id')\n",
    "    date_block_num = getattr(row,'date_block_num')\n",
    "    item_cnt_month_shop_item = getattr(row,'item_cnt_month_shop_item')\n",
    "    key = str(item_id)+' '+str(shop_id)\n",
    "    if key not in cache:\n",
    "        if item_cnt_month_shop_item!=0:\n",
    "            cache[key] = date_block_num\n",
    "    else:\n",
    "        last_date_block_num = cache[key]\n",
    "        grid.at[idx, 'item_shop_last_sale'] = date_block_num - last_date_block_num\n",
    "        cache[key] = date_block_num\n",
    "time.time() - ts"
   ]
  },
  {
   "cell_type": "markdown",
   "metadata": {},
   "source": [
    "Add number of months since the last sale for each item."
   ]
  },
  {
   "cell_type": "code",
   "execution_count": 100,
   "metadata": {},
   "outputs": [
    {
     "data": {
      "text/plain": [
       "444.2375466823578"
      ]
     },
     "execution_count": 100,
     "metadata": {},
     "output_type": "execute_result"
    }
   ],
   "source": [
    "ts = time.time()\n",
    "cache = {}\n",
    "grid['item_last_sale'] = -999 \n",
    "for row in grid.itertuples():\n",
    "    idx = getattr(row,'Index')\n",
    "    item_id = getattr(row,'item_id')    \n",
    "    date_block_num = getattr(row,'date_block_num')\n",
    "    item_cnt_month_shop_item = getattr(row,'item_cnt_month_shop_item')\n",
    "    key = str(item_id)\n",
    "    if key not in cache:\n",
    "        if item_cnt_month_shop_item!=0:\n",
    "            cache[key] = date_block_num\n",
    "    else:\n",
    "        last_date_block_num = cache[key]\n",
    "        grid.at[idx, 'item_last_sale'] = date_block_num - last_date_block_num\n",
    "        cache[key] = date_block_num\n",
    "time.time() - ts"
   ]
  },
  {
   "cell_type": "markdown",
   "metadata": {},
   "source": [
    "Add number of months since the first sale for each shop/item pair, and only item respectively."
   ]
  },
  {
   "cell_type": "code",
   "execution_count": 101,
   "metadata": {},
   "outputs": [
    {
     "data": {
      "text/plain": [
       "1.6098949909210205"
      ]
     },
     "execution_count": 101,
     "metadata": {},
     "output_type": "execute_result"
    }
   ],
   "source": [
    "ts = time.time()\n",
    "grid['item_shop_first_sale'] = grid['date_block_num'] - grid.groupby(['item_id','shop_id'])['date_block_num']\\\n",
    ".transform('min')\n",
    "grid['item_first_sale'] = grid['date_block_num'] - grid.groupby('item_id')['date_block_num'].transform('min')\n",
    "time.time() - ts"
   ]
  },
  {
   "cell_type": "code",
   "execution_count": 102,
   "metadata": {},
   "outputs": [],
   "source": [
    "grid = downcast(grid)"
   ]
  },
  {
   "cell_type": "markdown",
   "metadata": {},
   "source": [
    "## Final preparation"
   ]
  },
  {
   "cell_type": "markdown",
   "metadata": {},
   "source": [
    "We must remove these features, otherwise we have data leakage."
   ]
  },
  {
   "cell_type": "code",
   "execution_count": 103,
   "metadata": {},
   "outputs": [],
   "source": [
    "del grid['revenue'], grid['item_cnt_month_shop_item_unclipped'], grid['item_price']"
   ]
  },
  {
   "cell_type": "markdown",
   "metadata": {},
   "source": [
    "Replace any eventual infinite values with 0."
   ]
  },
  {
   "cell_type": "code",
   "execution_count": 104,
   "metadata": {},
   "outputs": [],
   "source": [
    "grid = grid.replace(np.inf, 0)"
   ]
  },
  {
   "cell_type": "markdown",
   "metadata": {},
   "source": [
    "Delete the first three months from grid as they definitely do not have any lag values."
   ]
  },
  {
   "cell_type": "code",
   "execution_count": 105,
   "metadata": {},
   "outputs": [],
   "source": [
    "grid = grid[grid[\"date_block_num\"] > (len(lags) - 1)]"
   ]
  },
  {
   "cell_type": "code",
   "execution_count": 106,
   "metadata": {},
   "outputs": [
    {
     "data": {
      "text/plain": [
       "date_block_num                                          0\n",
       "shop_id                                                 0\n",
       "item_id                                                 0\n",
       "category_id                                             0\n",
       "item_name2                                              0\n",
       "item_name3                                              0\n",
       "item_name_first11                                       0\n",
       "item_category_id                                        0\n",
       "type_code                                               0\n",
       "subtype_code                                            0\n",
       "year                                                    0\n",
       "day_quality                                             0\n",
       "first_sale_day                                          0\n",
       "prev_days_on_sale                                       0\n",
       "item_age                                                0\n",
       "item_name_first4_age                                    0\n",
       "item_name_first6_age                                    0\n",
       "item_name_first11_age                                   0\n",
       "category_age                                            0\n",
       "type_age                                                0\n",
       "shop_age                                                0\n",
       "item_cnt_month_shop_item                                0\n",
       "item_cnt_month_shop_item_lag_1                    1933407\n",
       "item_cnt_month_shop_item_lag_2                    2231400\n",
       "item_cnt_month_shop_item_lag_3                    2525982\n",
       "item_cnt_month_shop_item_lag1to12                  602718\n",
       "item_cnt_month_shop_item_unclipped_lag_1          1933407\n",
       "item_cnt_month_shop_item_unclipped_lag_2          2231400\n",
       "item_cnt_month_shop_item_unclipped_lag_3          2525982\n",
       "category_code                                           0\n",
       "city_code                                               0\n",
       "shop_cluster                                            0\n",
       "item_cnt_month_shop_item_mean_lag_1               8402049\n",
       "item_cnt_month_shop_item_mean_lag_2               8411071\n",
       "item_cnt_month_shop_item_mean_lag_3               8421198\n",
       "item_price_month_shop_item_mean_lag_1             8402049\n",
       "item_price_month_shop_item_mean_lag_2             8411071\n",
       "item_price_month_shop_item_mean_lag_3             8421198\n",
       "revenue_month_shop_item_lag_1                     8402049\n",
       "revenue_month_shop_item_lag_2                     8411071\n",
       "revenue_month_shop_item_lag_3                     8421198\n",
       "item_cnt_month_shop_item_mean_lag1to12                  0\n",
       "item_price_month_shop_item_mean_lag1to12                0\n",
       "revenue_month_shop_item_lag1to12                        0\n",
       "item_cnt_month_shop_mean_lag_1                    1933407\n",
       "item_cnt_month_shop_mean_lag_2                    2231400\n",
       "item_cnt_month_shop_mean_lag_3                    2525982\n",
       "item_price_month_shop_mean_lag_1                  1933407\n",
       "item_price_month_shop_mean_lag_2                  2231400\n",
       "item_price_month_shop_mean_lag_3                  2525982\n",
       "revenue_month_shop_lag_1                          1933407\n",
       "revenue_month_shop_lag_2                          2231400\n",
       "revenue_month_shop_lag_3                          2525982\n",
       "item_cnt_month_shop_mean_lag1to12                   77229\n",
       "item_price_month_shop_mean_lag1to12                     0\n",
       "revenue_month_shop_lag1to12                             0\n",
       "item_cnt_month_item_mean_lag_1                    1933407\n",
       "item_cnt_month_item_mean_lag_2                    2231400\n",
       "item_cnt_month_item_mean_lag_3                    2525982\n",
       "item_price_month_item_mean_lag_1                  1933407\n",
       "item_price_month_item_mean_lag_2                  2231400\n",
       "item_price_month_item_mean_lag_3                  2525982\n",
       "revenue_month_item_lag_1                          1933407\n",
       "revenue_month_item_lag_2                          2231400\n",
       "revenue_month_item_lag_3                          2525982\n",
       "item_cnt_month_item_mean_lag1to12                  530153\n",
       "item_price_month_item_mean_lag1to12                     0\n",
       "revenue_month_item_lag1to12                             0\n",
       "item_cnt_month_mean_lag_1                         1933407\n",
       "item_cnt_month_mean_lag_2                         2231400\n",
       "item_cnt_month_mean_lag_3                         2525982\n",
       "item_cnt_month_mean_lag1to12                            0\n",
       "item_cnt_month_item_cat_mean_lag_1                1933407\n",
       "item_cnt_month_item_cat_mean_lag_2                2231400\n",
       "item_cnt_month_item_cat_mean_lag_3                2525982\n",
       "item_cnt_month_item_cat_mean_lag1to12               17176\n",
       "item_cnt_month_shop_item_cat_mean_lag_1           1933407\n",
       "item_cnt_month_shop_item_cat_mean_lag_2           2231400\n",
       "item_cnt_month_shop_item_cat_mean_lag_3           2525982\n",
       "item_cnt_month_shop_item_cat_mean_lag1to12          94101\n",
       "item_cnt_month_shop_type_code_mean_lag_1          1933407\n",
       "item_cnt_month_shop_type_code_mean_lag_2          2231400\n",
       "item_cnt_month_shop_type_code_mean_lag_3          2525982\n",
       "item_cnt_month_shop_type_code_mean_lag1to12         77797\n",
       "item_cnt_month_shop_subtype_code_mean_lag_1       1933407\n",
       "item_cnt_month_shop_subtype_code_mean_lag_2       2231400\n",
       "item_cnt_month_shop_subtype_code_mean_lag_3       2525982\n",
       "item_cnt_month_shop_subtype_code_mean_lag1to12          0\n",
       "item_cnt_month_city_code_mean_lag_1               1933407\n",
       "item_cnt_month_city_code_mean_lag_2               2231400\n",
       "item_cnt_month_city_code_mean_lag_3               2525982\n",
       "item_cnt_month_city_code_mean_lag1to12                  0\n",
       "item_cnt_month_shop_city_code_mean_lag_1          1933407\n",
       "item_cnt_month_shop_city_code_mean_lag_2          2231400\n",
       "item_cnt_month_shop_city_code_mean_lag_3          2525982\n",
       "item_cnt_month_shop_city_code_mean_lag1to12             0\n",
       "item_cnt_month_item_city_code_mean_lag_1          1933407\n",
       "item_cnt_month_item_city_code_mean_lag_2          2231400\n",
       "item_cnt_month_item_city_code_mean_lag_3          2525982\n",
       "item_cnt_month_item_city_code_mean_lag1to12             0\n",
       "item_cnt_month_type_code_mean_lag_1               1933407\n",
       "item_cnt_month_type_code_mean_lag_2               2231400\n",
       "item_cnt_month_type_code_mean_lag_3               2525982\n",
       "item_cnt_month_type_code_mean_lag1to12                570\n",
       "item_cnt_month_subtype_code_mean_lag_1            1933407\n",
       "item_cnt_month_subtype_code_mean_lag_2            2231400\n",
       "item_cnt_month_subtype_code_mean_lag_3            2525982\n",
       "item_cnt_month_subtype_code_mean_lag1to12               0\n",
       "new_items_in_cat_lag_1                            2408357\n",
       "new_items_in_cat_lag_2                            2672786\n",
       "new_items_in_cat_lag_3                            2928940\n",
       "new_items_in_cat_all_shops_lag_1                  2408357\n",
       "new_items_in_cat_all_shops_lag_2                  2672786\n",
       "new_items_in_cat_all_shops_lag_3                  2928940\n",
       "new_items_in_cat_lag1to12                           94101\n",
       "new_items_in_cat_all_shops_lag1to12                 17176\n",
       "category_price_lag_1                              1933407\n",
       "category_price_lag_2                              2231400\n",
       "category_price_lag_3                              2525982\n",
       "block_price_lag_1                                 1933407\n",
       "block_price_lag_2                                 2231400\n",
       "block_price_lag_3                                 2525982\n",
       "item_cnt_month_shop_item_diff                     5596863\n",
       "item_cnt_month_item_mean_diff                     1933480\n",
       "item_cnt_month_shop_item_cat_mean_diff            2607049\n",
       "item_cnt_month_item_cat_mean_diff                 1933407\n",
       "last_item_price                                    531095\n",
       "item_cnt_month_shop_item_sum_alltime              4931674\n",
       "item_cnt_month_shop_item_sum_alltime_allshops      530535\n",
       "relative_price_item_block_lag1                    1933775\n",
       "item_cnt_per_day_alltime                                0\n",
       "item_cnt_per_day_alltime_allshops                       0\n",
       "same_name4catage_cnt_all_shops                    6661503\n",
       "same_name4catage_cnt                              8524706\n",
       "same_name6catage_cnt_all_shops                    6995899\n",
       "same_name6catage_cnt                              8713602\n",
       "same_name11catage_cnt_all_shops                   7380556\n",
       "same_name11catage_cnt                             9081274\n",
       "below_item_cnt_month_shop_item_unclipped_lag_1    6170582\n",
       "above_item_cnt_month_shop_item_unclipped_lag_1    6179573\n",
       "below_item_cnt_month_shop_item_lag1to12           5686075\n",
       "above_item_cnt_month_shop_item_lag1to12           5700437\n",
       "below_item_cnt_month_item_mean_lag_1              6132270\n",
       "above_item_cnt_month_item_mean_lag_1              6141308\n",
       "below_item_cnt_month_item_mean_lag1to12           5652716\n",
       "above_item_cnt_month_item_mean_lag1to12           5667170\n",
       "edition_in_name                                         0\n",
       "new_in_name                                             0\n",
       "love_in_name                                            0\n",
       "collection_in_name                                      0\n",
       "best_in_name                                            0\n",
       "russian_in_name                                         0\n",
       "from_in_name                                            0\n",
       "2cd_in_name                                             0\n",
       "1c_in_name                                              0\n",
       "war_in_name                                             0\n",
       "series_in_name                                          0\n",
       "audiobooks_in_name                                      0\n",
       "world_in_name                                           0\n",
       "issue_in_name                                           0\n",
       "live_in_name                                            0\n",
       "year_in_name                                            0\n",
       "black_in_name                                           0\n",
       "art_in_name                                             0\n",
       "time_in_name                                            0\n",
       "toy_in_name                                             0\n",
       "dvd_in_name                                             0\n",
       "set_in_name                                             0\n",
       "game_in_name                                            0\n",
       "season_in_name                                          0\n",
       "lp_in_name                                              0\n",
       "2lp_in_name                                             0\n",
       "assassin_in_name                                        0\n",
       "creed_in_name                                           0\n",
       "board_in_name                                           0\n",
       "soft_in_name                                            0\n",
       "figure_in_name                                          0\n",
       "figurine_in_name                                        0\n",
       "sat_in_name                                             0\n",
       "shirt_in_name                                           0\n",
       "delta_price_lag                                         0\n",
       "delta_revenue_lag_1                               1937408\n",
       "month                                                   0\n",
       "no_days_in_month                                        0\n",
       "item_shop_last_sale                                     0\n",
       "item_last_sale                                          0\n",
       "item_shop_first_sale                                    0\n",
       "item_first_sale                                         0\n",
       "dtype: int64"
      ]
     },
     "execution_count": 106,
     "metadata": {},
     "output_type": "execute_result"
    }
   ],
   "source": [
    "grid.isnull().sum(axis = 0)"
   ]
  },
  {
   "cell_type": "markdown",
   "metadata": {},
   "source": [
    "Fill NaNs in lag features with 0."
   ]
  },
  {
   "cell_type": "code",
   "execution_count": 107,
   "metadata": {},
   "outputs": [],
   "source": [
    "def fill_na_lag(df):\n",
    "    for col in df.columns:        \n",
    "        if ('lag' in col): \n",
    "            df[col].fillna(0, inplace = True)               \n",
    "    return df\n",
    "\n",
    "grid = fill_na_lag(grid)"
   ]
  },
  {
   "cell_type": "code",
   "execution_count": 108,
   "metadata": {
    "scrolled": false
   },
   "outputs": [
    {
     "data": {
      "text/plain": [
       "date_block_num                                          0\n",
       "shop_id                                                 0\n",
       "item_id                                                 0\n",
       "category_id                                             0\n",
       "item_name2                                              0\n",
       "item_name3                                              0\n",
       "item_name_first11                                       0\n",
       "item_category_id                                        0\n",
       "type_code                                               0\n",
       "subtype_code                                            0\n",
       "year                                                    0\n",
       "day_quality                                             0\n",
       "first_sale_day                                          0\n",
       "prev_days_on_sale                                       0\n",
       "item_age                                                0\n",
       "item_name_first4_age                                    0\n",
       "item_name_first6_age                                    0\n",
       "item_name_first11_age                                   0\n",
       "category_age                                            0\n",
       "type_age                                                0\n",
       "shop_age                                                0\n",
       "item_cnt_month_shop_item                                0\n",
       "item_cnt_month_shop_item_lag_1                          0\n",
       "item_cnt_month_shop_item_lag_2                          0\n",
       "item_cnt_month_shop_item_lag_3                          0\n",
       "item_cnt_month_shop_item_lag1to12                       0\n",
       "item_cnt_month_shop_item_unclipped_lag_1                0\n",
       "item_cnt_month_shop_item_unclipped_lag_2                0\n",
       "item_cnt_month_shop_item_unclipped_lag_3                0\n",
       "category_code                                           0\n",
       "city_code                                               0\n",
       "shop_cluster                                            0\n",
       "item_cnt_month_shop_item_mean_lag_1                     0\n",
       "item_cnt_month_shop_item_mean_lag_2                     0\n",
       "item_cnt_month_shop_item_mean_lag_3                     0\n",
       "item_price_month_shop_item_mean_lag_1                   0\n",
       "item_price_month_shop_item_mean_lag_2                   0\n",
       "item_price_month_shop_item_mean_lag_3                   0\n",
       "revenue_month_shop_item_lag_1                           0\n",
       "revenue_month_shop_item_lag_2                           0\n",
       "revenue_month_shop_item_lag_3                           0\n",
       "item_cnt_month_shop_item_mean_lag1to12                  0\n",
       "item_price_month_shop_item_mean_lag1to12                0\n",
       "revenue_month_shop_item_lag1to12                        0\n",
       "item_cnt_month_shop_mean_lag_1                          0\n",
       "item_cnt_month_shop_mean_lag_2                          0\n",
       "item_cnt_month_shop_mean_lag_3                          0\n",
       "item_price_month_shop_mean_lag_1                        0\n",
       "item_price_month_shop_mean_lag_2                        0\n",
       "item_price_month_shop_mean_lag_3                        0\n",
       "revenue_month_shop_lag_1                                0\n",
       "revenue_month_shop_lag_2                                0\n",
       "revenue_month_shop_lag_3                                0\n",
       "item_cnt_month_shop_mean_lag1to12                       0\n",
       "item_price_month_shop_mean_lag1to12                     0\n",
       "revenue_month_shop_lag1to12                             0\n",
       "item_cnt_month_item_mean_lag_1                          0\n",
       "item_cnt_month_item_mean_lag_2                          0\n",
       "item_cnt_month_item_mean_lag_3                          0\n",
       "item_price_month_item_mean_lag_1                        0\n",
       "item_price_month_item_mean_lag_2                        0\n",
       "item_price_month_item_mean_lag_3                        0\n",
       "revenue_month_item_lag_1                                0\n",
       "revenue_month_item_lag_2                                0\n",
       "revenue_month_item_lag_3                                0\n",
       "item_cnt_month_item_mean_lag1to12                       0\n",
       "item_price_month_item_mean_lag1to12                     0\n",
       "revenue_month_item_lag1to12                             0\n",
       "item_cnt_month_mean_lag_1                               0\n",
       "item_cnt_month_mean_lag_2                               0\n",
       "item_cnt_month_mean_lag_3                               0\n",
       "item_cnt_month_mean_lag1to12                            0\n",
       "item_cnt_month_item_cat_mean_lag_1                      0\n",
       "item_cnt_month_item_cat_mean_lag_2                      0\n",
       "item_cnt_month_item_cat_mean_lag_3                      0\n",
       "item_cnt_month_item_cat_mean_lag1to12                   0\n",
       "item_cnt_month_shop_item_cat_mean_lag_1                 0\n",
       "item_cnt_month_shop_item_cat_mean_lag_2                 0\n",
       "item_cnt_month_shop_item_cat_mean_lag_3                 0\n",
       "item_cnt_month_shop_item_cat_mean_lag1to12              0\n",
       "item_cnt_month_shop_type_code_mean_lag_1                0\n",
       "item_cnt_month_shop_type_code_mean_lag_2                0\n",
       "item_cnt_month_shop_type_code_mean_lag_3                0\n",
       "item_cnt_month_shop_type_code_mean_lag1to12             0\n",
       "item_cnt_month_shop_subtype_code_mean_lag_1             0\n",
       "item_cnt_month_shop_subtype_code_mean_lag_2             0\n",
       "item_cnt_month_shop_subtype_code_mean_lag_3             0\n",
       "item_cnt_month_shop_subtype_code_mean_lag1to12          0\n",
       "item_cnt_month_city_code_mean_lag_1                     0\n",
       "item_cnt_month_city_code_mean_lag_2                     0\n",
       "item_cnt_month_city_code_mean_lag_3                     0\n",
       "item_cnt_month_city_code_mean_lag1to12                  0\n",
       "item_cnt_month_shop_city_code_mean_lag_1                0\n",
       "item_cnt_month_shop_city_code_mean_lag_2                0\n",
       "item_cnt_month_shop_city_code_mean_lag_3                0\n",
       "item_cnt_month_shop_city_code_mean_lag1to12             0\n",
       "item_cnt_month_item_city_code_mean_lag_1                0\n",
       "item_cnt_month_item_city_code_mean_lag_2                0\n",
       "item_cnt_month_item_city_code_mean_lag_3                0\n",
       "item_cnt_month_item_city_code_mean_lag1to12             0\n",
       "item_cnt_month_type_code_mean_lag_1                     0\n",
       "item_cnt_month_type_code_mean_lag_2                     0\n",
       "item_cnt_month_type_code_mean_lag_3                     0\n",
       "item_cnt_month_type_code_mean_lag1to12                  0\n",
       "item_cnt_month_subtype_code_mean_lag_1                  0\n",
       "item_cnt_month_subtype_code_mean_lag_2                  0\n",
       "item_cnt_month_subtype_code_mean_lag_3                  0\n",
       "item_cnt_month_subtype_code_mean_lag1to12               0\n",
       "new_items_in_cat_lag_1                                  0\n",
       "new_items_in_cat_lag_2                                  0\n",
       "new_items_in_cat_lag_3                                  0\n",
       "new_items_in_cat_all_shops_lag_1                        0\n",
       "new_items_in_cat_all_shops_lag_2                        0\n",
       "new_items_in_cat_all_shops_lag_3                        0\n",
       "new_items_in_cat_lag1to12                               0\n",
       "new_items_in_cat_all_shops_lag1to12                     0\n",
       "category_price_lag_1                                    0\n",
       "category_price_lag_2                                    0\n",
       "category_price_lag_3                                    0\n",
       "block_price_lag_1                                       0\n",
       "block_price_lag_2                                       0\n",
       "block_price_lag_3                                       0\n",
       "item_cnt_month_shop_item_diff                     5596863\n",
       "item_cnt_month_item_mean_diff                     1933480\n",
       "item_cnt_month_shop_item_cat_mean_diff            2607049\n",
       "item_cnt_month_item_cat_mean_diff                 1933407\n",
       "last_item_price                                    531095\n",
       "item_cnt_month_shop_item_sum_alltime              4931674\n",
       "item_cnt_month_shop_item_sum_alltime_allshops      530535\n",
       "relative_price_item_block_lag1                          0\n",
       "item_cnt_per_day_alltime                                0\n",
       "item_cnt_per_day_alltime_allshops                       0\n",
       "same_name4catage_cnt_all_shops                    6661503\n",
       "same_name4catage_cnt                              8524706\n",
       "same_name6catage_cnt_all_shops                    6995899\n",
       "same_name6catage_cnt                              8713602\n",
       "same_name11catage_cnt_all_shops                   7380556\n",
       "same_name11catage_cnt                             9081274\n",
       "below_item_cnt_month_shop_item_unclipped_lag_1          0\n",
       "above_item_cnt_month_shop_item_unclipped_lag_1          0\n",
       "below_item_cnt_month_shop_item_lag1to12                 0\n",
       "above_item_cnt_month_shop_item_lag1to12                 0\n",
       "below_item_cnt_month_item_mean_lag_1                    0\n",
       "above_item_cnt_month_item_mean_lag_1                    0\n",
       "below_item_cnt_month_item_mean_lag1to12                 0\n",
       "above_item_cnt_month_item_mean_lag1to12                 0\n",
       "edition_in_name                                         0\n",
       "new_in_name                                             0\n",
       "love_in_name                                            0\n",
       "collection_in_name                                      0\n",
       "best_in_name                                            0\n",
       "russian_in_name                                         0\n",
       "from_in_name                                            0\n",
       "2cd_in_name                                             0\n",
       "1c_in_name                                              0\n",
       "war_in_name                                             0\n",
       "series_in_name                                          0\n",
       "audiobooks_in_name                                      0\n",
       "world_in_name                                           0\n",
       "issue_in_name                                           0\n",
       "live_in_name                                            0\n",
       "year_in_name                                            0\n",
       "black_in_name                                           0\n",
       "art_in_name                                             0\n",
       "time_in_name                                            0\n",
       "toy_in_name                                             0\n",
       "dvd_in_name                                             0\n",
       "set_in_name                                             0\n",
       "game_in_name                                            0\n",
       "season_in_name                                          0\n",
       "lp_in_name                                              0\n",
       "2lp_in_name                                             0\n",
       "assassin_in_name                                        0\n",
       "creed_in_name                                           0\n",
       "board_in_name                                           0\n",
       "soft_in_name                                            0\n",
       "figure_in_name                                          0\n",
       "figurine_in_name                                        0\n",
       "sat_in_name                                             0\n",
       "shirt_in_name                                           0\n",
       "delta_price_lag                                         0\n",
       "delta_revenue_lag_1                                     0\n",
       "month                                                   0\n",
       "no_days_in_month                                        0\n",
       "item_shop_last_sale                                     0\n",
       "item_last_sale                                          0\n",
       "item_shop_first_sale                                    0\n",
       "item_first_sale                                         0\n",
       "dtype: int64"
      ]
     },
     "execution_count": 108,
     "metadata": {},
     "output_type": "execute_result"
    }
   ],
   "source": [
    "grid.isnull().sum(axis = 0)"
   ]
  },
  {
   "cell_type": "code",
   "execution_count": 109,
   "metadata": {},
   "outputs": [
    {
     "data": {
      "text/plain": [
       "259"
      ]
     },
     "execution_count": 109,
     "metadata": {},
     "output_type": "execute_result"
    }
   ],
   "source": [
    "data = grid.copy()\n",
    "del grid\n",
    "gc.collect()"
   ]
  },
  {
   "cell_type": "markdown",
   "metadata": {},
   "source": [
    "Save the data in a pickle file."
   ]
  },
  {
   "cell_type": "code",
   "execution_count": 110,
   "metadata": {},
   "outputs": [],
   "source": [
    "data.to_pickle('data.pkl')"
   ]
  }
 ],
 "metadata": {
  "kernelspec": {
   "display_name": "Python 3",
   "language": "python",
   "name": "python3"
  },
  "language_info": {
   "codemirror_mode": {
    "name": "ipython",
    "version": 3
   },
   "file_extension": ".py",
   "mimetype": "text/x-python",
   "name": "python",
   "nbconvert_exporter": "python",
   "pygments_lexer": "ipython3",
   "version": "3.8.8"
  }
 },
 "nbformat": 4,
 "nbformat_minor": 4
}
